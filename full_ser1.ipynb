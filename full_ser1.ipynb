{
  "cells": [
    {
      "cell_type": "code",
      "execution_count": null,
      "metadata": {
        "id": "9ahydwl3cic1"
      },
      "outputs": [],
      "source": [
        "import numpy as np\n",
        "import pandas as pd\n",
        "import random"
      ]
    },
    {
      "cell_type": "code",
      "execution_count": null,
      "metadata": {
        "id": "_1TJ1KTdcj06"
      },
      "outputs": [],
      "source": [
        "def generate_example():\n",
        "    rptid = random.randint(1000,400000)\n",
        "    trdid = random.randint(20281004800, 40281004800)\n",
        "    trdtyp = random.choice([0, 1, 2, 3, 11, 15, 20, 29, 31, 45])\n",
        "    mtchid = random.randint(20281001777, 40281001777)\n",
        "    pxtyp = random.choice([2, 10])\n",
        "    lastqty = random.randint(10,100)\n",
        "    lastpx = random.choice([100, 370, 876, 250.45, 300.9, 540.698, 1050, 3590.59])\n",
        "    trdt = random.choice([\"2022-12-17\",\"2022-12-21\",\"2023-01-02\",\"2023-01-05\"])\n",
        "    bizdt = random.choice([\"2023-01-06\",\"2023-01-11\",\"2023-01-20\",\"2023-02-05\",\"2023-02-10\"])\n",
        "    t = random.choice([\"2023-02-15\",\"2023-02-21\",\"2023-03-20\",\"2023-03-30\"])\n",
        "    time1 = random.choice(['T05:17:30','T10:18:15','T12:25:13','T16:40:55'])\n",
        "    r1 = random.choice(['.100','.230','.326'])\n",
        "    r2 = random.choice(['.350','.470','.768'])\n",
        "    tz1 = random.choice(['-5:00','-6:00','-7:00'])\n",
        "    txntm= t+time1+r1+tz1\n",
        "    time2 = random.choice(['T17:30:55.600','T19:33:05.333','T22:03:12.436'])\n",
        "    snt1 = t+time1+r2+tz1\n",
        "    snt2 = t+time2+'+01:00'\n",
        "    snt3 = t+'T00:12:55.138'+tz1\n",
        "    snt4 = t+'T00:12:55.160'+tz1\n",
        "    sym = random.choice([\"BUI\",\"ABP\",\"TMP\"])\n",
        "    id5 = random.choice(['B','W','AS','LM','BUI','IP0'])\n",
        "    my = random.choice([\"2023-05\",\"2023-07\",\"2023-10\"])\n",
        "    mmy = my.replace('-','')\n",
        "    matdt = my+'-'+str(random.randint(1,28))\n",
        "    inptsrc = random.choice(['MA','EL','SY'])\n",
        "    clordid = random.choice(['123','134','145','146ZBT','245BTN','987NL','OrdAT'])\n",
        "    tid = random.choice(['ABCD','D210','B509','HBPL','TL98'])\n",
        "    id2 = random.choice(['Emira-115','Ahlem-110','Karim-200','Mohamed-300','acc-AT','bl-NL','Mariem','ahmed'])\n",
        "    typ = random.randint(20,30)\n",
        "    id3 = random.choice([\"FIRMACT1\",\"AKLPM9\",\"MPLAMP6\",\"00120007\",\"Hassen\",\"Ahlem\",'arij'])\n",
        "    custcpcty1 = random.randint(1,4)\n",
        "    custcpcty2 = random.randint(1,4)\n",
        "    ex = random.choice(['BTNL','SNTL','HDPL','XMGE'])\n",
        "    mult = random.choice([0.1, 0.2, 0.3, 0.4, 0.9, 1000, 2000, 5000, 300, 200, 50, 70])\n",
        "    pos1 = random.choice(['Y','N'])\n",
        "    pos3 = random.choice(['Y','N'])\n",
        "    cfi = random.choice(['FCCPXX','APYBKL','MKLPON','FCAPSX'])\n",
        "    pos2 = random.choice(['O','C'])\n",
        "    side = random.randint(1,2)\n",
        "    id26 = random.randint(1,2)\n",
        "    mlrty = random.randint(1,3)\n",
        "    alin = random.randint(0,1)\n",
        "    inpdev = random.choice(['PORTAL','EXCHANGE','API','CLEARING'])\n",
        "    id4 = random.randint(100,500)\n",
        "    id12 = random.choice(['100','200','400','A123','B115'])\n",
        "    cfi2 = random.choice(['FCCPXX','APYBKL','MKLPON','FCAPSX'])\n",
        "    return (\n",
        "        f\"\"\"<TrdCaptRpt RptID=\"{rptid}\" TrdID=\"{trdid}\" TransTyp=\"0\" RptTyp=\"2\" TrdTyp=\"{trdtyp}\" MtchID=\"{mtchid}\" PxTyp=\"{pxtyp}\" LastQty=\"{lastqty}\" LastPx=\"{lastpx}\" TrdDt=\"{trdt}\"\n",
        " BizDt=\"{bizdt}\" TxnTm=\"{txntm}\"><Hdr SID=\"MGEX\" TID=\"{tid}\" PosDup=\"{pos1}\" PosRsnd=\"{pos3}\" Snt=\"{snt1}\"></Hdr>\n",
        "<Instrmt Sym=\"{sym}\" ID=\"{id5}\" Src=\"H\" CFI=\"{cfi}\" MMY=\"{mmy}\" MatDt=\"{matdt}\" Mult=\"{mult}\" Exch=\"{ex}\"></Instrmt><RptSide Side=\"{side}\" Ccy=\"USD\" InptSrc=\"{inptsrc}\"\n",
        " InptDev=\"{inpdev}\" CustCpcty=\"{custcpcty1}\" PosEfct=\"{pos2}\" ClOrdID=\"{clordid}\" MLegRptTyp=\"{mlrty}\" AllocInd=\"{alin}\"><Pty ID=\"MGEX\" R=\"21\"></Pty><Pty ID=\"210\" R=\"1\"></Pty><Pty ID=\"{id4}\" R=\"4\"></Pty>\n",
        "<Pty ID=\"{id2}\" R=\"24\"><Sub ID=\"{id26}\" Typ=\"26\"></Sub></Pty><Pty ID=\"{id12}\" R=\"12\"></Pty><TrdRegTS TS=\"{txntm}\" Typ=\"1\">\n",
        "</TrdRegTS></RptSide></TrdCaptRpt>\"\"\".replace('\\n', ''),\n",
        "        f\"\"\"<TrdCaptRpt RptID=\"{trdid}\" TrdDt=\"{trdt}\" BizDt=\"{bizdt}\" TxnTm=\"{txntm}\" TrdID=\"{trdid}\" TransTyp=\"2\" RptTyp=\"0\" LastQty=\"{float(lastqty)}\"\n",
        " LastPx=\"{float(lastpx)}\"><Hdr Snt=\"{snt2}\" TID=\"MGEX\" SID=\"{tid}\"/><Instrmt Exch=\"{ex}\" ID=\"{id5}\" MMY=\"{mmy}\" CFI=\"{cfi2}\"/><RptSide Side=\"{side}\" CustCpcty=\"{custcpcty2}\">\n",
        "<Pty ID=\"210\" R=\"1\"/><Pty ID=\"{id3}\" R=\"24\"><Sub ID=\"{id26}\" Typ=\"26\"/></Pty></RptSide></TrdCaptRpt>\"\"\".replace('\\n', ''),\n",
        "\n",
        "        f\"\"\"<TrdCaptRpt RptID=\"580198\" TrdID=\"{trdid}\" TransTyp=\"2\" RptTyp=\"2\" TrdTyp=\"{trdtyp}\" MtchID=\"{mtchid}\" PxTyp=\"{pxtyp}\" LastQty=\"{lastqty}\" LastPx=\"{lastpx}\" TrdDt=\"{trdt}\"\n",
        " BizDt=\"{bizdt}\" TxnTm=\"{snt3}\"><Hdr SID=\"MGEX\" TID=\"{tid}\" PosDup=\"{pos1}\" PosRsnd=\"{pos3}\" Snt=\"{snt4}\"></Hdr>\n",
        "<Instrmt Sym=\"{sym}\" ID=\"{id5}\" Src=\"H\" CFI=\"{cfi}\" MMY=\"{mmy}\" MatDt=\"{matdt}\" Mult=\"{mult}\" Exch=\"{ex}\"></Instrmt><RptSide Side=\"{side}\" Ccy=\"USD\" InptSrc=\"{inptsrc}\"\n",
        " InptDev=\"{inpdev}\" CustCpcty=\"{custcpcty2}\" PosEfct=\"{pos2}\" ClOrdID=\"{clordid}\" MLegRptTyp=\"{mlrty}\" AllocInd=\"{alin}\"><Pty ID=\"MGEX\" R=\"21\"></Pty><Pty ID=\"210\" R=\"1\"></Pty><Pty ID=\"{id4}\" R=\"4\"></Pty>\n",
        "<Pty ID=\"{id3}\" R=\"24\"><Sub ID=\"{id26}\" Typ=\"26\"></Sub></Pty><Pty ID=\"{id12}\" R=\"12\"></Pty><TrdRegTS TS=\"{txntm}\" Typ=\"1\"></TrdRegTS></RptSide>\n",
        "</TrdCaptRpt>\"\"\".replace('\\n', '')\n",
        "    )"
      ]
    },
    {
      "cell_type": "code",
      "execution_count": null,
      "metadata": {
        "id": "fREVWJw5giZX"
      },
      "outputs": [],
      "source": [
        "dataset = [generate_example() for _ in range(1000)]"
      ]
    },
    {
      "cell_type": "code",
      "execution_count": null,
      "metadata": {
        "colab": {
          "base_uri": "https://localhost:8080/",
          "height": 105
        },
        "id": "14hCBkB0glA3",
        "outputId": "cea24f48-a32d-4774-80ff-e35653d455b0"
      },
      "outputs": [
        {
          "data": {
            "application/vnd.google.colaboratory.intrinsic+json": {
              "type": "string"
            },
            "text/plain": [
              "'<TrdCaptRpt RptID=\"285353\" TrdID=\"38385799331\" TransTyp=\"0\" RptTyp=\"2\" TrdTyp=\"45\" MtchID=\"24363781904\" PxTyp=\"10\" LastQty=\"14\" LastPx=\"370\" TrdDt=\"2023-01-05\" BizDt=\"2023-01-20\" TxnTm=\"2023-02-21T16:40:55.326-6:00\"><Hdr SID=\"MGEX\" TID=\"B509\" PosDup=\"N\" PosRsnd=\"Y\" Snt=\"2023-02-21T16:40:55.470-6:00\"></Hdr><Instrmt Sym=\"ABP\" ID=\"LM\" Src=\"H\" CFI=\"FCAPSX\" MMY=\"202305\" MatDt=\"2023-05-28\" Mult=\"5000\" Exch=\"BTNL\"></Instrmt><RptSide Side=\"2\" Ccy=\"USD\" InptSrc=\"MA\" InptDev=\"API\" CustCpcty=\"3\" PosEfct=\"C\" ClOrdID=\"245BTN\" MLegRptTyp=\"3\" AllocInd=\"0\"><Pty ID=\"MGEX\" R=\"21\"></Pty><Pty ID=\"210\" R=\"1\"></Pty><Pty ID=\"437\" R=\"4\"></Pty><Pty ID=\"Ahlem-110\" R=\"24\"><Sub ID=\"1\" Typ=\"26\"></Sub></Pty><Pty ID=\"B115\" R=\"12\"></Pty><TrdRegTS TS=\"2023-02-21T16:40:55.326-6:00\" Typ=\"1\"></TrdRegTS></RptSide></TrdCaptRpt>'"
            ]
          },
          "execution_count": 4,
          "metadata": {},
          "output_type": "execute_result"
        }
      ],
      "source": [
        "dataset[0][0]"
      ]
    },
    {
      "cell_type": "code",
      "execution_count": null,
      "metadata": {
        "colab": {
          "base_uri": "https://localhost:8080/",
          "height": 70
        },
        "id": "vTS66iW-gnIN",
        "outputId": "a06fdc42-2054-4d1e-84a7-93d6c6a742df"
      },
      "outputs": [
        {
          "data": {
            "application/vnd.google.colaboratory.intrinsic+json": {
              "type": "string"
            },
            "text/plain": [
              "'<TrdCaptRpt RptID=\"38385799331\" TrdDt=\"2023-01-05\" BizDt=\"2023-01-20\" TxnTm=\"2023-02-21T16:40:55.326-6:00\" TrdID=\"38385799331\" TransTyp=\"2\" RptTyp=\"0\" LastQty=\"14.0\" LastPx=\"370.0\"><Hdr Snt=\"2023-02-21T17:30:55.600+01:00\" TID=\"MGEX\" SID=\"B509\"/><Instrmt Exch=\"BTNL\" ID=\"LM\" MMY=\"202305\" CFI=\"APYBKL\"/><RptSide Side=\"2\" CustCpcty=\"3\"><Pty ID=\"210\" R=\"1\"/><Pty ID=\"Ahlem\" R=\"24\"><Sub ID=\"1\" Typ=\"26\"/></Pty></RptSide></TrdCaptRpt>'"
            ]
          },
          "execution_count": 5,
          "metadata": {},
          "output_type": "execute_result"
        }
      ],
      "source": [
        "dataset[0][1]"
      ]
    },
    {
      "cell_type": "code",
      "execution_count": null,
      "metadata": {
        "colab": {
          "base_uri": "https://localhost:8080/",
          "height": 105
        },
        "id": "hW2D_NpxgpNw",
        "outputId": "e5fe8274-dca7-4dbd-c9ee-bdee6ef0cab4"
      },
      "outputs": [
        {
          "data": {
            "application/vnd.google.colaboratory.intrinsic+json": {
              "type": "string"
            },
            "text/plain": [
              "'<TrdCaptRpt RptID=\"580198\" TrdID=\"38385799331\" TransTyp=\"2\" RptTyp=\"2\" TrdTyp=\"45\" MtchID=\"24363781904\" PxTyp=\"10\" LastQty=\"14\" LastPx=\"370\" TrdDt=\"2023-01-05\" BizDt=\"2023-01-20\" TxnTm=\"2023-02-21T00:12:55.138-6:00\"><Hdr SID=\"MGEX\" TID=\"B509\" PosDup=\"N\" PosRsnd=\"Y\" Snt=\"2023-02-21T00:12:55.160-6:00\"></Hdr><Instrmt Sym=\"ABP\" ID=\"LM\" Src=\"H\" CFI=\"FCAPSX\" MMY=\"202305\" MatDt=\"2023-05-28\" Mult=\"5000\" Exch=\"BTNL\"></Instrmt><RptSide Side=\"2\" Ccy=\"USD\" InptSrc=\"MA\" InptDev=\"API\" CustCpcty=\"3\" PosEfct=\"C\" ClOrdID=\"245BTN\" MLegRptTyp=\"3\" AllocInd=\"0\"><Pty ID=\"MGEX\" R=\"21\"></Pty><Pty ID=\"210\" R=\"1\"></Pty><Pty ID=\"437\" R=\"4\"></Pty><Pty ID=\"Ahlem\" R=\"24\"><Sub ID=\"1\" Typ=\"26\"></Sub></Pty><Pty ID=\"B115\" R=\"12\"></Pty><TrdRegTS TS=\"2023-02-21T16:40:55.326-6:00\" Typ=\"1\"></TrdRegTS></RptSide></TrdCaptRpt>'"
            ]
          },
          "execution_count": 6,
          "metadata": {},
          "output_type": "execute_result"
        }
      ],
      "source": [
        "dataset[0][2]"
      ]
    },
    {
      "cell_type": "code",
      "execution_count": null,
      "metadata": {
        "colab": {
          "base_uri": "https://localhost:8080/",
          "height": 206
        },
        "id": "1aZf9tT0gq8H",
        "outputId": "a45389fe-a361-423a-9de7-dba1e06a9ecf"
      },
      "outputs": [
        {
          "data": {
            "application/vnd.google.colaboratory.intrinsic+json": {
              "summary": "{\n  \"name\": \"df\",\n  \"rows\": 1000,\n  \"fields\": [\n    {\n      \"column\": \"Trade_message\",\n      \"properties\": {\n        \"dtype\": \"string\",\n        \"num_unique_values\": 1000,\n        \"samples\": [\n          \"<TrdCaptRpt RptID=\\\"275205\\\" TrdID=\\\"20991691514\\\" TransTyp=\\\"0\\\" RptTyp=\\\"2\\\" TrdTyp=\\\"3\\\" MtchID=\\\"30851585027\\\" PxTyp=\\\"10\\\" LastQty=\\\"60\\\" LastPx=\\\"370\\\" TrdDt=\\\"2023-01-02\\\" BizDt=\\\"2023-01-06\\\" TxnTm=\\\"2023-03-20T05:17:30.326-7:00\\\"><Hdr SID=\\\"MGEX\\\" TID=\\\"HBPL\\\" PosDup=\\\"N\\\" PosRsnd=\\\"N\\\" Snt=\\\"2023-03-20T05:17:30.350-7:00\\\"></Hdr><Instrmt Sym=\\\"TMP\\\" ID=\\\"BUI\\\" Src=\\\"H\\\" CFI=\\\"MKLPON\\\" MMY=\\\"202307\\\" MatDt=\\\"2023-07-1\\\" Mult=\\\"0.3\\\" Exch=\\\"SNTL\\\"></Instrmt><RptSide Side=\\\"1\\\" Ccy=\\\"USD\\\" InptSrc=\\\"SY\\\" InptDev=\\\"PORTAL\\\" CustCpcty=\\\"2\\\" PosEfct=\\\"O\\\" ClOrdID=\\\"145\\\" MLegRptTyp=\\\"1\\\" AllocInd=\\\"1\\\"><Pty ID=\\\"MGEX\\\" R=\\\"21\\\"></Pty><Pty ID=\\\"210\\\" R=\\\"1\\\"></Pty><Pty ID=\\\"104\\\" R=\\\"4\\\"></Pty><Pty ID=\\\"Ahlem-110\\\" R=\\\"24\\\"><Sub ID=\\\"1\\\" Typ=\\\"26\\\"></Sub></Pty><Pty ID=\\\"200\\\" R=\\\"12\\\"></Pty><TrdRegTS TS=\\\"2023-03-20T05:17:30.326-7:00\\\" Typ=\\\"1\\\"></TrdRegTS></RptSide></TrdCaptRpt>\",\n          \"<TrdCaptRpt RptID=\\\"22741\\\" TrdID=\\\"25365059748\\\" TransTyp=\\\"0\\\" RptTyp=\\\"2\\\" TrdTyp=\\\"45\\\" MtchID=\\\"37109305140\\\" PxTyp=\\\"2\\\" LastQty=\\\"49\\\" LastPx=\\\"370\\\" TrdDt=\\\"2022-12-17\\\" BizDt=\\\"2023-02-10\\\" TxnTm=\\\"2023-02-15T10:18:15.100-7:00\\\"><Hdr SID=\\\"MGEX\\\" TID=\\\"B509\\\" PosDup=\\\"Y\\\" PosRsnd=\\\"Y\\\" Snt=\\\"2023-02-15T10:18:15.350-7:00\\\"></Hdr><Instrmt Sym=\\\"BUI\\\" ID=\\\"IP0\\\" Src=\\\"H\\\" CFI=\\\"FCCPXX\\\" MMY=\\\"202305\\\" MatDt=\\\"2023-05-26\\\" Mult=\\\"300\\\" Exch=\\\"HDPL\\\"></Instrmt><RptSide Side=\\\"1\\\" Ccy=\\\"USD\\\" InptSrc=\\\"EL\\\" InptDev=\\\"EXCHANGE\\\" CustCpcty=\\\"3\\\" PosEfct=\\\"O\\\" ClOrdID=\\\"123\\\" MLegRptTyp=\\\"1\\\" AllocInd=\\\"1\\\"><Pty ID=\\\"MGEX\\\" R=\\\"21\\\"></Pty><Pty ID=\\\"210\\\" R=\\\"1\\\"></Pty><Pty ID=\\\"498\\\" R=\\\"4\\\"></Pty><Pty ID=\\\"Karim-200\\\" R=\\\"24\\\"><Sub ID=\\\"2\\\" Typ=\\\"26\\\"></Sub></Pty><Pty ID=\\\"100\\\" R=\\\"12\\\"></Pty><TrdRegTS TS=\\\"2023-02-15T10:18:15.100-7:00\\\" Typ=\\\"1\\\"></TrdRegTS></RptSide></TrdCaptRpt>\",\n          \"<TrdCaptRpt RptID=\\\"356647\\\" TrdID=\\\"35631846916\\\" TransTyp=\\\"0\\\" RptTyp=\\\"2\\\" TrdTyp=\\\"31\\\" MtchID=\\\"25323547373\\\" PxTyp=\\\"2\\\" LastQty=\\\"100\\\" LastPx=\\\"876\\\" TrdDt=\\\"2023-01-05\\\" BizDt=\\\"2023-02-05\\\" TxnTm=\\\"2023-02-15T05:17:30.230-6:00\\\"><Hdr SID=\\\"MGEX\\\" TID=\\\"ABCD\\\" PosDup=\\\"N\\\" PosRsnd=\\\"N\\\" Snt=\\\"2023-02-15T05:17:30.350-6:00\\\"></Hdr><Instrmt Sym=\\\"TMP\\\" ID=\\\"BUI\\\" Src=\\\"H\\\" CFI=\\\"FCAPSX\\\" MMY=\\\"202305\\\" MatDt=\\\"2023-05-24\\\" Mult=\\\"0.2\\\" Exch=\\\"SNTL\\\"></Instrmt><RptSide Side=\\\"2\\\" Ccy=\\\"USD\\\" InptSrc=\\\"EL\\\" InptDev=\\\"EXCHANGE\\\" CustCpcty=\\\"2\\\" PosEfct=\\\"C\\\" ClOrdID=\\\"145\\\" MLegRptTyp=\\\"2\\\" AllocInd=\\\"0\\\"><Pty ID=\\\"MGEX\\\" R=\\\"21\\\"></Pty><Pty ID=\\\"210\\\" R=\\\"1\\\"></Pty><Pty ID=\\\"321\\\" R=\\\"4\\\"></Pty><Pty ID=\\\"Karim-200\\\" R=\\\"24\\\"><Sub ID=\\\"1\\\" Typ=\\\"26\\\"></Sub></Pty><Pty ID=\\\"A123\\\" R=\\\"12\\\"></Pty><TrdRegTS TS=\\\"2023-02-15T05:17:30.230-6:00\\\" Typ=\\\"1\\\"></TrdRegTS></RptSide></TrdCaptRpt>\"\n        ],\n        \"semantic_type\": \"\",\n        \"description\": \"\"\n      }\n    },\n    {\n      \"column\": \"SGW_Operation\",\n      \"properties\": {\n        \"dtype\": \"string\",\n        \"num_unique_values\": 1000,\n        \"samples\": [\n          \"<TrdCaptRpt RptID=\\\"20991691514\\\" TrdDt=\\\"2023-01-02\\\" BizDt=\\\"2023-01-06\\\" TxnTm=\\\"2023-03-20T05:17:30.326-7:00\\\" TrdID=\\\"20991691514\\\" TransTyp=\\\"2\\\" RptTyp=\\\"0\\\" LastQty=\\\"60.0\\\" LastPx=\\\"370.0\\\"><Hdr Snt=\\\"2023-03-20T22:03:12.436+01:00\\\" TID=\\\"MGEX\\\" SID=\\\"HBPL\\\"/><Instrmt Exch=\\\"SNTL\\\" ID=\\\"BUI\\\" MMY=\\\"202307\\\" CFI=\\\"APYBKL\\\"/><RptSide Side=\\\"1\\\" CustCpcty=\\\"4\\\"><Pty ID=\\\"210\\\" R=\\\"1\\\"/><Pty ID=\\\"Hassen\\\" R=\\\"24\\\"><Sub ID=\\\"1\\\" Typ=\\\"26\\\"/></Pty></RptSide></TrdCaptRpt>\",\n          \"<TrdCaptRpt RptID=\\\"25365059748\\\" TrdDt=\\\"2022-12-17\\\" BizDt=\\\"2023-02-10\\\" TxnTm=\\\"2023-02-15T10:18:15.100-7:00\\\" TrdID=\\\"25365059748\\\" TransTyp=\\\"2\\\" RptTyp=\\\"0\\\" LastQty=\\\"49.0\\\" LastPx=\\\"370.0\\\"><Hdr Snt=\\\"2023-02-15T22:03:12.436+01:00\\\" TID=\\\"MGEX\\\" SID=\\\"B509\\\"/><Instrmt Exch=\\\"HDPL\\\" ID=\\\"IP0\\\" MMY=\\\"202305\\\" CFI=\\\"APYBKL\\\"/><RptSide Side=\\\"1\\\" CustCpcty=\\\"4\\\"><Pty ID=\\\"210\\\" R=\\\"1\\\"/><Pty ID=\\\"FIRMACT1\\\" R=\\\"24\\\"><Sub ID=\\\"2\\\" Typ=\\\"26\\\"/></Pty></RptSide></TrdCaptRpt>\",\n          \"<TrdCaptRpt RptID=\\\"35631846916\\\" TrdDt=\\\"2023-01-05\\\" BizDt=\\\"2023-02-05\\\" TxnTm=\\\"2023-02-15T05:17:30.230-6:00\\\" TrdID=\\\"35631846916\\\" TransTyp=\\\"2\\\" RptTyp=\\\"0\\\" LastQty=\\\"100.0\\\" LastPx=\\\"876.0\\\"><Hdr Snt=\\\"2023-02-15T19:33:05.333+01:00\\\" TID=\\\"MGEX\\\" SID=\\\"ABCD\\\"/><Instrmt Exch=\\\"SNTL\\\" ID=\\\"BUI\\\" MMY=\\\"202305\\\" CFI=\\\"FCAPSX\\\"/><RptSide Side=\\\"2\\\" CustCpcty=\\\"3\\\"><Pty ID=\\\"210\\\" R=\\\"1\\\"/><Pty ID=\\\"00120007\\\" R=\\\"24\\\"><Sub ID=\\\"1\\\" Typ=\\\"26\\\"/></Pty></RptSide></TrdCaptRpt>\"\n        ],\n        \"semantic_type\": \"\",\n        \"description\": \"\"\n      }\n    },\n    {\n      \"column\": \"CCP_Message\",\n      \"properties\": {\n        \"dtype\": \"string\",\n        \"num_unique_values\": 1000,\n        \"samples\": [\n          \"<TrdCaptRpt RptID=\\\"580198\\\" TrdID=\\\"20991691514\\\" TransTyp=\\\"2\\\" RptTyp=\\\"2\\\" TrdTyp=\\\"3\\\" MtchID=\\\"30851585027\\\" PxTyp=\\\"10\\\" LastQty=\\\"60\\\" LastPx=\\\"370\\\" TrdDt=\\\"2023-01-02\\\" BizDt=\\\"2023-01-06\\\" TxnTm=\\\"2023-03-20T00:12:55.138-7:00\\\"><Hdr SID=\\\"MGEX\\\" TID=\\\"HBPL\\\" PosDup=\\\"N\\\" PosRsnd=\\\"N\\\" Snt=\\\"2023-03-20T00:12:55.160-7:00\\\"></Hdr><Instrmt Sym=\\\"TMP\\\" ID=\\\"BUI\\\" Src=\\\"H\\\" CFI=\\\"MKLPON\\\" MMY=\\\"202307\\\" MatDt=\\\"2023-07-1\\\" Mult=\\\"0.3\\\" Exch=\\\"SNTL\\\"></Instrmt><RptSide Side=\\\"1\\\" Ccy=\\\"USD\\\" InptSrc=\\\"SY\\\" InptDev=\\\"PORTAL\\\" CustCpcty=\\\"4\\\" PosEfct=\\\"O\\\" ClOrdID=\\\"145\\\" MLegRptTyp=\\\"1\\\" AllocInd=\\\"1\\\"><Pty ID=\\\"MGEX\\\" R=\\\"21\\\"></Pty><Pty ID=\\\"210\\\" R=\\\"1\\\"></Pty><Pty ID=\\\"104\\\" R=\\\"4\\\"></Pty><Pty ID=\\\"Hassen\\\" R=\\\"24\\\"><Sub ID=\\\"1\\\" Typ=\\\"26\\\"></Sub></Pty><Pty ID=\\\"200\\\" R=\\\"12\\\"></Pty><TrdRegTS TS=\\\"2023-03-20T05:17:30.326-7:00\\\" Typ=\\\"1\\\"></TrdRegTS></RptSide></TrdCaptRpt>\",\n          \"<TrdCaptRpt RptID=\\\"580198\\\" TrdID=\\\"25365059748\\\" TransTyp=\\\"2\\\" RptTyp=\\\"2\\\" TrdTyp=\\\"45\\\" MtchID=\\\"37109305140\\\" PxTyp=\\\"2\\\" LastQty=\\\"49\\\" LastPx=\\\"370\\\" TrdDt=\\\"2022-12-17\\\" BizDt=\\\"2023-02-10\\\" TxnTm=\\\"2023-02-15T00:12:55.138-7:00\\\"><Hdr SID=\\\"MGEX\\\" TID=\\\"B509\\\" PosDup=\\\"Y\\\" PosRsnd=\\\"Y\\\" Snt=\\\"2023-02-15T00:12:55.160-7:00\\\"></Hdr><Instrmt Sym=\\\"BUI\\\" ID=\\\"IP0\\\" Src=\\\"H\\\" CFI=\\\"FCCPXX\\\" MMY=\\\"202305\\\" MatDt=\\\"2023-05-26\\\" Mult=\\\"300\\\" Exch=\\\"HDPL\\\"></Instrmt><RptSide Side=\\\"1\\\" Ccy=\\\"USD\\\" InptSrc=\\\"EL\\\" InptDev=\\\"EXCHANGE\\\" CustCpcty=\\\"4\\\" PosEfct=\\\"O\\\" ClOrdID=\\\"123\\\" MLegRptTyp=\\\"1\\\" AllocInd=\\\"1\\\"><Pty ID=\\\"MGEX\\\" R=\\\"21\\\"></Pty><Pty ID=\\\"210\\\" R=\\\"1\\\"></Pty><Pty ID=\\\"498\\\" R=\\\"4\\\"></Pty><Pty ID=\\\"FIRMACT1\\\" R=\\\"24\\\"><Sub ID=\\\"2\\\" Typ=\\\"26\\\"></Sub></Pty><Pty ID=\\\"100\\\" R=\\\"12\\\"></Pty><TrdRegTS TS=\\\"2023-02-15T10:18:15.100-7:00\\\" Typ=\\\"1\\\"></TrdRegTS></RptSide></TrdCaptRpt>\",\n          \"<TrdCaptRpt RptID=\\\"580198\\\" TrdID=\\\"35631846916\\\" TransTyp=\\\"2\\\" RptTyp=\\\"2\\\" TrdTyp=\\\"31\\\" MtchID=\\\"25323547373\\\" PxTyp=\\\"2\\\" LastQty=\\\"100\\\" LastPx=\\\"876\\\" TrdDt=\\\"2023-01-05\\\" BizDt=\\\"2023-02-05\\\" TxnTm=\\\"2023-02-15T00:12:55.138-6:00\\\"><Hdr SID=\\\"MGEX\\\" TID=\\\"ABCD\\\" PosDup=\\\"N\\\" PosRsnd=\\\"N\\\" Snt=\\\"2023-02-15T00:12:55.160-6:00\\\"></Hdr><Instrmt Sym=\\\"TMP\\\" ID=\\\"BUI\\\" Src=\\\"H\\\" CFI=\\\"FCAPSX\\\" MMY=\\\"202305\\\" MatDt=\\\"2023-05-24\\\" Mult=\\\"0.2\\\" Exch=\\\"SNTL\\\"></Instrmt><RptSide Side=\\\"2\\\" Ccy=\\\"USD\\\" InptSrc=\\\"EL\\\" InptDev=\\\"EXCHANGE\\\" CustCpcty=\\\"3\\\" PosEfct=\\\"C\\\" ClOrdID=\\\"145\\\" MLegRptTyp=\\\"2\\\" AllocInd=\\\"0\\\"><Pty ID=\\\"MGEX\\\" R=\\\"21\\\"></Pty><Pty ID=\\\"210\\\" R=\\\"1\\\"></Pty><Pty ID=\\\"321\\\" R=\\\"4\\\"></Pty><Pty ID=\\\"00120007\\\" R=\\\"24\\\"><Sub ID=\\\"1\\\" Typ=\\\"26\\\"></Sub></Pty><Pty ID=\\\"A123\\\" R=\\\"12\\\"></Pty><TrdRegTS TS=\\\"2023-02-15T05:17:30.230-6:00\\\" Typ=\\\"1\\\"></TrdRegTS></RptSide></TrdCaptRpt>\"\n        ],\n        \"semantic_type\": \"\",\n        \"description\": \"\"\n      }\n    }\n  ]\n}",
              "type": "dataframe",
              "variable_name": "df"
            },
            "text/html": [
              "\n",
              "  <div id=\"df-35c1da5d-6677-435a-aa26-de765ebd2be2\" class=\"colab-df-container\">\n",
              "    <div>\n",
              "<style scoped>\n",
              "    .dataframe tbody tr th:only-of-type {\n",
              "        vertical-align: middle;\n",
              "    }\n",
              "\n",
              "    .dataframe tbody tr th {\n",
              "        vertical-align: top;\n",
              "    }\n",
              "\n",
              "    .dataframe thead th {\n",
              "        text-align: right;\n",
              "    }\n",
              "</style>\n",
              "<table border=\"1\" class=\"dataframe\">\n",
              "  <thead>\n",
              "    <tr style=\"text-align: right;\">\n",
              "      <th></th>\n",
              "      <th>Trade_message</th>\n",
              "      <th>SGW_Operation</th>\n",
              "      <th>CCP_Message</th>\n",
              "    </tr>\n",
              "  </thead>\n",
              "  <tbody>\n",
              "    <tr>\n",
              "      <th>0</th>\n",
              "      <td>&lt;TrdCaptRpt RptID=\"285353\" TrdID=\"38385799331\"...</td>\n",
              "      <td>&lt;TrdCaptRpt RptID=\"38385799331\" TrdDt=\"2023-01...</td>\n",
              "      <td>&lt;TrdCaptRpt RptID=\"580198\" TrdID=\"38385799331\"...</td>\n",
              "    </tr>\n",
              "    <tr>\n",
              "      <th>1</th>\n",
              "      <td>&lt;TrdCaptRpt RptID=\"332874\" TrdID=\"38703724873\"...</td>\n",
              "      <td>&lt;TrdCaptRpt RptID=\"38703724873\" TrdDt=\"2023-01...</td>\n",
              "      <td>&lt;TrdCaptRpt RptID=\"580198\" TrdID=\"38703724873\"...</td>\n",
              "    </tr>\n",
              "    <tr>\n",
              "      <th>2</th>\n",
              "      <td>&lt;TrdCaptRpt RptID=\"57243\" TrdID=\"29140627371\" ...</td>\n",
              "      <td>&lt;TrdCaptRpt RptID=\"29140627371\" TrdDt=\"2022-12...</td>\n",
              "      <td>&lt;TrdCaptRpt RptID=\"580198\" TrdID=\"29140627371\"...</td>\n",
              "    </tr>\n",
              "    <tr>\n",
              "      <th>3</th>\n",
              "      <td>&lt;TrdCaptRpt RptID=\"169564\" TrdID=\"38678625887\"...</td>\n",
              "      <td>&lt;TrdCaptRpt RptID=\"38678625887\" TrdDt=\"2022-12...</td>\n",
              "      <td>&lt;TrdCaptRpt RptID=\"580198\" TrdID=\"38678625887\"...</td>\n",
              "    </tr>\n",
              "    <tr>\n",
              "      <th>4</th>\n",
              "      <td>&lt;TrdCaptRpt RptID=\"182141\" TrdID=\"34041639428\"...</td>\n",
              "      <td>&lt;TrdCaptRpt RptID=\"34041639428\" TrdDt=\"2023-01...</td>\n",
              "      <td>&lt;TrdCaptRpt RptID=\"580198\" TrdID=\"34041639428\"...</td>\n",
              "    </tr>\n",
              "  </tbody>\n",
              "</table>\n",
              "</div>\n",
              "    <div class=\"colab-df-buttons\">\n",
              "\n",
              "  <div class=\"colab-df-container\">\n",
              "    <button class=\"colab-df-convert\" onclick=\"convertToInteractive('df-35c1da5d-6677-435a-aa26-de765ebd2be2')\"\n",
              "            title=\"Convert this dataframe to an interactive table.\"\n",
              "            style=\"display:none;\">\n",
              "\n",
              "  <svg xmlns=\"http://www.w3.org/2000/svg\" height=\"24px\" viewBox=\"0 -960 960 960\">\n",
              "    <path d=\"M120-120v-720h720v720H120Zm60-500h600v-160H180v160Zm220 220h160v-160H400v160Zm0 220h160v-160H400v160ZM180-400h160v-160H180v160Zm440 0h160v-160H620v160ZM180-180h160v-160H180v160Zm440 0h160v-160H620v160Z\"/>\n",
              "  </svg>\n",
              "    </button>\n",
              "\n",
              "  <style>\n",
              "    .colab-df-container {\n",
              "      display:flex;\n",
              "      gap: 12px;\n",
              "    }\n",
              "\n",
              "    .colab-df-convert {\n",
              "      background-color: #E8F0FE;\n",
              "      border: none;\n",
              "      border-radius: 50%;\n",
              "      cursor: pointer;\n",
              "      display: none;\n",
              "      fill: #1967D2;\n",
              "      height: 32px;\n",
              "      padding: 0 0 0 0;\n",
              "      width: 32px;\n",
              "    }\n",
              "\n",
              "    .colab-df-convert:hover {\n",
              "      background-color: #E2EBFA;\n",
              "      box-shadow: 0px 1px 2px rgba(60, 64, 67, 0.3), 0px 1px 3px 1px rgba(60, 64, 67, 0.15);\n",
              "      fill: #174EA6;\n",
              "    }\n",
              "\n",
              "    .colab-df-buttons div {\n",
              "      margin-bottom: 4px;\n",
              "    }\n",
              "\n",
              "    [theme=dark] .colab-df-convert {\n",
              "      background-color: #3B4455;\n",
              "      fill: #D2E3FC;\n",
              "    }\n",
              "\n",
              "    [theme=dark] .colab-df-convert:hover {\n",
              "      background-color: #434B5C;\n",
              "      box-shadow: 0px 1px 3px 1px rgba(0, 0, 0, 0.15);\n",
              "      filter: drop-shadow(0px 1px 2px rgba(0, 0, 0, 0.3));\n",
              "      fill: #FFFFFF;\n",
              "    }\n",
              "  </style>\n",
              "\n",
              "    <script>\n",
              "      const buttonEl =\n",
              "        document.querySelector('#df-35c1da5d-6677-435a-aa26-de765ebd2be2 button.colab-df-convert');\n",
              "      buttonEl.style.display =\n",
              "        google.colab.kernel.accessAllowed ? 'block' : 'none';\n",
              "\n",
              "      async function convertToInteractive(key) {\n",
              "        const element = document.querySelector('#df-35c1da5d-6677-435a-aa26-de765ebd2be2');\n",
              "        const dataTable =\n",
              "          await google.colab.kernel.invokeFunction('convertToInteractive',\n",
              "                                                    [key], {});\n",
              "        if (!dataTable) return;\n",
              "\n",
              "        const docLinkHtml = 'Like what you see? Visit the ' +\n",
              "          '<a target=\"_blank\" href=https://colab.research.google.com/notebooks/data_table.ipynb>data table notebook</a>'\n",
              "          + ' to learn more about interactive tables.';\n",
              "        element.innerHTML = '';\n",
              "        dataTable['output_type'] = 'display_data';\n",
              "        await google.colab.output.renderOutput(dataTable, element);\n",
              "        const docLink = document.createElement('div');\n",
              "        docLink.innerHTML = docLinkHtml;\n",
              "        element.appendChild(docLink);\n",
              "      }\n",
              "    </script>\n",
              "  </div>\n",
              "\n",
              "\n",
              "<div id=\"df-eb5469ab-73ef-42b6-ba08-339f6cdb5528\">\n",
              "  <button class=\"colab-df-quickchart\" onclick=\"quickchart('df-eb5469ab-73ef-42b6-ba08-339f6cdb5528')\"\n",
              "            title=\"Suggest charts\"\n",
              "            style=\"display:none;\">\n",
              "\n",
              "<svg xmlns=\"http://www.w3.org/2000/svg\" height=\"24px\"viewBox=\"0 0 24 24\"\n",
              "     width=\"24px\">\n",
              "    <g>\n",
              "        <path d=\"M19 3H5c-1.1 0-2 .9-2 2v14c0 1.1.9 2 2 2h14c1.1 0 2-.9 2-2V5c0-1.1-.9-2-2-2zM9 17H7v-7h2v7zm4 0h-2V7h2v10zm4 0h-2v-4h2v4z\"/>\n",
              "    </g>\n",
              "</svg>\n",
              "  </button>\n",
              "\n",
              "<style>\n",
              "  .colab-df-quickchart {\n",
              "      --bg-color: #E8F0FE;\n",
              "      --fill-color: #1967D2;\n",
              "      --hover-bg-color: #E2EBFA;\n",
              "      --hover-fill-color: #174EA6;\n",
              "      --disabled-fill-color: #AAA;\n",
              "      --disabled-bg-color: #DDD;\n",
              "  }\n",
              "\n",
              "  [theme=dark] .colab-df-quickchart {\n",
              "      --bg-color: #3B4455;\n",
              "      --fill-color: #D2E3FC;\n",
              "      --hover-bg-color: #434B5C;\n",
              "      --hover-fill-color: #FFFFFF;\n",
              "      --disabled-bg-color: #3B4455;\n",
              "      --disabled-fill-color: #666;\n",
              "  }\n",
              "\n",
              "  .colab-df-quickchart {\n",
              "    background-color: var(--bg-color);\n",
              "    border: none;\n",
              "    border-radius: 50%;\n",
              "    cursor: pointer;\n",
              "    display: none;\n",
              "    fill: var(--fill-color);\n",
              "    height: 32px;\n",
              "    padding: 0;\n",
              "    width: 32px;\n",
              "  }\n",
              "\n",
              "  .colab-df-quickchart:hover {\n",
              "    background-color: var(--hover-bg-color);\n",
              "    box-shadow: 0 1px 2px rgba(60, 64, 67, 0.3), 0 1px 3px 1px rgba(60, 64, 67, 0.15);\n",
              "    fill: var(--button-hover-fill-color);\n",
              "  }\n",
              "\n",
              "  .colab-df-quickchart-complete:disabled,\n",
              "  .colab-df-quickchart-complete:disabled:hover {\n",
              "    background-color: var(--disabled-bg-color);\n",
              "    fill: var(--disabled-fill-color);\n",
              "    box-shadow: none;\n",
              "  }\n",
              "\n",
              "  .colab-df-spinner {\n",
              "    border: 2px solid var(--fill-color);\n",
              "    border-color: transparent;\n",
              "    border-bottom-color: var(--fill-color);\n",
              "    animation:\n",
              "      spin 1s steps(1) infinite;\n",
              "  }\n",
              "\n",
              "  @keyframes spin {\n",
              "    0% {\n",
              "      border-color: transparent;\n",
              "      border-bottom-color: var(--fill-color);\n",
              "      border-left-color: var(--fill-color);\n",
              "    }\n",
              "    20% {\n",
              "      border-color: transparent;\n",
              "      border-left-color: var(--fill-color);\n",
              "      border-top-color: var(--fill-color);\n",
              "    }\n",
              "    30% {\n",
              "      border-color: transparent;\n",
              "      border-left-color: var(--fill-color);\n",
              "      border-top-color: var(--fill-color);\n",
              "      border-right-color: var(--fill-color);\n",
              "    }\n",
              "    40% {\n",
              "      border-color: transparent;\n",
              "      border-right-color: var(--fill-color);\n",
              "      border-top-color: var(--fill-color);\n",
              "    }\n",
              "    60% {\n",
              "      border-color: transparent;\n",
              "      border-right-color: var(--fill-color);\n",
              "    }\n",
              "    80% {\n",
              "      border-color: transparent;\n",
              "      border-right-color: var(--fill-color);\n",
              "      border-bottom-color: var(--fill-color);\n",
              "    }\n",
              "    90% {\n",
              "      border-color: transparent;\n",
              "      border-bottom-color: var(--fill-color);\n",
              "    }\n",
              "  }\n",
              "</style>\n",
              "\n",
              "  <script>\n",
              "    async function quickchart(key) {\n",
              "      const quickchartButtonEl =\n",
              "        document.querySelector('#' + key + ' button');\n",
              "      quickchartButtonEl.disabled = true;  // To prevent multiple clicks.\n",
              "      quickchartButtonEl.classList.add('colab-df-spinner');\n",
              "      try {\n",
              "        const charts = await google.colab.kernel.invokeFunction(\n",
              "            'suggestCharts', [key], {});\n",
              "      } catch (error) {\n",
              "        console.error('Error during call to suggestCharts:', error);\n",
              "      }\n",
              "      quickchartButtonEl.classList.remove('colab-df-spinner');\n",
              "      quickchartButtonEl.classList.add('colab-df-quickchart-complete');\n",
              "    }\n",
              "    (() => {\n",
              "      let quickchartButtonEl =\n",
              "        document.querySelector('#df-eb5469ab-73ef-42b6-ba08-339f6cdb5528 button');\n",
              "      quickchartButtonEl.style.display =\n",
              "        google.colab.kernel.accessAllowed ? 'block' : 'none';\n",
              "    })();\n",
              "  </script>\n",
              "</div>\n",
              "\n",
              "    </div>\n",
              "  </div>\n"
            ],
            "text/plain": [
              "                                       Trade_message  \\\n",
              "0  <TrdCaptRpt RptID=\"285353\" TrdID=\"38385799331\"...   \n",
              "1  <TrdCaptRpt RptID=\"332874\" TrdID=\"38703724873\"...   \n",
              "2  <TrdCaptRpt RptID=\"57243\" TrdID=\"29140627371\" ...   \n",
              "3  <TrdCaptRpt RptID=\"169564\" TrdID=\"38678625887\"...   \n",
              "4  <TrdCaptRpt RptID=\"182141\" TrdID=\"34041639428\"...   \n",
              "\n",
              "                                       SGW_Operation  \\\n",
              "0  <TrdCaptRpt RptID=\"38385799331\" TrdDt=\"2023-01...   \n",
              "1  <TrdCaptRpt RptID=\"38703724873\" TrdDt=\"2023-01...   \n",
              "2  <TrdCaptRpt RptID=\"29140627371\" TrdDt=\"2022-12...   \n",
              "3  <TrdCaptRpt RptID=\"38678625887\" TrdDt=\"2022-12...   \n",
              "4  <TrdCaptRpt RptID=\"34041639428\" TrdDt=\"2023-01...   \n",
              "\n",
              "                                         CCP_Message  \n",
              "0  <TrdCaptRpt RptID=\"580198\" TrdID=\"38385799331\"...  \n",
              "1  <TrdCaptRpt RptID=\"580198\" TrdID=\"38703724873\"...  \n",
              "2  <TrdCaptRpt RptID=\"580198\" TrdID=\"29140627371\"...  \n",
              "3  <TrdCaptRpt RptID=\"580198\" TrdID=\"38678625887\"...  \n",
              "4  <TrdCaptRpt RptID=\"580198\" TrdID=\"34041639428\"...  "
            ]
          },
          "execution_count": 7,
          "metadata": {},
          "output_type": "execute_result"
        }
      ],
      "source": [
        "column1_data = [example[0] for example in dataset]\n",
        "column2_data = [example[1] for example in dataset]\n",
        "column3_data = [example[2] for example in dataset]\n",
        "\n",
        "df = pd.DataFrame({\n",
        "    'Trade_message': column1_data,\n",
        "    'SGW_Operation': column2_data,\n",
        "    'CCP_Message': column3_data\n",
        "})\n",
        "\n",
        "df.head()"
      ]
    },
    {
      "cell_type": "code",
      "execution_count": null,
      "metadata": {
        "id": "huwI3CkkiVwD"
      },
      "outputs": [],
      "source": [
        "df1 = df.copy()"
      ]
    },
    {
      "cell_type": "code",
      "execution_count": null,
      "metadata": {
        "id": "8v4HNMlQiX-K"
      },
      "outputs": [],
      "source": [
        "def concat_columns(df):\n",
        "    df['input_message'] = df['Trade_message'] + ' ' + df['SGW_Operation']\n",
        "    df.drop(['Trade_message', 'SGW_Operation'], axis=1, inplace=True)\n",
        "    return df"
      ]
    },
    {
      "cell_type": "code",
      "execution_count": null,
      "metadata": {
        "colab": {
          "base_uri": "https://localhost:8080/",
          "height": 206
        },
        "id": "Jxp_TLAzibSE",
        "outputId": "bb5c94e5-32c9-4a0a-a2c6-46fbc7f15557"
      },
      "outputs": [
        {
          "data": {
            "application/vnd.google.colaboratory.intrinsic+json": {
              "summary": "{\n  \"name\": \"df1\",\n  \"rows\": 1000,\n  \"fields\": [\n    {\n      \"column\": \"CCP_Message\",\n      \"properties\": {\n        \"dtype\": \"string\",\n        \"num_unique_values\": 1000,\n        \"samples\": [\n          \"<TrdCaptRpt RptID=\\\"580198\\\" TrdID=\\\"20991691514\\\" TransTyp=\\\"2\\\" RptTyp=\\\"2\\\" TrdTyp=\\\"3\\\" MtchID=\\\"30851585027\\\" PxTyp=\\\"10\\\" LastQty=\\\"60\\\" LastPx=\\\"370\\\" TrdDt=\\\"2023-01-02\\\" BizDt=\\\"2023-01-06\\\" TxnTm=\\\"2023-03-20T00:12:55.138-7:00\\\"><Hdr SID=\\\"MGEX\\\" TID=\\\"HBPL\\\" PosDup=\\\"N\\\" PosRsnd=\\\"N\\\" Snt=\\\"2023-03-20T00:12:55.160-7:00\\\"></Hdr><Instrmt Sym=\\\"TMP\\\" ID=\\\"BUI\\\" Src=\\\"H\\\" CFI=\\\"MKLPON\\\" MMY=\\\"202307\\\" MatDt=\\\"2023-07-1\\\" Mult=\\\"0.3\\\" Exch=\\\"SNTL\\\"></Instrmt><RptSide Side=\\\"1\\\" Ccy=\\\"USD\\\" InptSrc=\\\"SY\\\" InptDev=\\\"PORTAL\\\" CustCpcty=\\\"4\\\" PosEfct=\\\"O\\\" ClOrdID=\\\"145\\\" MLegRptTyp=\\\"1\\\" AllocInd=\\\"1\\\"><Pty ID=\\\"MGEX\\\" R=\\\"21\\\"></Pty><Pty ID=\\\"210\\\" R=\\\"1\\\"></Pty><Pty ID=\\\"104\\\" R=\\\"4\\\"></Pty><Pty ID=\\\"Hassen\\\" R=\\\"24\\\"><Sub ID=\\\"1\\\" Typ=\\\"26\\\"></Sub></Pty><Pty ID=\\\"200\\\" R=\\\"12\\\"></Pty><TrdRegTS TS=\\\"2023-03-20T05:17:30.326-7:00\\\" Typ=\\\"1\\\"></TrdRegTS></RptSide></TrdCaptRpt>\",\n          \"<TrdCaptRpt RptID=\\\"580198\\\" TrdID=\\\"25365059748\\\" TransTyp=\\\"2\\\" RptTyp=\\\"2\\\" TrdTyp=\\\"45\\\" MtchID=\\\"37109305140\\\" PxTyp=\\\"2\\\" LastQty=\\\"49\\\" LastPx=\\\"370\\\" TrdDt=\\\"2022-12-17\\\" BizDt=\\\"2023-02-10\\\" TxnTm=\\\"2023-02-15T00:12:55.138-7:00\\\"><Hdr SID=\\\"MGEX\\\" TID=\\\"B509\\\" PosDup=\\\"Y\\\" PosRsnd=\\\"Y\\\" Snt=\\\"2023-02-15T00:12:55.160-7:00\\\"></Hdr><Instrmt Sym=\\\"BUI\\\" ID=\\\"IP0\\\" Src=\\\"H\\\" CFI=\\\"FCCPXX\\\" MMY=\\\"202305\\\" MatDt=\\\"2023-05-26\\\" Mult=\\\"300\\\" Exch=\\\"HDPL\\\"></Instrmt><RptSide Side=\\\"1\\\" Ccy=\\\"USD\\\" InptSrc=\\\"EL\\\" InptDev=\\\"EXCHANGE\\\" CustCpcty=\\\"4\\\" PosEfct=\\\"O\\\" ClOrdID=\\\"123\\\" MLegRptTyp=\\\"1\\\" AllocInd=\\\"1\\\"><Pty ID=\\\"MGEX\\\" R=\\\"21\\\"></Pty><Pty ID=\\\"210\\\" R=\\\"1\\\"></Pty><Pty ID=\\\"498\\\" R=\\\"4\\\"></Pty><Pty ID=\\\"FIRMACT1\\\" R=\\\"24\\\"><Sub ID=\\\"2\\\" Typ=\\\"26\\\"></Sub></Pty><Pty ID=\\\"100\\\" R=\\\"12\\\"></Pty><TrdRegTS TS=\\\"2023-02-15T10:18:15.100-7:00\\\" Typ=\\\"1\\\"></TrdRegTS></RptSide></TrdCaptRpt>\",\n          \"<TrdCaptRpt RptID=\\\"580198\\\" TrdID=\\\"35631846916\\\" TransTyp=\\\"2\\\" RptTyp=\\\"2\\\" TrdTyp=\\\"31\\\" MtchID=\\\"25323547373\\\" PxTyp=\\\"2\\\" LastQty=\\\"100\\\" LastPx=\\\"876\\\" TrdDt=\\\"2023-01-05\\\" BizDt=\\\"2023-02-05\\\" TxnTm=\\\"2023-02-15T00:12:55.138-6:00\\\"><Hdr SID=\\\"MGEX\\\" TID=\\\"ABCD\\\" PosDup=\\\"N\\\" PosRsnd=\\\"N\\\" Snt=\\\"2023-02-15T00:12:55.160-6:00\\\"></Hdr><Instrmt Sym=\\\"TMP\\\" ID=\\\"BUI\\\" Src=\\\"H\\\" CFI=\\\"FCAPSX\\\" MMY=\\\"202305\\\" MatDt=\\\"2023-05-24\\\" Mult=\\\"0.2\\\" Exch=\\\"SNTL\\\"></Instrmt><RptSide Side=\\\"2\\\" Ccy=\\\"USD\\\" InptSrc=\\\"EL\\\" InptDev=\\\"EXCHANGE\\\" CustCpcty=\\\"3\\\" PosEfct=\\\"C\\\" ClOrdID=\\\"145\\\" MLegRptTyp=\\\"2\\\" AllocInd=\\\"0\\\"><Pty ID=\\\"MGEX\\\" R=\\\"21\\\"></Pty><Pty ID=\\\"210\\\" R=\\\"1\\\"></Pty><Pty ID=\\\"321\\\" R=\\\"4\\\"></Pty><Pty ID=\\\"00120007\\\" R=\\\"24\\\"><Sub ID=\\\"1\\\" Typ=\\\"26\\\"></Sub></Pty><Pty ID=\\\"A123\\\" R=\\\"12\\\"></Pty><TrdRegTS TS=\\\"2023-02-15T05:17:30.230-6:00\\\" Typ=\\\"1\\\"></TrdRegTS></RptSide></TrdCaptRpt>\"\n        ],\n        \"semantic_type\": \"\",\n        \"description\": \"\"\n      }\n    },\n    {\n      \"column\": \"input_message\",\n      \"properties\": {\n        \"dtype\": \"string\",\n        \"num_unique_values\": 1000,\n        \"samples\": [\n          \"<TrdCaptRpt RptID=\\\"275205\\\" TrdID=\\\"20991691514\\\" TransTyp=\\\"0\\\" RptTyp=\\\"2\\\" TrdTyp=\\\"3\\\" MtchID=\\\"30851585027\\\" PxTyp=\\\"10\\\" LastQty=\\\"60\\\" LastPx=\\\"370\\\" TrdDt=\\\"2023-01-02\\\" BizDt=\\\"2023-01-06\\\" TxnTm=\\\"2023-03-20T05:17:30.326-7:00\\\"><Hdr SID=\\\"MGEX\\\" TID=\\\"HBPL\\\" PosDup=\\\"N\\\" PosRsnd=\\\"N\\\" Snt=\\\"2023-03-20T05:17:30.350-7:00\\\"></Hdr><Instrmt Sym=\\\"TMP\\\" ID=\\\"BUI\\\" Src=\\\"H\\\" CFI=\\\"MKLPON\\\" MMY=\\\"202307\\\" MatDt=\\\"2023-07-1\\\" Mult=\\\"0.3\\\" Exch=\\\"SNTL\\\"></Instrmt><RptSide Side=\\\"1\\\" Ccy=\\\"USD\\\" InptSrc=\\\"SY\\\" InptDev=\\\"PORTAL\\\" CustCpcty=\\\"2\\\" PosEfct=\\\"O\\\" ClOrdID=\\\"145\\\" MLegRptTyp=\\\"1\\\" AllocInd=\\\"1\\\"><Pty ID=\\\"MGEX\\\" R=\\\"21\\\"></Pty><Pty ID=\\\"210\\\" R=\\\"1\\\"></Pty><Pty ID=\\\"104\\\" R=\\\"4\\\"></Pty><Pty ID=\\\"Ahlem-110\\\" R=\\\"24\\\"><Sub ID=\\\"1\\\" Typ=\\\"26\\\"></Sub></Pty><Pty ID=\\\"200\\\" R=\\\"12\\\"></Pty><TrdRegTS TS=\\\"2023-03-20T05:17:30.326-7:00\\\" Typ=\\\"1\\\"></TrdRegTS></RptSide></TrdCaptRpt> <TrdCaptRpt RptID=\\\"20991691514\\\" TrdDt=\\\"2023-01-02\\\" BizDt=\\\"2023-01-06\\\" TxnTm=\\\"2023-03-20T05:17:30.326-7:00\\\" TrdID=\\\"20991691514\\\" TransTyp=\\\"2\\\" RptTyp=\\\"0\\\" LastQty=\\\"60.0\\\" LastPx=\\\"370.0\\\"><Hdr Snt=\\\"2023-03-20T22:03:12.436+01:00\\\" TID=\\\"MGEX\\\" SID=\\\"HBPL\\\"/><Instrmt Exch=\\\"SNTL\\\" ID=\\\"BUI\\\" MMY=\\\"202307\\\" CFI=\\\"APYBKL\\\"/><RptSide Side=\\\"1\\\" CustCpcty=\\\"4\\\"><Pty ID=\\\"210\\\" R=\\\"1\\\"/><Pty ID=\\\"Hassen\\\" R=\\\"24\\\"><Sub ID=\\\"1\\\" Typ=\\\"26\\\"/></Pty></RptSide></TrdCaptRpt>\",\n          \"<TrdCaptRpt RptID=\\\"22741\\\" TrdID=\\\"25365059748\\\" TransTyp=\\\"0\\\" RptTyp=\\\"2\\\" TrdTyp=\\\"45\\\" MtchID=\\\"37109305140\\\" PxTyp=\\\"2\\\" LastQty=\\\"49\\\" LastPx=\\\"370\\\" TrdDt=\\\"2022-12-17\\\" BizDt=\\\"2023-02-10\\\" TxnTm=\\\"2023-02-15T10:18:15.100-7:00\\\"><Hdr SID=\\\"MGEX\\\" TID=\\\"B509\\\" PosDup=\\\"Y\\\" PosRsnd=\\\"Y\\\" Snt=\\\"2023-02-15T10:18:15.350-7:00\\\"></Hdr><Instrmt Sym=\\\"BUI\\\" ID=\\\"IP0\\\" Src=\\\"H\\\" CFI=\\\"FCCPXX\\\" MMY=\\\"202305\\\" MatDt=\\\"2023-05-26\\\" Mult=\\\"300\\\" Exch=\\\"HDPL\\\"></Instrmt><RptSide Side=\\\"1\\\" Ccy=\\\"USD\\\" InptSrc=\\\"EL\\\" InptDev=\\\"EXCHANGE\\\" CustCpcty=\\\"3\\\" PosEfct=\\\"O\\\" ClOrdID=\\\"123\\\" MLegRptTyp=\\\"1\\\" AllocInd=\\\"1\\\"><Pty ID=\\\"MGEX\\\" R=\\\"21\\\"></Pty><Pty ID=\\\"210\\\" R=\\\"1\\\"></Pty><Pty ID=\\\"498\\\" R=\\\"4\\\"></Pty><Pty ID=\\\"Karim-200\\\" R=\\\"24\\\"><Sub ID=\\\"2\\\" Typ=\\\"26\\\"></Sub></Pty><Pty ID=\\\"100\\\" R=\\\"12\\\"></Pty><TrdRegTS TS=\\\"2023-02-15T10:18:15.100-7:00\\\" Typ=\\\"1\\\"></TrdRegTS></RptSide></TrdCaptRpt> <TrdCaptRpt RptID=\\\"25365059748\\\" TrdDt=\\\"2022-12-17\\\" BizDt=\\\"2023-02-10\\\" TxnTm=\\\"2023-02-15T10:18:15.100-7:00\\\" TrdID=\\\"25365059748\\\" TransTyp=\\\"2\\\" RptTyp=\\\"0\\\" LastQty=\\\"49.0\\\" LastPx=\\\"370.0\\\"><Hdr Snt=\\\"2023-02-15T22:03:12.436+01:00\\\" TID=\\\"MGEX\\\" SID=\\\"B509\\\"/><Instrmt Exch=\\\"HDPL\\\" ID=\\\"IP0\\\" MMY=\\\"202305\\\" CFI=\\\"APYBKL\\\"/><RptSide Side=\\\"1\\\" CustCpcty=\\\"4\\\"><Pty ID=\\\"210\\\" R=\\\"1\\\"/><Pty ID=\\\"FIRMACT1\\\" R=\\\"24\\\"><Sub ID=\\\"2\\\" Typ=\\\"26\\\"/></Pty></RptSide></TrdCaptRpt>\",\n          \"<TrdCaptRpt RptID=\\\"356647\\\" TrdID=\\\"35631846916\\\" TransTyp=\\\"0\\\" RptTyp=\\\"2\\\" TrdTyp=\\\"31\\\" MtchID=\\\"25323547373\\\" PxTyp=\\\"2\\\" LastQty=\\\"100\\\" LastPx=\\\"876\\\" TrdDt=\\\"2023-01-05\\\" BizDt=\\\"2023-02-05\\\" TxnTm=\\\"2023-02-15T05:17:30.230-6:00\\\"><Hdr SID=\\\"MGEX\\\" TID=\\\"ABCD\\\" PosDup=\\\"N\\\" PosRsnd=\\\"N\\\" Snt=\\\"2023-02-15T05:17:30.350-6:00\\\"></Hdr><Instrmt Sym=\\\"TMP\\\" ID=\\\"BUI\\\" Src=\\\"H\\\" CFI=\\\"FCAPSX\\\" MMY=\\\"202305\\\" MatDt=\\\"2023-05-24\\\" Mult=\\\"0.2\\\" Exch=\\\"SNTL\\\"></Instrmt><RptSide Side=\\\"2\\\" Ccy=\\\"USD\\\" InptSrc=\\\"EL\\\" InptDev=\\\"EXCHANGE\\\" CustCpcty=\\\"2\\\" PosEfct=\\\"C\\\" ClOrdID=\\\"145\\\" MLegRptTyp=\\\"2\\\" AllocInd=\\\"0\\\"><Pty ID=\\\"MGEX\\\" R=\\\"21\\\"></Pty><Pty ID=\\\"210\\\" R=\\\"1\\\"></Pty><Pty ID=\\\"321\\\" R=\\\"4\\\"></Pty><Pty ID=\\\"Karim-200\\\" R=\\\"24\\\"><Sub ID=\\\"1\\\" Typ=\\\"26\\\"></Sub></Pty><Pty ID=\\\"A123\\\" R=\\\"12\\\"></Pty><TrdRegTS TS=\\\"2023-02-15T05:17:30.230-6:00\\\" Typ=\\\"1\\\"></TrdRegTS></RptSide></TrdCaptRpt> <TrdCaptRpt RptID=\\\"35631846916\\\" TrdDt=\\\"2023-01-05\\\" BizDt=\\\"2023-02-05\\\" TxnTm=\\\"2023-02-15T05:17:30.230-6:00\\\" TrdID=\\\"35631846916\\\" TransTyp=\\\"2\\\" RptTyp=\\\"0\\\" LastQty=\\\"100.0\\\" LastPx=\\\"876.0\\\"><Hdr Snt=\\\"2023-02-15T19:33:05.333+01:00\\\" TID=\\\"MGEX\\\" SID=\\\"ABCD\\\"/><Instrmt Exch=\\\"SNTL\\\" ID=\\\"BUI\\\" MMY=\\\"202305\\\" CFI=\\\"FCAPSX\\\"/><RptSide Side=\\\"2\\\" CustCpcty=\\\"3\\\"><Pty ID=\\\"210\\\" R=\\\"1\\\"/><Pty ID=\\\"00120007\\\" R=\\\"24\\\"><Sub ID=\\\"1\\\" Typ=\\\"26\\\"/></Pty></RptSide></TrdCaptRpt>\"\n        ],\n        \"semantic_type\": \"\",\n        \"description\": \"\"\n      }\n    }\n  ]\n}",
              "type": "dataframe",
              "variable_name": "df1"
            },
            "text/html": [
              "\n",
              "  <div id=\"df-c6aee965-bd29-4421-84a1-14612e022fa1\" class=\"colab-df-container\">\n",
              "    <div>\n",
              "<style scoped>\n",
              "    .dataframe tbody tr th:only-of-type {\n",
              "        vertical-align: middle;\n",
              "    }\n",
              "\n",
              "    .dataframe tbody tr th {\n",
              "        vertical-align: top;\n",
              "    }\n",
              "\n",
              "    .dataframe thead th {\n",
              "        text-align: right;\n",
              "    }\n",
              "</style>\n",
              "<table border=\"1\" class=\"dataframe\">\n",
              "  <thead>\n",
              "    <tr style=\"text-align: right;\">\n",
              "      <th></th>\n",
              "      <th>CCP_Message</th>\n",
              "      <th>input_message</th>\n",
              "    </tr>\n",
              "  </thead>\n",
              "  <tbody>\n",
              "    <tr>\n",
              "      <th>0</th>\n",
              "      <td>&lt;TrdCaptRpt RptID=\"580198\" TrdID=\"38385799331\"...</td>\n",
              "      <td>&lt;TrdCaptRpt RptID=\"285353\" TrdID=\"38385799331\"...</td>\n",
              "    </tr>\n",
              "    <tr>\n",
              "      <th>1</th>\n",
              "      <td>&lt;TrdCaptRpt RptID=\"580198\" TrdID=\"38703724873\"...</td>\n",
              "      <td>&lt;TrdCaptRpt RptID=\"332874\" TrdID=\"38703724873\"...</td>\n",
              "    </tr>\n",
              "    <tr>\n",
              "      <th>2</th>\n",
              "      <td>&lt;TrdCaptRpt RptID=\"580198\" TrdID=\"29140627371\"...</td>\n",
              "      <td>&lt;TrdCaptRpt RptID=\"57243\" TrdID=\"29140627371\" ...</td>\n",
              "    </tr>\n",
              "    <tr>\n",
              "      <th>3</th>\n",
              "      <td>&lt;TrdCaptRpt RptID=\"580198\" TrdID=\"38678625887\"...</td>\n",
              "      <td>&lt;TrdCaptRpt RptID=\"169564\" TrdID=\"38678625887\"...</td>\n",
              "    </tr>\n",
              "    <tr>\n",
              "      <th>4</th>\n",
              "      <td>&lt;TrdCaptRpt RptID=\"580198\" TrdID=\"34041639428\"...</td>\n",
              "      <td>&lt;TrdCaptRpt RptID=\"182141\" TrdID=\"34041639428\"...</td>\n",
              "    </tr>\n",
              "  </tbody>\n",
              "</table>\n",
              "</div>\n",
              "    <div class=\"colab-df-buttons\">\n",
              "\n",
              "  <div class=\"colab-df-container\">\n",
              "    <button class=\"colab-df-convert\" onclick=\"convertToInteractive('df-c6aee965-bd29-4421-84a1-14612e022fa1')\"\n",
              "            title=\"Convert this dataframe to an interactive table.\"\n",
              "            style=\"display:none;\">\n",
              "\n",
              "  <svg xmlns=\"http://www.w3.org/2000/svg\" height=\"24px\" viewBox=\"0 -960 960 960\">\n",
              "    <path d=\"M120-120v-720h720v720H120Zm60-500h600v-160H180v160Zm220 220h160v-160H400v160Zm0 220h160v-160H400v160ZM180-400h160v-160H180v160Zm440 0h160v-160H620v160ZM180-180h160v-160H180v160Zm440 0h160v-160H620v160Z\"/>\n",
              "  </svg>\n",
              "    </button>\n",
              "\n",
              "  <style>\n",
              "    .colab-df-container {\n",
              "      display:flex;\n",
              "      gap: 12px;\n",
              "    }\n",
              "\n",
              "    .colab-df-convert {\n",
              "      background-color: #E8F0FE;\n",
              "      border: none;\n",
              "      border-radius: 50%;\n",
              "      cursor: pointer;\n",
              "      display: none;\n",
              "      fill: #1967D2;\n",
              "      height: 32px;\n",
              "      padding: 0 0 0 0;\n",
              "      width: 32px;\n",
              "    }\n",
              "\n",
              "    .colab-df-convert:hover {\n",
              "      background-color: #E2EBFA;\n",
              "      box-shadow: 0px 1px 2px rgba(60, 64, 67, 0.3), 0px 1px 3px 1px rgba(60, 64, 67, 0.15);\n",
              "      fill: #174EA6;\n",
              "    }\n",
              "\n",
              "    .colab-df-buttons div {\n",
              "      margin-bottom: 4px;\n",
              "    }\n",
              "\n",
              "    [theme=dark] .colab-df-convert {\n",
              "      background-color: #3B4455;\n",
              "      fill: #D2E3FC;\n",
              "    }\n",
              "\n",
              "    [theme=dark] .colab-df-convert:hover {\n",
              "      background-color: #434B5C;\n",
              "      box-shadow: 0px 1px 3px 1px rgba(0, 0, 0, 0.15);\n",
              "      filter: drop-shadow(0px 1px 2px rgba(0, 0, 0, 0.3));\n",
              "      fill: #FFFFFF;\n",
              "    }\n",
              "  </style>\n",
              "\n",
              "    <script>\n",
              "      const buttonEl =\n",
              "        document.querySelector('#df-c6aee965-bd29-4421-84a1-14612e022fa1 button.colab-df-convert');\n",
              "      buttonEl.style.display =\n",
              "        google.colab.kernel.accessAllowed ? 'block' : 'none';\n",
              "\n",
              "      async function convertToInteractive(key) {\n",
              "        const element = document.querySelector('#df-c6aee965-bd29-4421-84a1-14612e022fa1');\n",
              "        const dataTable =\n",
              "          await google.colab.kernel.invokeFunction('convertToInteractive',\n",
              "                                                    [key], {});\n",
              "        if (!dataTable) return;\n",
              "\n",
              "        const docLinkHtml = 'Like what you see? Visit the ' +\n",
              "          '<a target=\"_blank\" href=https://colab.research.google.com/notebooks/data_table.ipynb>data table notebook</a>'\n",
              "          + ' to learn more about interactive tables.';\n",
              "        element.innerHTML = '';\n",
              "        dataTable['output_type'] = 'display_data';\n",
              "        await google.colab.output.renderOutput(dataTable, element);\n",
              "        const docLink = document.createElement('div');\n",
              "        docLink.innerHTML = docLinkHtml;\n",
              "        element.appendChild(docLink);\n",
              "      }\n",
              "    </script>\n",
              "  </div>\n",
              "\n",
              "\n",
              "<div id=\"df-f9adeeca-defa-418b-8a17-055dc5a4aa15\">\n",
              "  <button class=\"colab-df-quickchart\" onclick=\"quickchart('df-f9adeeca-defa-418b-8a17-055dc5a4aa15')\"\n",
              "            title=\"Suggest charts\"\n",
              "            style=\"display:none;\">\n",
              "\n",
              "<svg xmlns=\"http://www.w3.org/2000/svg\" height=\"24px\"viewBox=\"0 0 24 24\"\n",
              "     width=\"24px\">\n",
              "    <g>\n",
              "        <path d=\"M19 3H5c-1.1 0-2 .9-2 2v14c0 1.1.9 2 2 2h14c1.1 0 2-.9 2-2V5c0-1.1-.9-2-2-2zM9 17H7v-7h2v7zm4 0h-2V7h2v10zm4 0h-2v-4h2v4z\"/>\n",
              "    </g>\n",
              "</svg>\n",
              "  </button>\n",
              "\n",
              "<style>\n",
              "  .colab-df-quickchart {\n",
              "      --bg-color: #E8F0FE;\n",
              "      --fill-color: #1967D2;\n",
              "      --hover-bg-color: #E2EBFA;\n",
              "      --hover-fill-color: #174EA6;\n",
              "      --disabled-fill-color: #AAA;\n",
              "      --disabled-bg-color: #DDD;\n",
              "  }\n",
              "\n",
              "  [theme=dark] .colab-df-quickchart {\n",
              "      --bg-color: #3B4455;\n",
              "      --fill-color: #D2E3FC;\n",
              "      --hover-bg-color: #434B5C;\n",
              "      --hover-fill-color: #FFFFFF;\n",
              "      --disabled-bg-color: #3B4455;\n",
              "      --disabled-fill-color: #666;\n",
              "  }\n",
              "\n",
              "  .colab-df-quickchart {\n",
              "    background-color: var(--bg-color);\n",
              "    border: none;\n",
              "    border-radius: 50%;\n",
              "    cursor: pointer;\n",
              "    display: none;\n",
              "    fill: var(--fill-color);\n",
              "    height: 32px;\n",
              "    padding: 0;\n",
              "    width: 32px;\n",
              "  }\n",
              "\n",
              "  .colab-df-quickchart:hover {\n",
              "    background-color: var(--hover-bg-color);\n",
              "    box-shadow: 0 1px 2px rgba(60, 64, 67, 0.3), 0 1px 3px 1px rgba(60, 64, 67, 0.15);\n",
              "    fill: var(--button-hover-fill-color);\n",
              "  }\n",
              "\n",
              "  .colab-df-quickchart-complete:disabled,\n",
              "  .colab-df-quickchart-complete:disabled:hover {\n",
              "    background-color: var(--disabled-bg-color);\n",
              "    fill: var(--disabled-fill-color);\n",
              "    box-shadow: none;\n",
              "  }\n",
              "\n",
              "  .colab-df-spinner {\n",
              "    border: 2px solid var(--fill-color);\n",
              "    border-color: transparent;\n",
              "    border-bottom-color: var(--fill-color);\n",
              "    animation:\n",
              "      spin 1s steps(1) infinite;\n",
              "  }\n",
              "\n",
              "  @keyframes spin {\n",
              "    0% {\n",
              "      border-color: transparent;\n",
              "      border-bottom-color: var(--fill-color);\n",
              "      border-left-color: var(--fill-color);\n",
              "    }\n",
              "    20% {\n",
              "      border-color: transparent;\n",
              "      border-left-color: var(--fill-color);\n",
              "      border-top-color: var(--fill-color);\n",
              "    }\n",
              "    30% {\n",
              "      border-color: transparent;\n",
              "      border-left-color: var(--fill-color);\n",
              "      border-top-color: var(--fill-color);\n",
              "      border-right-color: var(--fill-color);\n",
              "    }\n",
              "    40% {\n",
              "      border-color: transparent;\n",
              "      border-right-color: var(--fill-color);\n",
              "      border-top-color: var(--fill-color);\n",
              "    }\n",
              "    60% {\n",
              "      border-color: transparent;\n",
              "      border-right-color: var(--fill-color);\n",
              "    }\n",
              "    80% {\n",
              "      border-color: transparent;\n",
              "      border-right-color: var(--fill-color);\n",
              "      border-bottom-color: var(--fill-color);\n",
              "    }\n",
              "    90% {\n",
              "      border-color: transparent;\n",
              "      border-bottom-color: var(--fill-color);\n",
              "    }\n",
              "  }\n",
              "</style>\n",
              "\n",
              "  <script>\n",
              "    async function quickchart(key) {\n",
              "      const quickchartButtonEl =\n",
              "        document.querySelector('#' + key + ' button');\n",
              "      quickchartButtonEl.disabled = true;  // To prevent multiple clicks.\n",
              "      quickchartButtonEl.classList.add('colab-df-spinner');\n",
              "      try {\n",
              "        const charts = await google.colab.kernel.invokeFunction(\n",
              "            'suggestCharts', [key], {});\n",
              "      } catch (error) {\n",
              "        console.error('Error during call to suggestCharts:', error);\n",
              "      }\n",
              "      quickchartButtonEl.classList.remove('colab-df-spinner');\n",
              "      quickchartButtonEl.classList.add('colab-df-quickchart-complete');\n",
              "    }\n",
              "    (() => {\n",
              "      let quickchartButtonEl =\n",
              "        document.querySelector('#df-f9adeeca-defa-418b-8a17-055dc5a4aa15 button');\n",
              "      quickchartButtonEl.style.display =\n",
              "        google.colab.kernel.accessAllowed ? 'block' : 'none';\n",
              "    })();\n",
              "  </script>\n",
              "</div>\n",
              "\n",
              "    </div>\n",
              "  </div>\n"
            ],
            "text/plain": [
              "                                         CCP_Message  \\\n",
              "0  <TrdCaptRpt RptID=\"580198\" TrdID=\"38385799331\"...   \n",
              "1  <TrdCaptRpt RptID=\"580198\" TrdID=\"38703724873\"...   \n",
              "2  <TrdCaptRpt RptID=\"580198\" TrdID=\"29140627371\"...   \n",
              "3  <TrdCaptRpt RptID=\"580198\" TrdID=\"38678625887\"...   \n",
              "4  <TrdCaptRpt RptID=\"580198\" TrdID=\"34041639428\"...   \n",
              "\n",
              "                                       input_message  \n",
              "0  <TrdCaptRpt RptID=\"285353\" TrdID=\"38385799331\"...  \n",
              "1  <TrdCaptRpt RptID=\"332874\" TrdID=\"38703724873\"...  \n",
              "2  <TrdCaptRpt RptID=\"57243\" TrdID=\"29140627371\" ...  \n",
              "3  <TrdCaptRpt RptID=\"169564\" TrdID=\"38678625887\"...  \n",
              "4  <TrdCaptRpt RptID=\"182141\" TrdID=\"34041639428\"...  "
            ]
          },
          "execution_count": 10,
          "metadata": {},
          "output_type": "execute_result"
        }
      ],
      "source": [
        "df1 = concat_columns(df1)\n",
        "df1.head()"
      ]
    },
    {
      "cell_type": "code",
      "execution_count": null,
      "metadata": {
        "colab": {
          "base_uri": "https://localhost:8080/",
          "height": 123
        },
        "id": "4nGCWkJDigKM",
        "outputId": "fe8f8c99-51fe-4ff9-9aca-15f27c6f360e"
      },
      "outputs": [
        {
          "data": {
            "application/vnd.google.colaboratory.intrinsic+json": {
              "type": "string"
            },
            "text/plain": [
              "'<TrdCaptRpt RptID=\"285353\" TrdID=\"38385799331\" TransTyp=\"0\" RptTyp=\"2\" TrdTyp=\"45\" MtchID=\"24363781904\" PxTyp=\"10\" LastQty=\"14\" LastPx=\"370\" TrdDt=\"2023-01-05\" BizDt=\"2023-01-20\" TxnTm=\"2023-02-21T16:40:55.326-6:00\"><Hdr SID=\"MGEX\" TID=\"B509\" PosDup=\"N\" PosRsnd=\"Y\" Snt=\"2023-02-21T16:40:55.470-6:00\"></Hdr><Instrmt Sym=\"ABP\" ID=\"LM\" Src=\"H\" CFI=\"FCAPSX\" MMY=\"202305\" MatDt=\"2023-05-28\" Mult=\"5000\" Exch=\"BTNL\"></Instrmt><RptSide Side=\"2\" Ccy=\"USD\" InptSrc=\"MA\" InptDev=\"API\" CustCpcty=\"3\" PosEfct=\"C\" ClOrdID=\"245BTN\" MLegRptTyp=\"3\" AllocInd=\"0\"><Pty ID=\"MGEX\" R=\"21\"></Pty><Pty ID=\"210\" R=\"1\"></Pty><Pty ID=\"437\" R=\"4\"></Pty><Pty ID=\"Ahlem-110\" R=\"24\"><Sub ID=\"1\" Typ=\"26\"></Sub></Pty><Pty ID=\"B115\" R=\"12\"></Pty><TrdRegTS TS=\"2023-02-21T16:40:55.326-6:00\" Typ=\"1\"></TrdRegTS></RptSide></TrdCaptRpt> <TrdCaptRpt RptID=\"38385799331\" TrdDt=\"2023-01-05\" BizDt=\"2023-01-20\" TxnTm=\"2023-02-21T16:40:55.326-6:00\" TrdID=\"38385799331\" TransTyp=\"2\" RptTyp=\"0\" LastQty=\"14.0\" LastPx=\"370.0\"><Hdr Snt=\"2023-02-21T17:30:55.600+01:00\" TID=\"MGEX\" SID=\"B509\"/><Instrmt Exch=\"BTNL\" ID=\"LM\" MMY=\"202305\" CFI=\"APYBKL\"/><RptSide Side=\"2\" CustCpcty=\"3\"><Pty ID=\"210\" R=\"1\"/><Pty ID=\"Ahlem\" R=\"24\"><Sub ID=\"1\" Typ=\"26\"/></Pty></RptSide></TrdCaptRpt>'"
            ]
          },
          "execution_count": 11,
          "metadata": {},
          "output_type": "execute_result"
        }
      ],
      "source": [
        "df1['input_message'].iloc[0]"
      ]
    },
    {
      "cell_type": "code",
      "execution_count": null,
      "metadata": {
        "id": "RuRxVNSHihJD"
      },
      "outputs": [],
      "source": [
        "import re"
      ]
    },
    {
      "cell_type": "code",
      "execution_count": null,
      "metadata": {
        "id": "Fk6XQmdIik1x"
      },
      "outputs": [],
      "source": [
        "def clean_text(input_text):\n",
        "    pattern = r'[<\\\"/]'\n",
        "    cleaned_text1 = re.sub(pattern, '', input_text)\n",
        "    cleaned_text = cleaned_text1.replace('>',' ')\n",
        "    return cleaned_text"
      ]
    },
    {
      "cell_type": "code",
      "execution_count": null,
      "metadata": {
        "id": "BqyDG8animh5"
      },
      "outputs": [],
      "source": [
        "df2 = df1.copy()"
      ]
    },
    {
      "cell_type": "code",
      "execution_count": null,
      "metadata": {
        "id": "-v8yRW_KiqhS"
      },
      "outputs": [],
      "source": [
        "df2['cleaned_input_message'] = df2['input_message'].apply(clean_text)\n",
        "df2 = df2.drop('input_message',axis=1)"
      ]
    },
    {
      "cell_type": "code",
      "execution_count": null,
      "metadata": {
        "colab": {
          "base_uri": "https://localhost:8080/",
          "height": 206
        },
        "id": "yQeRUzEeirXh",
        "outputId": "0d4d7ace-4cc7-4a03-a2a6-a9a6d6304fc4"
      },
      "outputs": [
        {
          "data": {
            "application/vnd.google.colaboratory.intrinsic+json": {
              "summary": "{\n  \"name\": \"df2\",\n  \"rows\": 1000,\n  \"fields\": [\n    {\n      \"column\": \"CCP_Message\",\n      \"properties\": {\n        \"dtype\": \"string\",\n        \"num_unique_values\": 1000,\n        \"samples\": [\n          \"<TrdCaptRpt RptID=\\\"580198\\\" TrdID=\\\"20991691514\\\" TransTyp=\\\"2\\\" RptTyp=\\\"2\\\" TrdTyp=\\\"3\\\" MtchID=\\\"30851585027\\\" PxTyp=\\\"10\\\" LastQty=\\\"60\\\" LastPx=\\\"370\\\" TrdDt=\\\"2023-01-02\\\" BizDt=\\\"2023-01-06\\\" TxnTm=\\\"2023-03-20T00:12:55.138-7:00\\\"><Hdr SID=\\\"MGEX\\\" TID=\\\"HBPL\\\" PosDup=\\\"N\\\" PosRsnd=\\\"N\\\" Snt=\\\"2023-03-20T00:12:55.160-7:00\\\"></Hdr><Instrmt Sym=\\\"TMP\\\" ID=\\\"BUI\\\" Src=\\\"H\\\" CFI=\\\"MKLPON\\\" MMY=\\\"202307\\\" MatDt=\\\"2023-07-1\\\" Mult=\\\"0.3\\\" Exch=\\\"SNTL\\\"></Instrmt><RptSide Side=\\\"1\\\" Ccy=\\\"USD\\\" InptSrc=\\\"SY\\\" InptDev=\\\"PORTAL\\\" CustCpcty=\\\"4\\\" PosEfct=\\\"O\\\" ClOrdID=\\\"145\\\" MLegRptTyp=\\\"1\\\" AllocInd=\\\"1\\\"><Pty ID=\\\"MGEX\\\" R=\\\"21\\\"></Pty><Pty ID=\\\"210\\\" R=\\\"1\\\"></Pty><Pty ID=\\\"104\\\" R=\\\"4\\\"></Pty><Pty ID=\\\"Hassen\\\" R=\\\"24\\\"><Sub ID=\\\"1\\\" Typ=\\\"26\\\"></Sub></Pty><Pty ID=\\\"200\\\" R=\\\"12\\\"></Pty><TrdRegTS TS=\\\"2023-03-20T05:17:30.326-7:00\\\" Typ=\\\"1\\\"></TrdRegTS></RptSide></TrdCaptRpt>\",\n          \"<TrdCaptRpt RptID=\\\"580198\\\" TrdID=\\\"25365059748\\\" TransTyp=\\\"2\\\" RptTyp=\\\"2\\\" TrdTyp=\\\"45\\\" MtchID=\\\"37109305140\\\" PxTyp=\\\"2\\\" LastQty=\\\"49\\\" LastPx=\\\"370\\\" TrdDt=\\\"2022-12-17\\\" BizDt=\\\"2023-02-10\\\" TxnTm=\\\"2023-02-15T00:12:55.138-7:00\\\"><Hdr SID=\\\"MGEX\\\" TID=\\\"B509\\\" PosDup=\\\"Y\\\" PosRsnd=\\\"Y\\\" Snt=\\\"2023-02-15T00:12:55.160-7:00\\\"></Hdr><Instrmt Sym=\\\"BUI\\\" ID=\\\"IP0\\\" Src=\\\"H\\\" CFI=\\\"FCCPXX\\\" MMY=\\\"202305\\\" MatDt=\\\"2023-05-26\\\" Mult=\\\"300\\\" Exch=\\\"HDPL\\\"></Instrmt><RptSide Side=\\\"1\\\" Ccy=\\\"USD\\\" InptSrc=\\\"EL\\\" InptDev=\\\"EXCHANGE\\\" CustCpcty=\\\"4\\\" PosEfct=\\\"O\\\" ClOrdID=\\\"123\\\" MLegRptTyp=\\\"1\\\" AllocInd=\\\"1\\\"><Pty ID=\\\"MGEX\\\" R=\\\"21\\\"></Pty><Pty ID=\\\"210\\\" R=\\\"1\\\"></Pty><Pty ID=\\\"498\\\" R=\\\"4\\\"></Pty><Pty ID=\\\"FIRMACT1\\\" R=\\\"24\\\"><Sub ID=\\\"2\\\" Typ=\\\"26\\\"></Sub></Pty><Pty ID=\\\"100\\\" R=\\\"12\\\"></Pty><TrdRegTS TS=\\\"2023-02-15T10:18:15.100-7:00\\\" Typ=\\\"1\\\"></TrdRegTS></RptSide></TrdCaptRpt>\",\n          \"<TrdCaptRpt RptID=\\\"580198\\\" TrdID=\\\"35631846916\\\" TransTyp=\\\"2\\\" RptTyp=\\\"2\\\" TrdTyp=\\\"31\\\" MtchID=\\\"25323547373\\\" PxTyp=\\\"2\\\" LastQty=\\\"100\\\" LastPx=\\\"876\\\" TrdDt=\\\"2023-01-05\\\" BizDt=\\\"2023-02-05\\\" TxnTm=\\\"2023-02-15T00:12:55.138-6:00\\\"><Hdr SID=\\\"MGEX\\\" TID=\\\"ABCD\\\" PosDup=\\\"N\\\" PosRsnd=\\\"N\\\" Snt=\\\"2023-02-15T00:12:55.160-6:00\\\"></Hdr><Instrmt Sym=\\\"TMP\\\" ID=\\\"BUI\\\" Src=\\\"H\\\" CFI=\\\"FCAPSX\\\" MMY=\\\"202305\\\" MatDt=\\\"2023-05-24\\\" Mult=\\\"0.2\\\" Exch=\\\"SNTL\\\"></Instrmt><RptSide Side=\\\"2\\\" Ccy=\\\"USD\\\" InptSrc=\\\"EL\\\" InptDev=\\\"EXCHANGE\\\" CustCpcty=\\\"3\\\" PosEfct=\\\"C\\\" ClOrdID=\\\"145\\\" MLegRptTyp=\\\"2\\\" AllocInd=\\\"0\\\"><Pty ID=\\\"MGEX\\\" R=\\\"21\\\"></Pty><Pty ID=\\\"210\\\" R=\\\"1\\\"></Pty><Pty ID=\\\"321\\\" R=\\\"4\\\"></Pty><Pty ID=\\\"00120007\\\" R=\\\"24\\\"><Sub ID=\\\"1\\\" Typ=\\\"26\\\"></Sub></Pty><Pty ID=\\\"A123\\\" R=\\\"12\\\"></Pty><TrdRegTS TS=\\\"2023-02-15T05:17:30.230-6:00\\\" Typ=\\\"1\\\"></TrdRegTS></RptSide></TrdCaptRpt>\"\n        ],\n        \"semantic_type\": \"\",\n        \"description\": \"\"\n      }\n    },\n    {\n      \"column\": \"cleaned_input_message\",\n      \"properties\": {\n        \"dtype\": \"string\",\n        \"num_unique_values\": 1000,\n        \"samples\": [\n          \"TrdCaptRpt RptID=275205 TrdID=20991691514 TransTyp=0 RptTyp=2 TrdTyp=3 MtchID=30851585027 PxTyp=10 LastQty=60 LastPx=370 TrdDt=2023-01-02 BizDt=2023-01-06 TxnTm=2023-03-20T05:17:30.326-7:00 Hdr SID=MGEX TID=HBPL PosDup=N PosRsnd=N Snt=2023-03-20T05:17:30.350-7:00 Hdr Instrmt Sym=TMP ID=BUI Src=H CFI=MKLPON MMY=202307 MatDt=2023-07-1 Mult=0.3 Exch=SNTL Instrmt RptSide Side=1 Ccy=USD InptSrc=SY InptDev=PORTAL CustCpcty=2 PosEfct=O ClOrdID=145 MLegRptTyp=1 AllocInd=1 Pty ID=MGEX R=21 Pty Pty ID=210 R=1 Pty Pty ID=104 R=4 Pty Pty ID=Ahlem-110 R=24 Sub ID=1 Typ=26 Sub Pty Pty ID=200 R=12 Pty TrdRegTS TS=2023-03-20T05:17:30.326-7:00 Typ=1 TrdRegTS RptSide TrdCaptRpt  TrdCaptRpt RptID=20991691514 TrdDt=2023-01-02 BizDt=2023-01-06 TxnTm=2023-03-20T05:17:30.326-7:00 TrdID=20991691514 TransTyp=2 RptTyp=0 LastQty=60.0 LastPx=370.0 Hdr Snt=2023-03-20T22:03:12.436+01:00 TID=MGEX SID=HBPL Instrmt Exch=SNTL ID=BUI MMY=202307 CFI=APYBKL RptSide Side=1 CustCpcty=4 Pty ID=210 R=1 Pty ID=Hassen R=24 Sub ID=1 Typ=26 Pty RptSide TrdCaptRpt \",\n          \"TrdCaptRpt RptID=22741 TrdID=25365059748 TransTyp=0 RptTyp=2 TrdTyp=45 MtchID=37109305140 PxTyp=2 LastQty=49 LastPx=370 TrdDt=2022-12-17 BizDt=2023-02-10 TxnTm=2023-02-15T10:18:15.100-7:00 Hdr SID=MGEX TID=B509 PosDup=Y PosRsnd=Y Snt=2023-02-15T10:18:15.350-7:00 Hdr Instrmt Sym=BUI ID=IP0 Src=H CFI=FCCPXX MMY=202305 MatDt=2023-05-26 Mult=300 Exch=HDPL Instrmt RptSide Side=1 Ccy=USD InptSrc=EL InptDev=EXCHANGE CustCpcty=3 PosEfct=O ClOrdID=123 MLegRptTyp=1 AllocInd=1 Pty ID=MGEX R=21 Pty Pty ID=210 R=1 Pty Pty ID=498 R=4 Pty Pty ID=Karim-200 R=24 Sub ID=2 Typ=26 Sub Pty Pty ID=100 R=12 Pty TrdRegTS TS=2023-02-15T10:18:15.100-7:00 Typ=1 TrdRegTS RptSide TrdCaptRpt  TrdCaptRpt RptID=25365059748 TrdDt=2022-12-17 BizDt=2023-02-10 TxnTm=2023-02-15T10:18:15.100-7:00 TrdID=25365059748 TransTyp=2 RptTyp=0 LastQty=49.0 LastPx=370.0 Hdr Snt=2023-02-15T22:03:12.436+01:00 TID=MGEX SID=B509 Instrmt Exch=HDPL ID=IP0 MMY=202305 CFI=APYBKL RptSide Side=1 CustCpcty=4 Pty ID=210 R=1 Pty ID=FIRMACT1 R=24 Sub ID=2 Typ=26 Pty RptSide TrdCaptRpt \",\n          \"TrdCaptRpt RptID=356647 TrdID=35631846916 TransTyp=0 RptTyp=2 TrdTyp=31 MtchID=25323547373 PxTyp=2 LastQty=100 LastPx=876 TrdDt=2023-01-05 BizDt=2023-02-05 TxnTm=2023-02-15T05:17:30.230-6:00 Hdr SID=MGEX TID=ABCD PosDup=N PosRsnd=N Snt=2023-02-15T05:17:30.350-6:00 Hdr Instrmt Sym=TMP ID=BUI Src=H CFI=FCAPSX MMY=202305 MatDt=2023-05-24 Mult=0.2 Exch=SNTL Instrmt RptSide Side=2 Ccy=USD InptSrc=EL InptDev=EXCHANGE CustCpcty=2 PosEfct=C ClOrdID=145 MLegRptTyp=2 AllocInd=0 Pty ID=MGEX R=21 Pty Pty ID=210 R=1 Pty Pty ID=321 R=4 Pty Pty ID=Karim-200 R=24 Sub ID=1 Typ=26 Sub Pty Pty ID=A123 R=12 Pty TrdRegTS TS=2023-02-15T05:17:30.230-6:00 Typ=1 TrdRegTS RptSide TrdCaptRpt  TrdCaptRpt RptID=35631846916 TrdDt=2023-01-05 BizDt=2023-02-05 TxnTm=2023-02-15T05:17:30.230-6:00 TrdID=35631846916 TransTyp=2 RptTyp=0 LastQty=100.0 LastPx=876.0 Hdr Snt=2023-02-15T19:33:05.333+01:00 TID=MGEX SID=ABCD Instrmt Exch=SNTL ID=BUI MMY=202305 CFI=FCAPSX RptSide Side=2 CustCpcty=3 Pty ID=210 R=1 Pty ID=00120007 R=24 Sub ID=1 Typ=26 Pty RptSide TrdCaptRpt \"\n        ],\n        \"semantic_type\": \"\",\n        \"description\": \"\"\n      }\n    }\n  ]\n}",
              "type": "dataframe",
              "variable_name": "df2"
            },
            "text/html": [
              "\n",
              "  <div id=\"df-8d48c2e8-04ac-4adc-8dba-d6b4d06c74b0\" class=\"colab-df-container\">\n",
              "    <div>\n",
              "<style scoped>\n",
              "    .dataframe tbody tr th:only-of-type {\n",
              "        vertical-align: middle;\n",
              "    }\n",
              "\n",
              "    .dataframe tbody tr th {\n",
              "        vertical-align: top;\n",
              "    }\n",
              "\n",
              "    .dataframe thead th {\n",
              "        text-align: right;\n",
              "    }\n",
              "</style>\n",
              "<table border=\"1\" class=\"dataframe\">\n",
              "  <thead>\n",
              "    <tr style=\"text-align: right;\">\n",
              "      <th></th>\n",
              "      <th>CCP_Message</th>\n",
              "      <th>cleaned_input_message</th>\n",
              "    </tr>\n",
              "  </thead>\n",
              "  <tbody>\n",
              "    <tr>\n",
              "      <th>0</th>\n",
              "      <td>&lt;TrdCaptRpt RptID=\"580198\" TrdID=\"38385799331\"...</td>\n",
              "      <td>TrdCaptRpt RptID=285353 TrdID=38385799331 Tran...</td>\n",
              "    </tr>\n",
              "    <tr>\n",
              "      <th>1</th>\n",
              "      <td>&lt;TrdCaptRpt RptID=\"580198\" TrdID=\"38703724873\"...</td>\n",
              "      <td>TrdCaptRpt RptID=332874 TrdID=38703724873 Tran...</td>\n",
              "    </tr>\n",
              "    <tr>\n",
              "      <th>2</th>\n",
              "      <td>&lt;TrdCaptRpt RptID=\"580198\" TrdID=\"29140627371\"...</td>\n",
              "      <td>TrdCaptRpt RptID=57243 TrdID=29140627371 Trans...</td>\n",
              "    </tr>\n",
              "    <tr>\n",
              "      <th>3</th>\n",
              "      <td>&lt;TrdCaptRpt RptID=\"580198\" TrdID=\"38678625887\"...</td>\n",
              "      <td>TrdCaptRpt RptID=169564 TrdID=38678625887 Tran...</td>\n",
              "    </tr>\n",
              "    <tr>\n",
              "      <th>4</th>\n",
              "      <td>&lt;TrdCaptRpt RptID=\"580198\" TrdID=\"34041639428\"...</td>\n",
              "      <td>TrdCaptRpt RptID=182141 TrdID=34041639428 Tran...</td>\n",
              "    </tr>\n",
              "  </tbody>\n",
              "</table>\n",
              "</div>\n",
              "    <div class=\"colab-df-buttons\">\n",
              "\n",
              "  <div class=\"colab-df-container\">\n",
              "    <button class=\"colab-df-convert\" onclick=\"convertToInteractive('df-8d48c2e8-04ac-4adc-8dba-d6b4d06c74b0')\"\n",
              "            title=\"Convert this dataframe to an interactive table.\"\n",
              "            style=\"display:none;\">\n",
              "\n",
              "  <svg xmlns=\"http://www.w3.org/2000/svg\" height=\"24px\" viewBox=\"0 -960 960 960\">\n",
              "    <path d=\"M120-120v-720h720v720H120Zm60-500h600v-160H180v160Zm220 220h160v-160H400v160Zm0 220h160v-160H400v160ZM180-400h160v-160H180v160Zm440 0h160v-160H620v160ZM180-180h160v-160H180v160Zm440 0h160v-160H620v160Z\"/>\n",
              "  </svg>\n",
              "    </button>\n",
              "\n",
              "  <style>\n",
              "    .colab-df-container {\n",
              "      display:flex;\n",
              "      gap: 12px;\n",
              "    }\n",
              "\n",
              "    .colab-df-convert {\n",
              "      background-color: #E8F0FE;\n",
              "      border: none;\n",
              "      border-radius: 50%;\n",
              "      cursor: pointer;\n",
              "      display: none;\n",
              "      fill: #1967D2;\n",
              "      height: 32px;\n",
              "      padding: 0 0 0 0;\n",
              "      width: 32px;\n",
              "    }\n",
              "\n",
              "    .colab-df-convert:hover {\n",
              "      background-color: #E2EBFA;\n",
              "      box-shadow: 0px 1px 2px rgba(60, 64, 67, 0.3), 0px 1px 3px 1px rgba(60, 64, 67, 0.15);\n",
              "      fill: #174EA6;\n",
              "    }\n",
              "\n",
              "    .colab-df-buttons div {\n",
              "      margin-bottom: 4px;\n",
              "    }\n",
              "\n",
              "    [theme=dark] .colab-df-convert {\n",
              "      background-color: #3B4455;\n",
              "      fill: #D2E3FC;\n",
              "    }\n",
              "\n",
              "    [theme=dark] .colab-df-convert:hover {\n",
              "      background-color: #434B5C;\n",
              "      box-shadow: 0px 1px 3px 1px rgba(0, 0, 0, 0.15);\n",
              "      filter: drop-shadow(0px 1px 2px rgba(0, 0, 0, 0.3));\n",
              "      fill: #FFFFFF;\n",
              "    }\n",
              "  </style>\n",
              "\n",
              "    <script>\n",
              "      const buttonEl =\n",
              "        document.querySelector('#df-8d48c2e8-04ac-4adc-8dba-d6b4d06c74b0 button.colab-df-convert');\n",
              "      buttonEl.style.display =\n",
              "        google.colab.kernel.accessAllowed ? 'block' : 'none';\n",
              "\n",
              "      async function convertToInteractive(key) {\n",
              "        const element = document.querySelector('#df-8d48c2e8-04ac-4adc-8dba-d6b4d06c74b0');\n",
              "        const dataTable =\n",
              "          await google.colab.kernel.invokeFunction('convertToInteractive',\n",
              "                                                    [key], {});\n",
              "        if (!dataTable) return;\n",
              "\n",
              "        const docLinkHtml = 'Like what you see? Visit the ' +\n",
              "          '<a target=\"_blank\" href=https://colab.research.google.com/notebooks/data_table.ipynb>data table notebook</a>'\n",
              "          + ' to learn more about interactive tables.';\n",
              "        element.innerHTML = '';\n",
              "        dataTable['output_type'] = 'display_data';\n",
              "        await google.colab.output.renderOutput(dataTable, element);\n",
              "        const docLink = document.createElement('div');\n",
              "        docLink.innerHTML = docLinkHtml;\n",
              "        element.appendChild(docLink);\n",
              "      }\n",
              "    </script>\n",
              "  </div>\n",
              "\n",
              "\n",
              "<div id=\"df-07a74427-2fcc-4d4a-887f-029b55cff950\">\n",
              "  <button class=\"colab-df-quickchart\" onclick=\"quickchart('df-07a74427-2fcc-4d4a-887f-029b55cff950')\"\n",
              "            title=\"Suggest charts\"\n",
              "            style=\"display:none;\">\n",
              "\n",
              "<svg xmlns=\"http://www.w3.org/2000/svg\" height=\"24px\"viewBox=\"0 0 24 24\"\n",
              "     width=\"24px\">\n",
              "    <g>\n",
              "        <path d=\"M19 3H5c-1.1 0-2 .9-2 2v14c0 1.1.9 2 2 2h14c1.1 0 2-.9 2-2V5c0-1.1-.9-2-2-2zM9 17H7v-7h2v7zm4 0h-2V7h2v10zm4 0h-2v-4h2v4z\"/>\n",
              "    </g>\n",
              "</svg>\n",
              "  </button>\n",
              "\n",
              "<style>\n",
              "  .colab-df-quickchart {\n",
              "      --bg-color: #E8F0FE;\n",
              "      --fill-color: #1967D2;\n",
              "      --hover-bg-color: #E2EBFA;\n",
              "      --hover-fill-color: #174EA6;\n",
              "      --disabled-fill-color: #AAA;\n",
              "      --disabled-bg-color: #DDD;\n",
              "  }\n",
              "\n",
              "  [theme=dark] .colab-df-quickchart {\n",
              "      --bg-color: #3B4455;\n",
              "      --fill-color: #D2E3FC;\n",
              "      --hover-bg-color: #434B5C;\n",
              "      --hover-fill-color: #FFFFFF;\n",
              "      --disabled-bg-color: #3B4455;\n",
              "      --disabled-fill-color: #666;\n",
              "  }\n",
              "\n",
              "  .colab-df-quickchart {\n",
              "    background-color: var(--bg-color);\n",
              "    border: none;\n",
              "    border-radius: 50%;\n",
              "    cursor: pointer;\n",
              "    display: none;\n",
              "    fill: var(--fill-color);\n",
              "    height: 32px;\n",
              "    padding: 0;\n",
              "    width: 32px;\n",
              "  }\n",
              "\n",
              "  .colab-df-quickchart:hover {\n",
              "    background-color: var(--hover-bg-color);\n",
              "    box-shadow: 0 1px 2px rgba(60, 64, 67, 0.3), 0 1px 3px 1px rgba(60, 64, 67, 0.15);\n",
              "    fill: var(--button-hover-fill-color);\n",
              "  }\n",
              "\n",
              "  .colab-df-quickchart-complete:disabled,\n",
              "  .colab-df-quickchart-complete:disabled:hover {\n",
              "    background-color: var(--disabled-bg-color);\n",
              "    fill: var(--disabled-fill-color);\n",
              "    box-shadow: none;\n",
              "  }\n",
              "\n",
              "  .colab-df-spinner {\n",
              "    border: 2px solid var(--fill-color);\n",
              "    border-color: transparent;\n",
              "    border-bottom-color: var(--fill-color);\n",
              "    animation:\n",
              "      spin 1s steps(1) infinite;\n",
              "  }\n",
              "\n",
              "  @keyframes spin {\n",
              "    0% {\n",
              "      border-color: transparent;\n",
              "      border-bottom-color: var(--fill-color);\n",
              "      border-left-color: var(--fill-color);\n",
              "    }\n",
              "    20% {\n",
              "      border-color: transparent;\n",
              "      border-left-color: var(--fill-color);\n",
              "      border-top-color: var(--fill-color);\n",
              "    }\n",
              "    30% {\n",
              "      border-color: transparent;\n",
              "      border-left-color: var(--fill-color);\n",
              "      border-top-color: var(--fill-color);\n",
              "      border-right-color: var(--fill-color);\n",
              "    }\n",
              "    40% {\n",
              "      border-color: transparent;\n",
              "      border-right-color: var(--fill-color);\n",
              "      border-top-color: var(--fill-color);\n",
              "    }\n",
              "    60% {\n",
              "      border-color: transparent;\n",
              "      border-right-color: var(--fill-color);\n",
              "    }\n",
              "    80% {\n",
              "      border-color: transparent;\n",
              "      border-right-color: var(--fill-color);\n",
              "      border-bottom-color: var(--fill-color);\n",
              "    }\n",
              "    90% {\n",
              "      border-color: transparent;\n",
              "      border-bottom-color: var(--fill-color);\n",
              "    }\n",
              "  }\n",
              "</style>\n",
              "\n",
              "  <script>\n",
              "    async function quickchart(key) {\n",
              "      const quickchartButtonEl =\n",
              "        document.querySelector('#' + key + ' button');\n",
              "      quickchartButtonEl.disabled = true;  // To prevent multiple clicks.\n",
              "      quickchartButtonEl.classList.add('colab-df-spinner');\n",
              "      try {\n",
              "        const charts = await google.colab.kernel.invokeFunction(\n",
              "            'suggestCharts', [key], {});\n",
              "      } catch (error) {\n",
              "        console.error('Error during call to suggestCharts:', error);\n",
              "      }\n",
              "      quickchartButtonEl.classList.remove('colab-df-spinner');\n",
              "      quickchartButtonEl.classList.add('colab-df-quickchart-complete');\n",
              "    }\n",
              "    (() => {\n",
              "      let quickchartButtonEl =\n",
              "        document.querySelector('#df-07a74427-2fcc-4d4a-887f-029b55cff950 button');\n",
              "      quickchartButtonEl.style.display =\n",
              "        google.colab.kernel.accessAllowed ? 'block' : 'none';\n",
              "    })();\n",
              "  </script>\n",
              "</div>\n",
              "\n",
              "    </div>\n",
              "  </div>\n"
            ],
            "text/plain": [
              "                                         CCP_Message  \\\n",
              "0  <TrdCaptRpt RptID=\"580198\" TrdID=\"38385799331\"...   \n",
              "1  <TrdCaptRpt RptID=\"580198\" TrdID=\"38703724873\"...   \n",
              "2  <TrdCaptRpt RptID=\"580198\" TrdID=\"29140627371\"...   \n",
              "3  <TrdCaptRpt RptID=\"580198\" TrdID=\"38678625887\"...   \n",
              "4  <TrdCaptRpt RptID=\"580198\" TrdID=\"34041639428\"...   \n",
              "\n",
              "                               cleaned_input_message  \n",
              "0  TrdCaptRpt RptID=285353 TrdID=38385799331 Tran...  \n",
              "1  TrdCaptRpt RptID=332874 TrdID=38703724873 Tran...  \n",
              "2  TrdCaptRpt RptID=57243 TrdID=29140627371 Trans...  \n",
              "3  TrdCaptRpt RptID=169564 TrdID=38678625887 Tran...  \n",
              "4  TrdCaptRpt RptID=182141 TrdID=34041639428 Tran...  "
            ]
          },
          "execution_count": 16,
          "metadata": {},
          "output_type": "execute_result"
        }
      ],
      "source": [
        "df2.head()"
      ]
    },
    {
      "cell_type": "code",
      "execution_count": null,
      "metadata": {
        "colab": {
          "base_uri": "https://localhost:8080/",
          "height": 123
        },
        "id": "robDREt_iuIQ",
        "outputId": "84b36826-f03a-4607-f23c-55416e7134ab"
      },
      "outputs": [
        {
          "data": {
            "application/vnd.google.colaboratory.intrinsic+json": {
              "type": "string"
            },
            "text/plain": [
              "'TrdCaptRpt RptID=285353 TrdID=38385799331 TransTyp=0 RptTyp=2 TrdTyp=45 MtchID=24363781904 PxTyp=10 LastQty=14 LastPx=370 TrdDt=2023-01-05 BizDt=2023-01-20 TxnTm=2023-02-21T16:40:55.326-6:00 Hdr SID=MGEX TID=B509 PosDup=N PosRsnd=Y Snt=2023-02-21T16:40:55.470-6:00 Hdr Instrmt Sym=ABP ID=LM Src=H CFI=FCAPSX MMY=202305 MatDt=2023-05-28 Mult=5000 Exch=BTNL Instrmt RptSide Side=2 Ccy=USD InptSrc=MA InptDev=API CustCpcty=3 PosEfct=C ClOrdID=245BTN MLegRptTyp=3 AllocInd=0 Pty ID=MGEX R=21 Pty Pty ID=210 R=1 Pty Pty ID=437 R=4 Pty Pty ID=Ahlem-110 R=24 Sub ID=1 Typ=26 Sub Pty Pty ID=B115 R=12 Pty TrdRegTS TS=2023-02-21T16:40:55.326-6:00 Typ=1 TrdRegTS RptSide TrdCaptRpt  TrdCaptRpt RptID=38385799331 TrdDt=2023-01-05 BizDt=2023-01-20 TxnTm=2023-02-21T16:40:55.326-6:00 TrdID=38385799331 TransTyp=2 RptTyp=0 LastQty=14.0 LastPx=370.0 Hdr Snt=2023-02-21T17:30:55.600+01:00 TID=MGEX SID=B509 Instrmt Exch=BTNL ID=LM MMY=202305 CFI=APYBKL RptSide Side=2 CustCpcty=3 Pty ID=210 R=1 Pty ID=Ahlem R=24 Sub ID=1 Typ=26 Pty RptSide TrdCaptRpt '"
            ]
          },
          "execution_count": 17,
          "metadata": {},
          "output_type": "execute_result"
        }
      ],
      "source": [
        "df2['cleaned_input_message'].iloc[0]"
      ]
    },
    {
      "cell_type": "code",
      "execution_count": null,
      "metadata": {
        "id": "M013DRrLj9Le"
      },
      "outputs": [],
      "source": [
        "train_data = df2.iloc[:int(len(df2) * 0.9)]\n",
        "val_data = df2.iloc[int(len(df2) * 0.9):]"
      ]
    },
    {
      "cell_type": "code",
      "execution_count": null,
      "metadata": {
        "colab": {
          "base_uri": "https://localhost:8080/"
        },
        "id": "T4nYoN4_lCDd",
        "outputId": "8ace1ead-ae9d-4d3f-ff87-0dbb76bce26d"
      },
      "outputs": [
        {
          "data": {
            "text/plain": [
              "(900, 2)"
            ]
          },
          "execution_count": 19,
          "metadata": {},
          "output_type": "execute_result"
        }
      ],
      "source": [
        "train_data.shape"
      ]
    },
    {
      "cell_type": "code",
      "execution_count": null,
      "metadata": {
        "colab": {
          "base_uri": "https://localhost:8080/",
          "height": 206
        },
        "id": "a62xTHNFlEn0",
        "outputId": "62f117cd-181b-4375-dd38-5c180433932a"
      },
      "outputs": [
        {
          "data": {
            "application/vnd.google.colaboratory.intrinsic+json": {
              "summary": "{\n  \"name\": \"train_data\",\n  \"rows\": 900,\n  \"fields\": [\n    {\n      \"column\": \"CCP_Message\",\n      \"properties\": {\n        \"dtype\": \"string\",\n        \"num_unique_values\": 900,\n        \"samples\": [\n          \"<TrdCaptRpt RptID=\\\"580198\\\" TrdID=\\\"26047000400\\\" TransTyp=\\\"2\\\" RptTyp=\\\"2\\\" TrdTyp=\\\"0\\\" MtchID=\\\"23816134820\\\" PxTyp=\\\"2\\\" LastQty=\\\"99\\\" LastPx=\\\"876\\\" TrdDt=\\\"2022-12-21\\\" BizDt=\\\"2023-02-05\\\" TxnTm=\\\"2023-03-30T00:12:55.138-7:00\\\"><Hdr SID=\\\"MGEX\\\" TID=\\\"ABCD\\\" PosDup=\\\"N\\\" PosRsnd=\\\"N\\\" Snt=\\\"2023-03-30T00:12:55.160-7:00\\\"></Hdr><Instrmt Sym=\\\"BUI\\\" ID=\\\"AS\\\" Src=\\\"H\\\" CFI=\\\"FCCPXX\\\" MMY=\\\"202305\\\" MatDt=\\\"2023-05-9\\\" Mult=\\\"50\\\" Exch=\\\"SNTL\\\"></Instrmt><RptSide Side=\\\"2\\\" Ccy=\\\"USD\\\" InptSrc=\\\"MA\\\" InptDev=\\\"EXCHANGE\\\" CustCpcty=\\\"1\\\" PosEfct=\\\"C\\\" ClOrdID=\\\"123\\\" MLegRptTyp=\\\"3\\\" AllocInd=\\\"1\\\"><Pty ID=\\\"MGEX\\\" R=\\\"21\\\"></Pty><Pty ID=\\\"210\\\" R=\\\"1\\\"></Pty><Pty ID=\\\"286\\\" R=\\\"4\\\"></Pty><Pty ID=\\\"arij\\\" R=\\\"24\\\"><Sub ID=\\\"2\\\" Typ=\\\"26\\\"></Sub></Pty><Pty ID=\\\"100\\\" R=\\\"12\\\"></Pty><TrdRegTS TS=\\\"2023-03-30T10:18:15.100-7:00\\\" Typ=\\\"1\\\"></TrdRegTS></RptSide></TrdCaptRpt>\",\n          \"<TrdCaptRpt RptID=\\\"580198\\\" TrdID=\\\"22557941893\\\" TransTyp=\\\"2\\\" RptTyp=\\\"2\\\" TrdTyp=\\\"20\\\" MtchID=\\\"25685153914\\\" PxTyp=\\\"10\\\" LastQty=\\\"42\\\" LastPx=\\\"300.9\\\" TrdDt=\\\"2022-12-17\\\" BizDt=\\\"2023-02-05\\\" TxnTm=\\\"2023-02-15T00:12:55.138-5:00\\\"><Hdr SID=\\\"MGEX\\\" TID=\\\"HBPL\\\" PosDup=\\\"Y\\\" PosRsnd=\\\"Y\\\" Snt=\\\"2023-02-15T00:12:55.160-5:00\\\"></Hdr><Instrmt Sym=\\\"TMP\\\" ID=\\\"IP0\\\" Src=\\\"H\\\" CFI=\\\"MKLPON\\\" MMY=\\\"202307\\\" MatDt=\\\"2023-07-16\\\" Mult=\\\"2000\\\" Exch=\\\"XMGE\\\"></Instrmt><RptSide Side=\\\"2\\\" Ccy=\\\"USD\\\" InptSrc=\\\"MA\\\" InptDev=\\\"EXCHANGE\\\" CustCpcty=\\\"2\\\" PosEfct=\\\"C\\\" ClOrdID=\\\"987NL\\\" MLegRptTyp=\\\"1\\\" AllocInd=\\\"1\\\"><Pty ID=\\\"MGEX\\\" R=\\\"21\\\"></Pty><Pty ID=\\\"210\\\" R=\\\"1\\\"></Pty><Pty ID=\\\"253\\\" R=\\\"4\\\"></Pty><Pty ID=\\\"Ahlem\\\" R=\\\"24\\\"><Sub ID=\\\"1\\\" Typ=\\\"26\\\"></Sub></Pty><Pty ID=\\\"100\\\" R=\\\"12\\\"></Pty><TrdRegTS TS=\\\"2023-02-15T12:25:13.326-5:00\\\" Typ=\\\"1\\\"></TrdRegTS></RptSide></TrdCaptRpt>\",\n          \"<TrdCaptRpt RptID=\\\"580198\\\" TrdID=\\\"32541257269\\\" TransTyp=\\\"2\\\" RptTyp=\\\"2\\\" TrdTyp=\\\"31\\\" MtchID=\\\"28765905570\\\" PxTyp=\\\"2\\\" LastQty=\\\"92\\\" LastPx=\\\"100\\\" TrdDt=\\\"2022-12-17\\\" BizDt=\\\"2023-01-06\\\" TxnTm=\\\"2023-02-21T00:12:55.138-5:00\\\"><Hdr SID=\\\"MGEX\\\" TID=\\\"HBPL\\\" PosDup=\\\"N\\\" PosRsnd=\\\"Y\\\" Snt=\\\"2023-02-21T00:12:55.160-5:00\\\"></Hdr><Instrmt Sym=\\\"TMP\\\" ID=\\\"W\\\" Src=\\\"H\\\" CFI=\\\"FCCPXX\\\" MMY=\\\"202310\\\" MatDt=\\\"2023-10-25\\\" Mult=\\\"200\\\" Exch=\\\"BTNL\\\"></Instrmt><RptSide Side=\\\"1\\\" Ccy=\\\"USD\\\" InptSrc=\\\"EL\\\" InptDev=\\\"PORTAL\\\" CustCpcty=\\\"3\\\" PosEfct=\\\"O\\\" ClOrdID=\\\"987NL\\\" MLegRptTyp=\\\"1\\\" AllocInd=\\\"1\\\"><Pty ID=\\\"MGEX\\\" R=\\\"21\\\"></Pty><Pty ID=\\\"210\\\" R=\\\"1\\\"></Pty><Pty ID=\\\"499\\\" R=\\\"4\\\"></Pty><Pty ID=\\\"AKLPM9\\\" R=\\\"24\\\"><Sub ID=\\\"2\\\" Typ=\\\"26\\\"></Sub></Pty><Pty ID=\\\"200\\\" R=\\\"12\\\"></Pty><TrdRegTS TS=\\\"2023-02-21T16:40:55.326-5:00\\\" Typ=\\\"1\\\"></TrdRegTS></RptSide></TrdCaptRpt>\"\n        ],\n        \"semantic_type\": \"\",\n        \"description\": \"\"\n      }\n    },\n    {\n      \"column\": \"cleaned_input_message\",\n      \"properties\": {\n        \"dtype\": \"string\",\n        \"num_unique_values\": 900,\n        \"samples\": [\n          \"TrdCaptRpt RptID=308216 TrdID=26047000400 TransTyp=0 RptTyp=2 TrdTyp=0 MtchID=23816134820 PxTyp=2 LastQty=99 LastPx=876 TrdDt=2022-12-21 BizDt=2023-02-05 TxnTm=2023-03-30T10:18:15.100-7:00 Hdr SID=MGEX TID=ABCD PosDup=N PosRsnd=N Snt=2023-03-30T10:18:15.470-7:00 Hdr Instrmt Sym=BUI ID=AS Src=H CFI=FCCPXX MMY=202305 MatDt=2023-05-9 Mult=50 Exch=SNTL Instrmt RptSide Side=2 Ccy=USD InptSrc=MA InptDev=EXCHANGE CustCpcty=1 PosEfct=C ClOrdID=123 MLegRptTyp=3 AllocInd=1 Pty ID=MGEX R=21 Pty Pty ID=210 R=1 Pty Pty ID=286 R=4 Pty Pty ID=Mariem R=24 Sub ID=2 Typ=26 Sub Pty Pty ID=100 R=12 Pty TrdRegTS TS=2023-03-30T10:18:15.100-7:00 Typ=1 TrdRegTS RptSide TrdCaptRpt  TrdCaptRpt RptID=26047000400 TrdDt=2022-12-21 BizDt=2023-02-05 TxnTm=2023-03-30T10:18:15.100-7:00 TrdID=26047000400 TransTyp=2 RptTyp=0 LastQty=99.0 LastPx=876.0 Hdr Snt=2023-03-30T19:33:05.333+01:00 TID=MGEX SID=ABCD Instrmt Exch=SNTL ID=AS MMY=202305 CFI=APYBKL RptSide Side=2 CustCpcty=1 Pty ID=210 R=1 Pty ID=arij R=24 Sub ID=2 Typ=26 Pty RptSide TrdCaptRpt \",\n          \"TrdCaptRpt RptID=384420 TrdID=22557941893 TransTyp=0 RptTyp=2 TrdTyp=20 MtchID=25685153914 PxTyp=10 LastQty=42 LastPx=300.9 TrdDt=2022-12-17 BizDt=2023-02-05 TxnTm=2023-02-15T12:25:13.326-5:00 Hdr SID=MGEX TID=HBPL PosDup=Y PosRsnd=Y Snt=2023-02-15T12:25:13.350-5:00 Hdr Instrmt Sym=TMP ID=IP0 Src=H CFI=MKLPON MMY=202307 MatDt=2023-07-16 Mult=2000 Exch=XMGE Instrmt RptSide Side=2 Ccy=USD InptSrc=MA InptDev=EXCHANGE CustCpcty=1 PosEfct=C ClOrdID=987NL MLegRptTyp=1 AllocInd=1 Pty ID=MGEX R=21 Pty Pty ID=210 R=1 Pty Pty ID=253 R=4 Pty Pty ID=Mariem R=24 Sub ID=1 Typ=26 Sub Pty Pty ID=100 R=12 Pty TrdRegTS TS=2023-02-15T12:25:13.326-5:00 Typ=1 TrdRegTS RptSide TrdCaptRpt  TrdCaptRpt RptID=22557941893 TrdDt=2022-12-17 BizDt=2023-02-05 TxnTm=2023-02-15T12:25:13.326-5:00 TrdID=22557941893 TransTyp=2 RptTyp=0 LastQty=42.0 LastPx=300.9 Hdr Snt=2023-02-15T22:03:12.436+01:00 TID=MGEX SID=HBPL Instrmt Exch=XMGE ID=IP0 MMY=202307 CFI=APYBKL RptSide Side=2 CustCpcty=2 Pty ID=210 R=1 Pty ID=Ahlem R=24 Sub ID=1 Typ=26 Pty RptSide TrdCaptRpt \",\n          \"TrdCaptRpt RptID=153885 TrdID=32541257269 TransTyp=0 RptTyp=2 TrdTyp=31 MtchID=28765905570 PxTyp=2 LastQty=92 LastPx=100 TrdDt=2022-12-17 BizDt=2023-01-06 TxnTm=2023-02-21T16:40:55.326-5:00 Hdr SID=MGEX TID=HBPL PosDup=N PosRsnd=Y Snt=2023-02-21T16:40:55.350-5:00 Hdr Instrmt Sym=TMP ID=W Src=H CFI=FCCPXX MMY=202310 MatDt=2023-10-25 Mult=200 Exch=BTNL Instrmt RptSide Side=1 Ccy=USD InptSrc=EL InptDev=PORTAL CustCpcty=1 PosEfct=O ClOrdID=987NL MLegRptTyp=1 AllocInd=1 Pty ID=MGEX R=21 Pty Pty ID=210 R=1 Pty Pty ID=499 R=4 Pty Pty ID=ahmed R=24 Sub ID=2 Typ=26 Sub Pty Pty ID=200 R=12 Pty TrdRegTS TS=2023-02-21T16:40:55.326-5:00 Typ=1 TrdRegTS RptSide TrdCaptRpt  TrdCaptRpt RptID=32541257269 TrdDt=2022-12-17 BizDt=2023-01-06 TxnTm=2023-02-21T16:40:55.326-5:00 TrdID=32541257269 TransTyp=2 RptTyp=0 LastQty=92.0 LastPx=100.0 Hdr Snt=2023-02-21T19:33:05.333+01:00 TID=MGEX SID=HBPL Instrmt Exch=BTNL ID=W MMY=202310 CFI=MKLPON RptSide Side=1 CustCpcty=3 Pty ID=210 R=1 Pty ID=AKLPM9 R=24 Sub ID=2 Typ=26 Pty RptSide TrdCaptRpt \"\n        ],\n        \"semantic_type\": \"\",\n        \"description\": \"\"\n      }\n    }\n  ]\n}",
              "type": "dataframe",
              "variable_name": "train_data"
            },
            "text/html": [
              "\n",
              "  <div id=\"df-c85a5b44-0225-4ddb-91ec-ae913429de4b\" class=\"colab-df-container\">\n",
              "    <div>\n",
              "<style scoped>\n",
              "    .dataframe tbody tr th:only-of-type {\n",
              "        vertical-align: middle;\n",
              "    }\n",
              "\n",
              "    .dataframe tbody tr th {\n",
              "        vertical-align: top;\n",
              "    }\n",
              "\n",
              "    .dataframe thead th {\n",
              "        text-align: right;\n",
              "    }\n",
              "</style>\n",
              "<table border=\"1\" class=\"dataframe\">\n",
              "  <thead>\n",
              "    <tr style=\"text-align: right;\">\n",
              "      <th></th>\n",
              "      <th>CCP_Message</th>\n",
              "      <th>cleaned_input_message</th>\n",
              "    </tr>\n",
              "  </thead>\n",
              "  <tbody>\n",
              "    <tr>\n",
              "      <th>0</th>\n",
              "      <td>&lt;TrdCaptRpt RptID=\"580198\" TrdID=\"38385799331\"...</td>\n",
              "      <td>TrdCaptRpt RptID=285353 TrdID=38385799331 Tran...</td>\n",
              "    </tr>\n",
              "    <tr>\n",
              "      <th>1</th>\n",
              "      <td>&lt;TrdCaptRpt RptID=\"580198\" TrdID=\"38703724873\"...</td>\n",
              "      <td>TrdCaptRpt RptID=332874 TrdID=38703724873 Tran...</td>\n",
              "    </tr>\n",
              "    <tr>\n",
              "      <th>2</th>\n",
              "      <td>&lt;TrdCaptRpt RptID=\"580198\" TrdID=\"29140627371\"...</td>\n",
              "      <td>TrdCaptRpt RptID=57243 TrdID=29140627371 Trans...</td>\n",
              "    </tr>\n",
              "    <tr>\n",
              "      <th>3</th>\n",
              "      <td>&lt;TrdCaptRpt RptID=\"580198\" TrdID=\"38678625887\"...</td>\n",
              "      <td>TrdCaptRpt RptID=169564 TrdID=38678625887 Tran...</td>\n",
              "    </tr>\n",
              "    <tr>\n",
              "      <th>4</th>\n",
              "      <td>&lt;TrdCaptRpt RptID=\"580198\" TrdID=\"34041639428\"...</td>\n",
              "      <td>TrdCaptRpt RptID=182141 TrdID=34041639428 Tran...</td>\n",
              "    </tr>\n",
              "  </tbody>\n",
              "</table>\n",
              "</div>\n",
              "    <div class=\"colab-df-buttons\">\n",
              "\n",
              "  <div class=\"colab-df-container\">\n",
              "    <button class=\"colab-df-convert\" onclick=\"convertToInteractive('df-c85a5b44-0225-4ddb-91ec-ae913429de4b')\"\n",
              "            title=\"Convert this dataframe to an interactive table.\"\n",
              "            style=\"display:none;\">\n",
              "\n",
              "  <svg xmlns=\"http://www.w3.org/2000/svg\" height=\"24px\" viewBox=\"0 -960 960 960\">\n",
              "    <path d=\"M120-120v-720h720v720H120Zm60-500h600v-160H180v160Zm220 220h160v-160H400v160Zm0 220h160v-160H400v160ZM180-400h160v-160H180v160Zm440 0h160v-160H620v160ZM180-180h160v-160H180v160Zm440 0h160v-160H620v160Z\"/>\n",
              "  </svg>\n",
              "    </button>\n",
              "\n",
              "  <style>\n",
              "    .colab-df-container {\n",
              "      display:flex;\n",
              "      gap: 12px;\n",
              "    }\n",
              "\n",
              "    .colab-df-convert {\n",
              "      background-color: #E8F0FE;\n",
              "      border: none;\n",
              "      border-radius: 50%;\n",
              "      cursor: pointer;\n",
              "      display: none;\n",
              "      fill: #1967D2;\n",
              "      height: 32px;\n",
              "      padding: 0 0 0 0;\n",
              "      width: 32px;\n",
              "    }\n",
              "\n",
              "    .colab-df-convert:hover {\n",
              "      background-color: #E2EBFA;\n",
              "      box-shadow: 0px 1px 2px rgba(60, 64, 67, 0.3), 0px 1px 3px 1px rgba(60, 64, 67, 0.15);\n",
              "      fill: #174EA6;\n",
              "    }\n",
              "\n",
              "    .colab-df-buttons div {\n",
              "      margin-bottom: 4px;\n",
              "    }\n",
              "\n",
              "    [theme=dark] .colab-df-convert {\n",
              "      background-color: #3B4455;\n",
              "      fill: #D2E3FC;\n",
              "    }\n",
              "\n",
              "    [theme=dark] .colab-df-convert:hover {\n",
              "      background-color: #434B5C;\n",
              "      box-shadow: 0px 1px 3px 1px rgba(0, 0, 0, 0.15);\n",
              "      filter: drop-shadow(0px 1px 2px rgba(0, 0, 0, 0.3));\n",
              "      fill: #FFFFFF;\n",
              "    }\n",
              "  </style>\n",
              "\n",
              "    <script>\n",
              "      const buttonEl =\n",
              "        document.querySelector('#df-c85a5b44-0225-4ddb-91ec-ae913429de4b button.colab-df-convert');\n",
              "      buttonEl.style.display =\n",
              "        google.colab.kernel.accessAllowed ? 'block' : 'none';\n",
              "\n",
              "      async function convertToInteractive(key) {\n",
              "        const element = document.querySelector('#df-c85a5b44-0225-4ddb-91ec-ae913429de4b');\n",
              "        const dataTable =\n",
              "          await google.colab.kernel.invokeFunction('convertToInteractive',\n",
              "                                                    [key], {});\n",
              "        if (!dataTable) return;\n",
              "\n",
              "        const docLinkHtml = 'Like what you see? Visit the ' +\n",
              "          '<a target=\"_blank\" href=https://colab.research.google.com/notebooks/data_table.ipynb>data table notebook</a>'\n",
              "          + ' to learn more about interactive tables.';\n",
              "        element.innerHTML = '';\n",
              "        dataTable['output_type'] = 'display_data';\n",
              "        await google.colab.output.renderOutput(dataTable, element);\n",
              "        const docLink = document.createElement('div');\n",
              "        docLink.innerHTML = docLinkHtml;\n",
              "        element.appendChild(docLink);\n",
              "      }\n",
              "    </script>\n",
              "  </div>\n",
              "\n",
              "\n",
              "<div id=\"df-01e6648a-3784-40a6-92db-7a79f6604a7e\">\n",
              "  <button class=\"colab-df-quickchart\" onclick=\"quickchart('df-01e6648a-3784-40a6-92db-7a79f6604a7e')\"\n",
              "            title=\"Suggest charts\"\n",
              "            style=\"display:none;\">\n",
              "\n",
              "<svg xmlns=\"http://www.w3.org/2000/svg\" height=\"24px\"viewBox=\"0 0 24 24\"\n",
              "     width=\"24px\">\n",
              "    <g>\n",
              "        <path d=\"M19 3H5c-1.1 0-2 .9-2 2v14c0 1.1.9 2 2 2h14c1.1 0 2-.9 2-2V5c0-1.1-.9-2-2-2zM9 17H7v-7h2v7zm4 0h-2V7h2v10zm4 0h-2v-4h2v4z\"/>\n",
              "    </g>\n",
              "</svg>\n",
              "  </button>\n",
              "\n",
              "<style>\n",
              "  .colab-df-quickchart {\n",
              "      --bg-color: #E8F0FE;\n",
              "      --fill-color: #1967D2;\n",
              "      --hover-bg-color: #E2EBFA;\n",
              "      --hover-fill-color: #174EA6;\n",
              "      --disabled-fill-color: #AAA;\n",
              "      --disabled-bg-color: #DDD;\n",
              "  }\n",
              "\n",
              "  [theme=dark] .colab-df-quickchart {\n",
              "      --bg-color: #3B4455;\n",
              "      --fill-color: #D2E3FC;\n",
              "      --hover-bg-color: #434B5C;\n",
              "      --hover-fill-color: #FFFFFF;\n",
              "      --disabled-bg-color: #3B4455;\n",
              "      --disabled-fill-color: #666;\n",
              "  }\n",
              "\n",
              "  .colab-df-quickchart {\n",
              "    background-color: var(--bg-color);\n",
              "    border: none;\n",
              "    border-radius: 50%;\n",
              "    cursor: pointer;\n",
              "    display: none;\n",
              "    fill: var(--fill-color);\n",
              "    height: 32px;\n",
              "    padding: 0;\n",
              "    width: 32px;\n",
              "  }\n",
              "\n",
              "  .colab-df-quickchart:hover {\n",
              "    background-color: var(--hover-bg-color);\n",
              "    box-shadow: 0 1px 2px rgba(60, 64, 67, 0.3), 0 1px 3px 1px rgba(60, 64, 67, 0.15);\n",
              "    fill: var(--button-hover-fill-color);\n",
              "  }\n",
              "\n",
              "  .colab-df-quickchart-complete:disabled,\n",
              "  .colab-df-quickchart-complete:disabled:hover {\n",
              "    background-color: var(--disabled-bg-color);\n",
              "    fill: var(--disabled-fill-color);\n",
              "    box-shadow: none;\n",
              "  }\n",
              "\n",
              "  .colab-df-spinner {\n",
              "    border: 2px solid var(--fill-color);\n",
              "    border-color: transparent;\n",
              "    border-bottom-color: var(--fill-color);\n",
              "    animation:\n",
              "      spin 1s steps(1) infinite;\n",
              "  }\n",
              "\n",
              "  @keyframes spin {\n",
              "    0% {\n",
              "      border-color: transparent;\n",
              "      border-bottom-color: var(--fill-color);\n",
              "      border-left-color: var(--fill-color);\n",
              "    }\n",
              "    20% {\n",
              "      border-color: transparent;\n",
              "      border-left-color: var(--fill-color);\n",
              "      border-top-color: var(--fill-color);\n",
              "    }\n",
              "    30% {\n",
              "      border-color: transparent;\n",
              "      border-left-color: var(--fill-color);\n",
              "      border-top-color: var(--fill-color);\n",
              "      border-right-color: var(--fill-color);\n",
              "    }\n",
              "    40% {\n",
              "      border-color: transparent;\n",
              "      border-right-color: var(--fill-color);\n",
              "      border-top-color: var(--fill-color);\n",
              "    }\n",
              "    60% {\n",
              "      border-color: transparent;\n",
              "      border-right-color: var(--fill-color);\n",
              "    }\n",
              "    80% {\n",
              "      border-color: transparent;\n",
              "      border-right-color: var(--fill-color);\n",
              "      border-bottom-color: var(--fill-color);\n",
              "    }\n",
              "    90% {\n",
              "      border-color: transparent;\n",
              "      border-bottom-color: var(--fill-color);\n",
              "    }\n",
              "  }\n",
              "</style>\n",
              "\n",
              "  <script>\n",
              "    async function quickchart(key) {\n",
              "      const quickchartButtonEl =\n",
              "        document.querySelector('#' + key + ' button');\n",
              "      quickchartButtonEl.disabled = true;  // To prevent multiple clicks.\n",
              "      quickchartButtonEl.classList.add('colab-df-spinner');\n",
              "      try {\n",
              "        const charts = await google.colab.kernel.invokeFunction(\n",
              "            'suggestCharts', [key], {});\n",
              "      } catch (error) {\n",
              "        console.error('Error during call to suggestCharts:', error);\n",
              "      }\n",
              "      quickchartButtonEl.classList.remove('colab-df-spinner');\n",
              "      quickchartButtonEl.classList.add('colab-df-quickchart-complete');\n",
              "    }\n",
              "    (() => {\n",
              "      let quickchartButtonEl =\n",
              "        document.querySelector('#df-01e6648a-3784-40a6-92db-7a79f6604a7e button');\n",
              "      quickchartButtonEl.style.display =\n",
              "        google.colab.kernel.accessAllowed ? 'block' : 'none';\n",
              "    })();\n",
              "  </script>\n",
              "</div>\n",
              "\n",
              "    </div>\n",
              "  </div>\n"
            ],
            "text/plain": [
              "                                         CCP_Message  \\\n",
              "0  <TrdCaptRpt RptID=\"580198\" TrdID=\"38385799331\"...   \n",
              "1  <TrdCaptRpt RptID=\"580198\" TrdID=\"38703724873\"...   \n",
              "2  <TrdCaptRpt RptID=\"580198\" TrdID=\"29140627371\"...   \n",
              "3  <TrdCaptRpt RptID=\"580198\" TrdID=\"38678625887\"...   \n",
              "4  <TrdCaptRpt RptID=\"580198\" TrdID=\"34041639428\"...   \n",
              "\n",
              "                               cleaned_input_message  \n",
              "0  TrdCaptRpt RptID=285353 TrdID=38385799331 Tran...  \n",
              "1  TrdCaptRpt RptID=332874 TrdID=38703724873 Tran...  \n",
              "2  TrdCaptRpt RptID=57243 TrdID=29140627371 Trans...  \n",
              "3  TrdCaptRpt RptID=169564 TrdID=38678625887 Tran...  \n",
              "4  TrdCaptRpt RptID=182141 TrdID=34041639428 Tran...  "
            ]
          },
          "execution_count": 20,
          "metadata": {},
          "output_type": "execute_result"
        }
      ],
      "source": [
        "train_data.head()"
      ]
    },
    {
      "cell_type": "code",
      "execution_count": null,
      "metadata": {
        "id": "olc3xwxllHG1"
      },
      "outputs": [],
      "source": [
        "import torch\n",
        "from transformers import GPT2Tokenizer, GPT2LMHeadModel\n",
        "from torch.utils.data import DataLoader, Dataset"
      ]
    },
    {
      "cell_type": "code",
      "execution_count": null,
      "metadata": {
        "id": "gov_MPNYlOns"
      },
      "outputs": [],
      "source": [
        "class CustomDataset(Dataset):\n",
        "    def __init__(self, data, tokenizer, max_length):\n",
        "        self.data = data\n",
        "        self.tokenizer = tokenizer\n",
        "        self.max_length = max_length\n",
        "\n",
        "    def __len__(self):\n",
        "        return len(self.data)\n",
        "\n",
        "    def __getitem__(self, index):\n",
        "        seq = self.data.iloc[index]['cleaned_input_message']\n",
        "        target = self.data.iloc[index]['CCP_Message']\n",
        "\n",
        "        input_seq = f\"{seq} {target}\"\n",
        "\n",
        "        input_ids = self.tokenizer.encode(input_seq, return_tensors='pt', max_length=self.max_length, truncation=True, padding='max_length')\n",
        "\n",
        "        return input_ids"
      ]
    },
    {
      "cell_type": "code",
      "execution_count": null,
      "metadata": {
        "colab": {
          "base_uri": "https://localhost:8080/",
          "height": 365,
          "referenced_widgets": [
            "4a0f4b98148f47cfb4a621a839a2df32",
            "28d724d374a245c088afcb366f8f5a99",
            "d0a4f28bd71c4abe819624ca59172201",
            "b0016e8394c249d9b4285345da50fc0f",
            "9ca2a19352d84dc7aa7a69b564aceabd",
            "849cdbe8824442c09f7bca7fe01ba0d7",
            "779f36d03faf4d11811a30ec40719da9",
            "a8da0b5c0a5041e48488fe8378ee7d04",
            "bf91c1c8ae3040309423133637c64287",
            "9e2563c24e13433d8edf0137368ed7b2",
            "01ca8f144a824b4d920dd17eeaed13b4",
            "9e2d861814a74f109f8758a5e02c8b8a",
            "83611da899304bf6ad2244db78d8274f",
            "37fa7a3b670747c080964a1730c276fe",
            "037b374142d5420ab54d0259c762a550",
            "bbab8dd5715845839780c854ecc9a34b",
            "196b9258ba2a45f7bb05afac5c097a34",
            "4f819d61c2bb47d99a76c1f4563b9294",
            "1ddb13fdf8144708ab5251e2132c51b7",
            "2c19cd15e33d4ac083dd56c4a9736d07",
            "05d68378a0d24ff9b9439ed62eecf947",
            "7be69becf1fb4eff82a88c4d4122c92c",
            "e4467203590341acb5c490cc233b17d5",
            "ba6a91be006e43219d42dbcb19e3fa34",
            "1eef0fa937fd41e2be1fd948704f4d02",
            "2dfea76b73654384affd18871dc87fd5",
            "0e8c90ff362f4bf296475b914fa16593",
            "a8bea6bec9f042a0b053b8a55e36d039",
            "f2c51f8ac41c45928ad90d2bc7ce04de",
            "eeb3f10d9aa34779a8123ccf6fceed0b",
            "21f4bf56bdd24001b5a64a7c2d6ded2b",
            "a636199b71be47d2b90402bbb90a6cdf",
            "9509e699d31143fb9017a752df207dda",
            "6a63a8d7d7244ec982676bd0a6f28f7b",
            "01a9d3706ca042db952e42e9a2000275",
            "d0206a89d6b349c1a72f66c3ce9263d6",
            "2edba9e71948447c9106476fed6423df",
            "6e6dfc7666ae44ff961baa7e08b3fb5f",
            "1b1a3859f4b94250a8ff2a0ecc953c50",
            "9e918353dbd74a67b832339ffa3c02fb",
            "8b481ff44c7642ab97ba66a8e23633a7",
            "7ba5f5c603ce4275a1ebe319fafe5922",
            "1b43fc23def34026a03b382069814478",
            "8f90171558514470ba1676d8a11af055",
            "4d476452d1cd49a4924229d2cd1e0623",
            "d2ee307973314716a27997413fefc132",
            "577aed9d82c54879b0ffaa65606f28d1",
            "524d47767ba545dab35625cd2c9ac167",
            "323a8bdd02384269b47ec1a7dd2c9cf5",
            "8bd33c8ac6374fd1bb4c6452f760cb42",
            "8ee30368d9274274bb21cb211f304a43",
            "4899589793ca4dee97f7636dac49e3ba",
            "5b658c8ad7194086ac71ce6fef62891c",
            "28a236c415e4493982dfe5284cc31a00",
            "c6d20bf09572479ba2214364dd462e0c",
            "38ac26e2a47e4536a84fe9eafa1dca77",
            "d1bf79bd79e54670a99851701bf2cba0",
            "5f330a26c56e49f68aa42abc859389d7",
            "b716ced275c342c0811aaca388dd0dad",
            "cb15c22ed2d947a7a8c421f78c353d02",
            "f4d13d0c939746d1b698ca2623c4d846",
            "c77a01bb521f4d42aff7c50ebf22fa0c",
            "3143b5463afa45d88d13f1aa63575423",
            "5d1bee3702d34e7daa3da59f31675b7a",
            "a37985891e7946459a5d7023d0d3e265",
            "a95bbde7d8fa4a7f909f3ab6ed4dea3b",
            "2f7e26d4f68047c1bae6b231c46c74f4",
            "d00b04e5dfe74ac28b158531146778d7",
            "e8a54da2d0104563b92a597f0d269302",
            "6e778491fc1945c98fe9986a59c20dd3",
            "dd1c05db51c3478a84d5407312ac590e",
            "80c91d66d4c04657903f74b1cd7313e1",
            "1f0b52fafca14afcac34737612f7696a",
            "17225df9cfb445d19db42b2d1502956a",
            "908bbeff10394f1482b25e475ab2db87",
            "e515e02151214b8a9df29ed6f2ae038c",
            "50d9a2305bb14863aad5d63482aa4076"
          ]
        },
        "id": "AMk3iYPbls63",
        "outputId": "be263e78-4e7a-4fa7-9e1b-b31dfda65c1c"
      },
      "outputs": [
        {
          "name": "stderr",
          "output_type": "stream",
          "text": [
            "/usr/local/lib/python3.10/dist-packages/huggingface_hub/utils/_token.py:88: UserWarning: \n",
            "The secret `HF_TOKEN` does not exist in your Colab secrets.\n",
            "To authenticate with the Hugging Face Hub, create a token in your settings tab (https://huggingface.co/settings/tokens), set it as secret in your Google Colab and restart your session.\n",
            "You will be able to reuse this secret in all of your notebooks.\n",
            "Please note that authentication is recommended but still optional to access public models or datasets.\n",
            "  warnings.warn(\n"
          ]
        },
        {
          "data": {
            "application/vnd.jupyter.widget-view+json": {
              "model_id": "4a0f4b98148f47cfb4a621a839a2df32",
              "version_major": 2,
              "version_minor": 0
            },
            "text/plain": [
              "tokenizer_config.json:   0%|          | 0.00/26.0 [00:00<?, ?B/s]"
            ]
          },
          "metadata": {},
          "output_type": "display_data"
        },
        {
          "data": {
            "application/vnd.jupyter.widget-view+json": {
              "model_id": "9e2d861814a74f109f8758a5e02c8b8a",
              "version_major": 2,
              "version_minor": 0
            },
            "text/plain": [
              "vocab.json:   0%|          | 0.00/1.04M [00:00<?, ?B/s]"
            ]
          },
          "metadata": {},
          "output_type": "display_data"
        },
        {
          "data": {
            "application/vnd.jupyter.widget-view+json": {
              "model_id": "e4467203590341acb5c490cc233b17d5",
              "version_major": 2,
              "version_minor": 0
            },
            "text/plain": [
              "merges.txt:   0%|          | 0.00/456k [00:00<?, ?B/s]"
            ]
          },
          "metadata": {},
          "output_type": "display_data"
        },
        {
          "data": {
            "application/vnd.jupyter.widget-view+json": {
              "model_id": "6a63a8d7d7244ec982676bd0a6f28f7b",
              "version_major": 2,
              "version_minor": 0
            },
            "text/plain": [
              "tokenizer.json:   0%|          | 0.00/1.36M [00:00<?, ?B/s]"
            ]
          },
          "metadata": {},
          "output_type": "display_data"
        },
        {
          "data": {
            "application/vnd.jupyter.widget-view+json": {
              "model_id": "4d476452d1cd49a4924229d2cd1e0623",
              "version_major": 2,
              "version_minor": 0
            },
            "text/plain": [
              "config.json:   0%|          | 0.00/762 [00:00<?, ?B/s]"
            ]
          },
          "metadata": {},
          "output_type": "display_data"
        },
        {
          "data": {
            "application/vnd.jupyter.widget-view+json": {
              "model_id": "38ac26e2a47e4536a84fe9eafa1dca77",
              "version_major": 2,
              "version_minor": 0
            },
            "text/plain": [
              "model.safetensors:   0%|          | 0.00/353M [00:00<?, ?B/s]"
            ]
          },
          "metadata": {},
          "output_type": "display_data"
        },
        {
          "data": {
            "application/vnd.jupyter.widget-view+json": {
              "model_id": "2f7e26d4f68047c1bae6b231c46c74f4",
              "version_major": 2,
              "version_minor": 0
            },
            "text/plain": [
              "generation_config.json:   0%|          | 0.00/124 [00:00<?, ?B/s]"
            ]
          },
          "metadata": {},
          "output_type": "display_data"
        }
      ],
      "source": [
        "tokenizer = GPT2Tokenizer.from_pretrained('distilgpt2')\n",
        "model = GPT2LMHeadModel.from_pretrained('distilgpt2')"
      ]
    },
    {
      "cell_type": "code",
      "execution_count": null,
      "metadata": {
        "id": "Qfb4P6HTlxh6"
      },
      "outputs": [],
      "source": [
        "tokenizer.pad_token = tokenizer.eos_token"
      ]
    },
    {
      "cell_type": "code",
      "execution_count": null,
      "metadata": {
        "id": "GzyiItnzl2tm"
      },
      "outputs": [],
      "source": [
        "MAX_LENGTH = 1000\n",
        "BATCH_SIZE = 2\n",
        "EPOCHS = 3"
      ]
    },
    {
      "cell_type": "code",
      "execution_count": null,
      "metadata": {
        "id": "UOV0CoKNl3g2"
      },
      "outputs": [],
      "source": [
        "train_dataset = CustomDataset(train_data, tokenizer, MAX_LENGTH)\n",
        "val_dataset = CustomDataset(val_data, tokenizer, MAX_LENGTH)"
      ]
    },
    {
      "cell_type": "code",
      "execution_count": null,
      "metadata": {
        "colab": {
          "base_uri": "https://localhost:8080/"
        },
        "id": "DeCahbSml53u",
        "outputId": "707298b7-327a-4524-dbc8-5b1c5c7fd1fc"
      },
      "outputs": [
        {
          "name": "stdout",
          "output_type": "stream",
          "text": [
            "<class 'torch.Tensor'>\n"
          ]
        }
      ],
      "source": [
        "print(type(train_dataset[0]))"
      ]
    },
    {
      "cell_type": "code",
      "execution_count": null,
      "metadata": {
        "id": "WilNg6Upl9Se"
      },
      "outputs": [],
      "source": [
        "train_loader = DataLoader(train_dataset, batch_size=BATCH_SIZE, shuffle=True)\n",
        "val_loader = DataLoader(val_dataset, batch_size=BATCH_SIZE, shuffle=False)"
      ]
    },
    {
      "cell_type": "code",
      "execution_count": null,
      "metadata": {
        "colab": {
          "base_uri": "https://localhost:8080/"
        },
        "id": "nnKuDZgql-EO",
        "outputId": "afb0e965-110d-46bd-e03b-c34c989f103b"
      },
      "outputs": [
        {
          "data": {
            "text/plain": [
              "GPT2LMHeadModel(\n",
              "  (transformer): GPT2Model(\n",
              "    (wte): Embedding(50257, 768)\n",
              "    (wpe): Embedding(1024, 768)\n",
              "    (drop): Dropout(p=0.1, inplace=False)\n",
              "    (h): ModuleList(\n",
              "      (0-5): 6 x GPT2Block(\n",
              "        (ln_1): LayerNorm((768,), eps=1e-05, elementwise_affine=True)\n",
              "        (attn): GPT2Attention(\n",
              "          (c_attn): Conv1D()\n",
              "          (c_proj): Conv1D()\n",
              "          (attn_dropout): Dropout(p=0.1, inplace=False)\n",
              "          (resid_dropout): Dropout(p=0.1, inplace=False)\n",
              "        )\n",
              "        (ln_2): LayerNorm((768,), eps=1e-05, elementwise_affine=True)\n",
              "        (mlp): GPT2MLP(\n",
              "          (c_fc): Conv1D()\n",
              "          (c_proj): Conv1D()\n",
              "          (act): NewGELUActivation()\n",
              "          (dropout): Dropout(p=0.1, inplace=False)\n",
              "        )\n",
              "      )\n",
              "    )\n",
              "    (ln_f): LayerNorm((768,), eps=1e-05, elementwise_affine=True)\n",
              "  )\n",
              "  (lm_head): Linear(in_features=768, out_features=50257, bias=False)\n",
              ")"
            ]
          },
          "execution_count": 29,
          "metadata": {},
          "output_type": "execute_result"
        }
      ],
      "source": [
        "device = torch.device('cuda' if torch.cuda.is_available() else 'cpu')\n",
        "model.to(device)"
      ]
    },
    {
      "cell_type": "code",
      "execution_count": null,
      "metadata": {
        "id": "hYl_2_BqmAFe"
      },
      "outputs": [],
      "source": [
        "optimizer = torch.optim.AdamW(model.parameters(), lr=2e-5)"
      ]
    },
    {
      "cell_type": "code",
      "execution_count": null,
      "metadata": {
        "colab": {
          "base_uri": "https://localhost:8080/"
        },
        "id": "21grcDcTmC6O",
        "outputId": "f8ac5345-4f20-41dc-e8ec-abe683bf91b2"
      },
      "outputs": [
        {
          "name": "stdout",
          "output_type": "stream",
          "text": [
            "Epoch 1, Average Training Loss: 0.5942445570892758\n",
            "Epoch 2, Average Training Loss: 0.16963940249549017\n",
            "Epoch 3, Average Training Loss: 0.1499147688017951\n"
          ]
        }
      ],
      "source": [
        "for epoch in range(EPOCHS):\n",
        "    model.train()\n",
        "    total_loss = 0\n",
        "    for batch in train_loader:\n",
        "        input_ids = batch.to(device)\n",
        "\n",
        "        labels = input_ids.clone()\n",
        "\n",
        "        optimizer.zero_grad()\n",
        "\n",
        "        outputs = model(input_ids, labels=labels)\n",
        "        loss = outputs.loss\n",
        "        loss.backward()\n",
        "        optimizer.step()\n",
        "\n",
        "        total_loss += loss.item()\n",
        "\n",
        "    avg_train_loss = total_loss / len(train_loader)\n",
        "    print(f'Epoch {epoch+1}, Average Training Loss: {avg_train_loss}')"
      ]
    },
    {
      "cell_type": "code",
      "execution_count": null,
      "metadata": {
        "colab": {
          "base_uri": "https://localhost:8080/"
        },
        "id": "xm2SblcanXNF",
        "outputId": "b82413f0-efa4-46f7-ae2d-f5d6be1e7e4b"
      },
      "outputs": [
        {
          "name": "stdout",
          "output_type": "stream",
          "text": [
            "Average Validation Loss: 0.13005234360694884\n"
          ]
        }
      ],
      "source": [
        "model.eval()\n",
        "total_loss = 0\n",
        "\n",
        "with torch.no_grad():\n",
        "    for batch in val_loader:\n",
        "        input_ids = batch.to(device)\n",
        "\n",
        "        labels = input_ids.clone()\n",
        "\n",
        "        outputs = model(input_ids, labels=labels)\n",
        "        loss = outputs.loss\n",
        "\n",
        "        total_loss += loss.item()\n",
        "\n",
        "avg_val_loss = total_loss / len(val_loader)\n",
        "print(f'Average Validation Loss: {avg_val_loss}')"
      ]
    },
    {
      "cell_type": "code",
      "execution_count": null,
      "metadata": {
        "id": "I9Ek6GMrnbVG"
      },
      "outputs": [],
      "source": [
        "def predict(seq):\n",
        "  model.eval()\n",
        "  input_ids = tokenizer.encode(seq, return_tensors='pt').to(device)\n",
        "  output = model.generate(input_ids, max_length=1000, num_return_sequences=1, pad_token_id=tokenizer.eos_token_id)\n",
        "  decoded_output = tokenizer.decode(output[0], skip_special_tokens=True)\n",
        "  output_sequence = decoded_output[len(seq):].strip()\n",
        "  return output_sequence"
      ]
    },
    {
      "cell_type": "code",
      "execution_count": null,
      "metadata": {
        "colab": {
          "base_uri": "https://localhost:8080/",
          "height": 105
        },
        "id": "BsnLg50gndft",
        "outputId": "bf47ba7e-307a-454b-92d2-04b6e35cf6be"
      },
      "outputs": [
        {
          "data": {
            "application/vnd.google.colaboratory.intrinsic+json": {
              "type": "string"
            },
            "text/plain": [
              "'<TrdCaptRpt RptID=\"580198\" TrdID=\"23057725883\" TransTyp=\"2\" RptTyp=\"2\" TrdTyp=\"0\" MtchID=\"28969334303\" PxTyp=\"10\" LastQty=\"44\" LastPx=\"3590.59\" TrdDt=\"2022-12-17\" BizDt=\"2023-01-11\" TxnTm=\"2023-02-21T00:12:55.138-7:00\"><Hdr SID=\"MGEX\" TID=\"D210\" PosDup=\"Y\" PosRsnd=\"Y\" Snt=\"2023-02-21T00:12:55.160-7:00\"></Hdr><Instrmt Sym=\"TMP\" ID=\"LM\" Src=\"H\" CFI=\"FCAPSX\" MMY=\"202305\" MatDt=\"2023-05-18\" Mult=\"0.4\" Exch=\"BTNL\"></Instrmt><RptSide Side=\"2\" Ccy=\"USD\" InptSrc=\"SY\" InptDev=\"API\" CustCpcty=\"2\" PosEfct=\"C\" ClOrdID=\"146ZBT\" MLegRptTyp=\"3\" AllocInd=\"1\"><Pty ID=\"MGEX\" R=\"21\"></Pty><Pty ID=\"210\" R=\"1\"></Pty><Pty ID=\"133\" R=\"4\"></Pty><Pty ID=\"Hassen\" R=\"24\"><Sub ID=\"2\" Typ=\"26\"></Sub></Pty><Pty ID=\"B115\" R=\"12\"></Pty><TrdRegTS TS=\"2023-02-21T10:18:15.230-7:00\" Typ=\"1\"></TrdRegTS></RptSide></TrdCaptRpt>'"
            ]
          },
          "execution_count": 34,
          "metadata": {},
          "output_type": "execute_result"
        }
      ],
      "source": [
        "val_data.iloc[0]['CCP_Message']"
      ]
    },
    {
      "cell_type": "code",
      "execution_count": null,
      "metadata": {
        "colab": {
          "base_uri": "https://localhost:8080/",
          "height": 105
        },
        "id": "EAcKhTsznf6N",
        "outputId": "9ae73c7b-8c36-4bdc-c240-75bab12c1314"
      },
      "outputs": [
        {
          "data": {
            "application/vnd.google.colaboratory.intrinsic+json": {
              "type": "string"
            },
            "text/plain": [
              "'<TrdCaptRpt RptID=\"580198\" TrdID=\"23057725883\" TransTyp=\"2\" RptTyp=\"2\" TrdTyp=\"0\" MtchID=\"28969334303\" PxTyp=\"10\" LastQty=\"44\" LastPx=\"3590.59\" TrdDt=\"2022-12-17\" BizDt=\"2023-01-11\" TxnTm=\"2023-02-21T00:12:55.138-7:00\"><Hdr SID=\"MGEX\" TID=\"D210\" PosDup=\"Y\" PosRsnd=\"Y\" Snt=\"2023-02-21T00:12:55.160-7:00\"></Hdr><Instrmt Sym=\"TMP\" ID=\"LM\" Src=\"H\" CFI=\"FCAPSX\" MMY=\"202305\" MatDt=\"2023-05-18\" Mult=\"0.4\" Exch=\"BTNL\"></Instrmt><RptSide Side=\"2\" Ccy=\"USD\" InptSrc=\"SY\" InptDev=\"API\" CustCpcty=\"2\" PosEfct=\"C\" ClOrdID=\"146ZBT\" MLegRptTyp=\"3\" AllocInd=\"1\"><Pty ID=\"MGEX\" R=\"21\"></Pty><Pty ID=\"210\" R=\"1\"></Pty><Pty ID=\"133\" R=\"4\"></Pty><Pty ID=\"Hassen\" R=\"24\"><Sub ID=\"2\" Typ=\"26\"></Sub></Pty><Pty ID=\"B115\" R=\"12\"></Pty><TrdRegTS TS=\"2023-02-21T10:18:15.230-7:00\" Typ=\"1\"></TrdRegTS></RptSide></TrdCaptRpt>'"
            ]
          },
          "execution_count": 35,
          "metadata": {},
          "output_type": "execute_result"
        }
      ],
      "source": [
        "predict(val_data.iloc[0]['cleaned_input_message'])"
      ]
    },
    {
      "cell_type": "code",
      "execution_count": null,
      "metadata": {
        "colab": {
          "base_uri": "https://localhost:8080/"
        },
        "id": "s5-lOO48nhkV",
        "outputId": "43cceee7-545a-4daa-9cb6-56f2b5984b4e"
      },
      "outputs": [
        {
          "name": "stdout",
          "output_type": "stream",
          "text": [
            "Accuracy: 1.0\n"
          ]
        }
      ],
      "source": [
        "som = 0\n",
        "for i in range(100):\n",
        "  if val_data.iloc[i]['CCP_Message'] == predict(val_data.iloc[i]['cleaned_input_message']):\n",
        "    som = som+1\n",
        "print('Accuracy:',som/100)"
      ]
    },
    {
      "cell_type": "code",
      "execution_count": null,
      "metadata": {
        "id": "weqL9BnenpIV"
      },
      "outputs": [],
      "source": [
        "for i in range(100):\n",
        "  if val_data.iloc[i]['CCP_Message'] != predict(val_data.iloc[i]['cleaned_input_message']):\n",
        "    print('Message', i)\n",
        "    print('Predicted message:')\n",
        "    print(predict(val_data.iloc[i]['cleaned_input_message']))\n",
        "    print('Test message:')\n",
        "    print(val_data.iloc[i]['CCP_Message'])"
      ]
    },
    {
      "cell_type": "code",
      "execution_count": null,
      "metadata": {
        "id": "ApG598vhtk6w"
      },
      "outputs": [],
      "source": [
        "trade_msg1=\"\"\"<TrdCaptRpt RptID=\"2799\" TrdID=\"30281004800\" TransTyp=\"0\" RptTyp=\"2\" TrdTyp=\"2\" MtchID=\"30281001977\" PxTyp=\"2\" LastQty=\"10\" LastPx=\"115\" TrdDt=\"2023-09-28\" BizDt=\"2023-09-28\" TxnTm=\"2023-10-04T05:17:30.749-05:00\"><Hdr SID=\"MGEX\" TID=\"D210\" PosDup=\"N\" PosRsnd=\"N\" Snt=\"2023-10-04T05:17:30.788-05:00\"></Hdr><Instrmt Sym=\"BUI\" ID=\"BUI\" Src=\"H\" CFI=\"FCCPXX\" MMY=\"202403\" MatDt=\"2024-03-27\" Mult=\"0.1\" Exch=\"BTNL\"></Instrmt><RptSide Side=\"2\" Ccy=\"USD\" InptSrc=\"MA\" InptDev=\"PORTAL\" CustCpcty=\"1\" PosEfct=\"C\" ClOrdID=\"123\" MLegRptTyp=\"1\" AllocInd=\"0\"><Pty ID=\"MGEX\" R=\"21\"></Pty><Pty ID=\"210\" R=\"1\"></Pty><Pty ID=\"210\" R=\"4\"></Pty><Pty ID=\"aziz-100\" R=\"24\"><Sub ID=\"2\" Typ=\"26\"></Sub></Pty><Pty ID=\"210\" R=\"12\"></Pty><TrdRegTS TS=\"2023-10-04T05:17:30.749-05:00\" Typ=\"1\"></TrdRegTS></RptSide></TrdCaptRpt>\"\"\"\n",
        "sgw_op1=\"\"\"<TrdCaptRpt RptID=\"30281004800\" TrdDt=\"2023-09-28\" BizDt=\"2023-09-28\" TxnTm=\"2023-10-04T05:17:30.749-05:00\" TrdID=\"30281004800\" TransTyp=\"2\" RptTyp=\"0\" LastQty=\"10.0\" LastPx=\"115.0\"><Hdr Snt=\"2023-10-04T11:18:32.348+01:00\" TID=\"MGEX\" SID=\"D210\"/><Instrmt Exch=\"BTNL\" ID=\"BUI\" MMY=\"202403\" CFI=\"FXXXXX\"/><RptSide Side=\"2\" CustCpcty=\"2\"><Pty ID=\"210\" R=\"1\"/><Pty ID=\"alpha\" R=\"24\"><Sub ID=\"2\" Typ=\"26\"/></Pty></RptSide></TrdCaptRpt>\"\"\""
      ]
    },
    {
      "cell_type": "code",
      "execution_count": null,
      "metadata": {
        "colab": {
          "base_uri": "https://localhost:8080/",
          "height": 105
        },
        "id": "AjjX6R1muohb",
        "outputId": "44f972e0-9c4d-47ef-c3fc-3a27aa1ce0bf"
      },
      "outputs": [
        {
          "data": {
            "application/vnd.google.colaboratory.intrinsic+json": {
              "type": "string"
            },
            "text/plain": [
              "'<TrdCaptRpt RptID=\"2799\" TrdID=\"30281004800\" TransTyp=\"0\" RptTyp=\"2\" TrdTyp=\"2\" MtchID=\"30281001977\" PxTyp=\"2\" LastQty=\"10\" LastPx=\"115\" TrdDt=\"2023-09-28\" BizDt=\"2023-09-28\" TxnTm=\"2023-10-04T05:17:30.749-05:00\"><Hdr SID=\"MGEX\" TID=\"D210\" PosDup=\"N\" PosRsnd=\"N\" Snt=\"2023-10-04T05:17:30.788-05:00\"></Hdr><Instrmt Sym=\"BUI\" ID=\"BUI\" Src=\"H\" CFI=\"FCCPXX\" MMY=\"202403\" MatDt=\"2024-03-27\" Mult=\"0.1\" Exch=\"BTNL\"></Instrmt><RptSide Side=\"2\" Ccy=\"USD\" InptSrc=\"MA\" InptDev=\"PORTAL\" CustCpcty=\"1\" PosEfct=\"C\" ClOrdID=\"123\" MLegRptTyp=\"1\" AllocInd=\"0\"><Pty ID=\"MGEX\" R=\"21\"></Pty><Pty ID=\"210\" R=\"1\"></Pty><Pty ID=\"210\" R=\"4\"></Pty><Pty ID=\"aziz-100\" R=\"24\"><Sub ID=\"2\" Typ=\"26\"></Sub></Pty><Pty ID=\"210\" R=\"12\"></Pty><TrdRegTS TS=\"2023-10-04T05:17:30.749-05:00\" Typ=\"1\"></TrdRegTS></RptSide></TrdCaptRpt>'"
            ]
          },
          "execution_count": 124,
          "metadata": {},
          "output_type": "execute_result"
        }
      ],
      "source": [
        "trade_msg1"
      ]
    },
    {
      "cell_type": "code",
      "execution_count": null,
      "metadata": {
        "colab": {
          "base_uri": "https://localhost:8080/",
          "height": 70
        },
        "id": "YmmBUfwaup5K",
        "outputId": "7d8525df-dc77-4deb-8b43-9a955cf7a84d"
      },
      "outputs": [
        {
          "data": {
            "application/vnd.google.colaboratory.intrinsic+json": {
              "type": "string"
            },
            "text/plain": [
              "'<TrdCaptRpt RptID=\"30281004800\" TrdDt=\"2023-09-28\" BizDt=\"2023-09-28\" TxnTm=\"2023-10-04T05:17:30.749-05:00\" TrdID=\"30281004800\" TransTyp=\"2\" RptTyp=\"0\" LastQty=\"10.0\" LastPx=\"115.0\"><Hdr Snt=\"2023-10-04T11:18:32.348+01:00\" TID=\"MGEX\" SID=\"D210\"/><Instrmt Exch=\"BTNL\" ID=\"BUI\" MMY=\"202403\" CFI=\"FXXXXX\"/><RptSide Side=\"2\" CustCpcty=\"2\"><Pty ID=\"210\" R=\"1\"/><Pty ID=\"alpha\" R=\"24\"><Sub ID=\"2\" Typ=\"26\"/></Pty></RptSide></TrdCaptRpt>'"
            ]
          },
          "execution_count": 125,
          "metadata": {},
          "output_type": "execute_result"
        }
      ],
      "source": [
        "sgw_op1"
      ]
    },
    {
      "cell_type": "code",
      "execution_count": null,
      "metadata": {
        "id": "r9_Wxn-buwBL"
      },
      "outputs": [],
      "source": [
        "inp_msg1=trade_msg1+' '+sgw_op1\n",
        "cleaned_inp_seq=clean_text(inp_msg1)"
      ]
    },
    {
      "cell_type": "code",
      "execution_count": null,
      "metadata": {
        "colab": {
          "base_uri": "https://localhost:8080/",
          "height": 123
        },
        "id": "Dalaab6xvEZA",
        "outputId": "859c2eed-03f6-4ec7-ce94-11c41d940117"
      },
      "outputs": [
        {
          "data": {
            "application/vnd.google.colaboratory.intrinsic+json": {
              "type": "string"
            },
            "text/plain": [
              "'<TrdCaptRpt RptID=\"2799\" TrdID=\"30281004800\" TransTyp=\"0\" RptTyp=\"2\" TrdTyp=\"2\" MtchID=\"30281001977\" PxTyp=\"2\" LastQty=\"10\" LastPx=\"115\" TrdDt=\"2023-09-28\" BizDt=\"2023-09-28\" TxnTm=\"2023-10-04T05:17:30.749-05:00\"><Hdr SID=\"MGEX\" TID=\"D210\" PosDup=\"N\" PosRsnd=\"N\" Snt=\"2023-10-04T05:17:30.788-05:00\"></Hdr><Instrmt Sym=\"BUI\" ID=\"BUI\" Src=\"H\" CFI=\"FCCPXX\" MMY=\"202403\" MatDt=\"2024-03-27\" Mult=\"0.1\" Exch=\"BTNL\"></Instrmt><RptSide Side=\"2\" Ccy=\"USD\" InptSrc=\"MA\" InptDev=\"PORTAL\" CustCpcty=\"1\" PosEfct=\"C\" ClOrdID=\"123\" MLegRptTyp=\"1\" AllocInd=\"0\"><Pty ID=\"MGEX\" R=\"21\"></Pty><Pty ID=\"210\" R=\"1\"></Pty><Pty ID=\"210\" R=\"4\"></Pty><Pty ID=\"aziz-100\" R=\"24\"><Sub ID=\"2\" Typ=\"26\"></Sub></Pty><Pty ID=\"210\" R=\"12\"></Pty><TrdRegTS TS=\"2023-10-04T05:17:30.749-05:00\" Typ=\"1\"></TrdRegTS></RptSide></TrdCaptRpt> <TrdCaptRpt RptID=\"30281004800\" TrdDt=\"2023-09-28\" BizDt=\"2023-09-28\" TxnTm=\"2023-10-04T05:17:30.749-05:00\" TrdID=\"30281004800\" TransTyp=\"2\" RptTyp=\"0\" LastQty=\"10.0\" LastPx=\"115.0\"><Hdr Snt=\"2023-10-04T11:18:32.348+01:00\" TID=\"MGEX\" SID=\"D210\"/><Instrmt Exch=\"BTNL\" ID=\"BUI\" MMY=\"202403\" CFI=\"FXXXXX\"/><RptSide Side=\"2\" CustCpcty=\"2\"><Pty ID=\"210\" R=\"1\"/><Pty ID=\"alpha\" R=\"24\"><Sub ID=\"2\" Typ=\"26\"/></Pty></RptSide></TrdCaptRpt>'"
            ]
          },
          "execution_count": 127,
          "metadata": {},
          "output_type": "execute_result"
        }
      ],
      "source": [
        "inp_msg1"
      ]
    },
    {
      "cell_type": "code",
      "execution_count": null,
      "metadata": {
        "colab": {
          "base_uri": "https://localhost:8080/",
          "height": 123
        },
        "id": "ujW7VKnmvGI4",
        "outputId": "27091f4a-1df2-4a00-f583-b6381eb0c3e0"
      },
      "outputs": [
        {
          "data": {
            "application/vnd.google.colaboratory.intrinsic+json": {
              "type": "string"
            },
            "text/plain": [
              "'TrdCaptRpt RptID=2799 TrdID=30281004800 TransTyp=0 RptTyp=2 TrdTyp=2 MtchID=30281001977 PxTyp=2 LastQty=10 LastPx=115 TrdDt=2023-09-28 BizDt=2023-09-28 TxnTm=2023-10-04T05:17:30.749-05:00 Hdr SID=MGEX TID=D210 PosDup=N PosRsnd=N Snt=2023-10-04T05:17:30.788-05:00 Hdr Instrmt Sym=BUI ID=BUI Src=H CFI=FCCPXX MMY=202403 MatDt=2024-03-27 Mult=0.1 Exch=BTNL Instrmt RptSide Side=2 Ccy=USD InptSrc=MA InptDev=PORTAL CustCpcty=1 PosEfct=C ClOrdID=123 MLegRptTyp=1 AllocInd=0 Pty ID=MGEX R=21 Pty Pty ID=210 R=1 Pty Pty ID=210 R=4 Pty Pty ID=aziz-100 R=24 Sub ID=2 Typ=26 Sub Pty Pty ID=210 R=12 Pty TrdRegTS TS=2023-10-04T05:17:30.749-05:00 Typ=1 TrdRegTS RptSide TrdCaptRpt  TrdCaptRpt RptID=30281004800 TrdDt=2023-09-28 BizDt=2023-09-28 TxnTm=2023-10-04T05:17:30.749-05:00 TrdID=30281004800 TransTyp=2 RptTyp=0 LastQty=10.0 LastPx=115.0 Hdr Snt=2023-10-04T11:18:32.348+01:00 TID=MGEX SID=D210 Instrmt Exch=BTNL ID=BUI MMY=202403 CFI=FXXXXX RptSide Side=2 CustCpcty=2 Pty ID=210 R=1 Pty ID=alpha R=24 Sub ID=2 Typ=26 Pty RptSide TrdCaptRpt '"
            ]
          },
          "execution_count": 128,
          "metadata": {},
          "output_type": "execute_result"
        }
      ],
      "source": [
        "cleaned_inp_seq"
      ]
    },
    {
      "cell_type": "code",
      "execution_count": null,
      "metadata": {
        "colab": {
          "base_uri": "https://localhost:8080/",
          "height": 105
        },
        "id": "ngLvSGifvI-I",
        "outputId": "2106ecc2-f45d-445b-a37b-612b8cf67b07"
      },
      "outputs": [
        {
          "data": {
            "application/vnd.google.colaboratory.intrinsic+json": {
              "type": "string"
            },
            "text/plain": [
              "'<TrdCaptRpt RptID=\"580198\" TrdID=\"30281004800\" TransTyp=\"2\" RptTyp=\"2\" TrdTyp=\"2\" MtchID=\"30281001977\" PxTyp=\"2\" LastQty=\"10\" LastPx=\"115\" TrdDt=\"2023-09-28\" BizDt=\"2023-09-28\" TxnTm=\"2023-10-04T00:12:55.138-05:00\"><Hdr SID=\"MGEX\" TID=\"D210\" PosDup=\"N\" PosRsnd=\"N\" Snt=\"2023-10-04T00:12:55.160-05:00\"></Hdr><Instrmt Sym=\"BUI\" ID=\"BUI\" Src=\"H\" CFI=\"FCCPXX\" MMY=\"202403\" MatDt=\"2024-03-27\" Mult=\"0.1\" Exch=\"BTNL\"></Instrmt><RptSide Side=\"2\" Ccy=\"USD\" InptSrc=\"MA\" InptDev=\"PORTAL\" CustCpcty=\"2\" PosEfct=\"C\" ClOrdID=\"123\" MLegRptTyp=\"1\" AllocInd=\"0\"><Pty ID=\"MGEX\" R=\"21\"></Pty><Pty ID=\"210\" R=\"1\"></Pty><Pty ID=\"210\" R=\"4\"></Pty><Pty ID=\"alpha\" R=\"24\"><Sub ID=\"2\" Typ=\"26\"></Sub></Pty><Pty ID=\"210\" R=\"12\"></Pty><TrdRegTS TS=\"2023-10-04T05:17:30.749-05:00\" Typ=\"1\"></TrdRegTS></RptSide></TrdCaptRpt>'"
            ]
          },
          "execution_count": 129,
          "metadata": {},
          "output_type": "execute_result"
        }
      ],
      "source": [
        "predict(cleaned_inp_seq)"
      ]
    },
    {
      "cell_type": "code",
      "execution_count": null,
      "metadata": {
        "id": "oqdH6_5NvVXp"
      },
      "outputs": [],
      "source": [
        "trade_msg2 = \"\"\"<TrdCaptRpt RptID=\"35987\" TrdID=\"60281004855\" TransTyp=\"0\" RptTyp=\"2\" TrdTyp=\"2\" MtchID=\"60305001787\" PxTyp=\"2\" LastQty=\"900\" LastPx=\"5300.5\" TrdDt=\"2024-01-18\" BizDt=\"2024-01-19\" TxnTm=\"2024-02-04T15:18:30.549-05:00\"><Hdr SID=\"MGEX\" TID=\"KMPL\" PosDup=\"N\" PosRsnd=\"N\" \"2024-02-04T15:18:30.700-05:00\"></Hdr><Instrmt Sym=\"BUI\" ID=\"BUI\" Src=\"H\" CFI=\"FCAPSX\" MMY=\"202405\" MatDt=\"2024-05-12\" Mult=\"5000\" Exch=\"MPLM\"></Instrmt><RptSide Side=\"2\" Ccy=\"USD\" InptSrc=\"MA\" InptDev=\"PORTAL\" CustCpcty=\"1\" PosEfct=\"C\" ClOrdID=\"AB09T\" MLegRptTyp=\"1\" AllocInd=\"0\"><Pty ID=\"MGEX\" R=\"21\"></Pty><Pty ID=\"210\" R=\"1\"></Pty><Pty ID=\"210\" R=\"4\"></Pty><Pty ID=\"ac_Tu\" R=\"24\"><Sub ID=\"2\" Typ=\"26\"></Sub></Pty><Pty ID=\"210\" R=\"12\"></Pty><TrdRegTS TS=\"2024-02-04T15:18:30.549-05:00\" Typ=\"1\"></TrdRegTS></RptSide></TrdCaptRpt>\"\"\"\n",
        "sgw_op2 = \"\"\"<TrdCaptRpt RptID=\"60281004855\" TrdDt=\"2024-01-18\" BizDt=\"2023-09-19\" TxnTm=\"2024-02-04T15:18:30.549-05:00\" TrdID=\"60281004855\" TransTyp=\"2\" RptTyp=\"0\" LastQty=\"900.0\" LastPx=\"5300.5\"><Hdr Snt=\"2024-02-04T23:18:32.348+01:00\" TID=\"MGEX\" SID=\"KMPL\"/><Instrmt Exch=\"MPLM\" ID=\"BUI\" MMY=\"202405\" CFI=\"FXXXXX\"/><RptSide Side=\"2\" CustCpcty=\"2\"><Pty ID=\"210\" R=\"1\"/><Pty ID=\"LPA\" R=\"24\"><Sub ID=\"2\" Typ=\"26\"/></Pty></RptSide></TrdCaptRpt>\"\"\""
      ]
    },
    {
      "cell_type": "code",
      "execution_count": null,
      "metadata": {
        "id": "Zqb2cYJ9yS2P"
      },
      "outputs": [],
      "source": [
        "inp_msg2=trade_msg2+' '+sgw_op2\n",
        "cleaned_inp_seq2=clean_text(inp_msg2)"
      ]
    },
    {
      "cell_type": "code",
      "execution_count": null,
      "metadata": {
        "colab": {
          "base_uri": "https://localhost:8080/",
          "height": 105
        },
        "id": "BZO0puSTyd6f",
        "outputId": "a02916a5-8bb8-400a-9b5e-81a5288a18a7"
      },
      "outputs": [
        {
          "data": {
            "application/vnd.google.colaboratory.intrinsic+json": {
              "type": "string"
            },
            "text/plain": [
              "'<TrdCaptRpt RptID=\"35987\" TrdID=\"60281004855\" TransTyp=\"0\" RptTyp=\"2\" TrdTyp=\"2\" MtchID=\"60305001787\" PxTyp=\"2\" LastQty=\"900\" LastPx=\"5300.5\" TrdDt=\"2024-01-18\" BizDt=\"2024-01-19\" TxnTm=\"2024-02-04T15:18:30.549-05:00\"><Hdr SID=\"MGEX\" TID=\"KMPL\" PosDup=\"N\" PosRsnd=\"N\" \"2024-02-04T15:18:30.700-05:00\"></Hdr><Instrmt Sym=\"BUI\" ID=\"BUI\" Src=\"H\" CFI=\"FCAPSX\" MMY=\"202405\" MatDt=\"2024-05-12\" Mult=\"5000\" Exch=\"MPLM\"></Instrmt><RptSide Side=\"2\" Ccy=\"USD\" InptSrc=\"MA\" InptDev=\"PORTAL\" CustCpcty=\"1\" PosEfct=\"C\" ClOrdID=\"AB09T\" MLegRptTyp=\"1\" AllocInd=\"0\"><Pty ID=\"MGEX\" R=\"21\"></Pty><Pty ID=\"210\" R=\"1\"></Pty><Pty ID=\"210\" R=\"4\"></Pty><Pty ID=\"ac_Tu\" R=\"24\"><Sub ID=\"2\" Typ=\"26\"></Sub></Pty><Pty ID=\"210\" R=\"12\"></Pty><TrdRegTS TS=\"2024-02-04T15:18:30.549-05:00\" Typ=\"1\"></TrdRegTS></RptSide></TrdCaptRpt>'"
            ]
          },
          "execution_count": 118,
          "metadata": {},
          "output_type": "execute_result"
        }
      ],
      "source": [
        "trade_msg2"
      ]
    },
    {
      "cell_type": "code",
      "execution_count": null,
      "metadata": {
        "colab": {
          "base_uri": "https://localhost:8080/",
          "height": 70
        },
        "id": "F4bOZMqgygdo",
        "outputId": "9a8ecf66-2657-4b9c-cbd3-e4587c68bb16"
      },
      "outputs": [
        {
          "data": {
            "application/vnd.google.colaboratory.intrinsic+json": {
              "type": "string"
            },
            "text/plain": [
              "'<TrdCaptRpt RptID=\"60281004855\" TrdDt=\"2024-01-18\" BizDt=\"2023-09-19\" TxnTm=\"2024-02-04T15:18:30.549-05:00\" TrdID=\"60281004855\" TransTyp=\"2\" RptTyp=\"0\" LastQty=\"900.0\" LastPx=\"5300.5\"><Hdr Snt=\"2024-02-04T23:18:32.348+01:00\" TID=\"MGEX\" SID=\"KMPL\"/><Instrmt Exch=\"MPLM\" ID=\"BUI\" MMY=\"202405\" CFI=\"FXXXXX\"/><RptSide Side=\"2\" CustCpcty=\"2\"><Pty ID=\"210\" R=\"1\"/><Pty ID=\"LPA\" R=\"24\"><Sub ID=\"2\" Typ=\"26\"/></Pty></RptSide></TrdCaptRpt>'"
            ]
          },
          "execution_count": 119,
          "metadata": {},
          "output_type": "execute_result"
        }
      ],
      "source": [
        "sgw_op2"
      ]
    },
    {
      "cell_type": "code",
      "execution_count": null,
      "metadata": {
        "colab": {
          "base_uri": "https://localhost:8080/",
          "height": 123
        },
        "id": "ODKqApHQyasl",
        "outputId": "475e8f20-0e2d-4c01-c188-7267c2ce415e"
      },
      "outputs": [
        {
          "data": {
            "application/vnd.google.colaboratory.intrinsic+json": {
              "type": "string"
            },
            "text/plain": [
              "'<TrdCaptRpt RptID=\"35987\" TrdID=\"60281004855\" TransTyp=\"0\" RptTyp=\"2\" TrdTyp=\"2\" MtchID=\"60305001787\" PxTyp=\"2\" LastQty=\"900\" LastPx=\"5300.5\" TrdDt=\"2024-01-18\" BizDt=\"2024-01-19\" TxnTm=\"2024-02-04T15:18:30.549-05:00\"><Hdr SID=\"MGEX\" TID=\"KMPL\" PosDup=\"N\" PosRsnd=\"N\" \"2024-02-04T15:18:30.700-05:00\"></Hdr><Instrmt Sym=\"BUI\" ID=\"BUI\" Src=\"H\" CFI=\"FCAPSX\" MMY=\"202405\" MatDt=\"2024-05-12\" Mult=\"5000\" Exch=\"MPLM\"></Instrmt><RptSide Side=\"2\" Ccy=\"USD\" InptSrc=\"MA\" InptDev=\"PORTAL\" CustCpcty=\"1\" PosEfct=\"C\" ClOrdID=\"AB09T\" MLegRptTyp=\"1\" AllocInd=\"0\"><Pty ID=\"MGEX\" R=\"21\"></Pty><Pty ID=\"210\" R=\"1\"></Pty><Pty ID=\"210\" R=\"4\"></Pty><Pty ID=\"ac_Tu\" R=\"24\"><Sub ID=\"2\" Typ=\"26\"></Sub></Pty><Pty ID=\"210\" R=\"12\"></Pty><TrdRegTS TS=\"2024-02-04T15:18:30.549-05:00\" Typ=\"1\"></TrdRegTS></RptSide></TrdCaptRpt> <TrdCaptRpt RptID=\"60281004855\" TrdDt=\"2024-01-18\" BizDt=\"2023-09-19\" TxnTm=\"2024-02-04T15:18:30.549-05:00\" TrdID=\"60281004855\" TransTyp=\"2\" RptTyp=\"0\" LastQty=\"900.0\" LastPx=\"5300.5\"><Hdr Snt=\"2024-02-04T23:18:32.348+01:00\" TID=\"MGEX\" SID=\"KMPL\"/><Instrmt Exch=\"MPLM\" ID=\"BUI\" MMY=\"202405\" CFI=\"FXXXXX\"/><RptSide Side=\"2\" CustCpcty=\"2\"><Pty ID=\"210\" R=\"1\"/><Pty ID=\"LPA\" R=\"24\"><Sub ID=\"2\" Typ=\"26\"/></Pty></RptSide></TrdCaptRpt>'"
            ]
          },
          "execution_count": 120,
          "metadata": {},
          "output_type": "execute_result"
        }
      ],
      "source": [
        "inp_msg2"
      ]
    },
    {
      "cell_type": "code",
      "execution_count": null,
      "metadata": {
        "colab": {
          "base_uri": "https://localhost:8080/",
          "height": 123
        },
        "id": "LhB9wpJCymS2",
        "outputId": "9d21af61-0c01-4ae7-d497-c96029414896"
      },
      "outputs": [
        {
          "data": {
            "application/vnd.google.colaboratory.intrinsic+json": {
              "type": "string"
            },
            "text/plain": [
              "'TrdCaptRpt RptID=35987 TrdID=60281004855 TransTyp=0 RptTyp=2 TrdTyp=2 MtchID=60305001787 PxTyp=2 LastQty=900 LastPx=5300.5 TrdDt=2024-01-18 BizDt=2024-01-19 TxnTm=2024-02-04T15:18:30.549-05:00 Hdr SID=MGEX TID=KMPL PosDup=N PosRsnd=N 2024-02-04T15:18:30.700-05:00 Hdr Instrmt Sym=BUI ID=BUI Src=H CFI=FCAPSX MMY=202405 MatDt=2024-05-12 Mult=5000 Exch=MPLM Instrmt RptSide Side=2 Ccy=USD InptSrc=MA InptDev=PORTAL CustCpcty=1 PosEfct=C ClOrdID=AB09T MLegRptTyp=1 AllocInd=0 Pty ID=MGEX R=21 Pty Pty ID=210 R=1 Pty Pty ID=210 R=4 Pty Pty ID=ac_Tu R=24 Sub ID=2 Typ=26 Sub Pty Pty ID=210 R=12 Pty TrdRegTS TS=2024-02-04T15:18:30.549-05:00 Typ=1 TrdRegTS RptSide TrdCaptRpt  TrdCaptRpt RptID=60281004855 TrdDt=2024-01-18 BizDt=2023-09-19 TxnTm=2024-02-04T15:18:30.549-05:00 TrdID=60281004855 TransTyp=2 RptTyp=0 LastQty=900.0 LastPx=5300.5 Hdr Snt=2024-02-04T23:18:32.348+01:00 TID=MGEX SID=KMPL Instrmt Exch=MPLM ID=BUI MMY=202405 CFI=FXXXXX RptSide Side=2 CustCpcty=2 Pty ID=210 R=1 Pty ID=LPA R=24 Sub ID=2 Typ=26 Pty RptSide TrdCaptRpt '"
            ]
          },
          "execution_count": 121,
          "metadata": {},
          "output_type": "execute_result"
        }
      ],
      "source": [
        "cleaned_inp_seq2"
      ]
    },
    {
      "cell_type": "code",
      "execution_count": null,
      "metadata": {
        "colab": {
          "base_uri": "https://localhost:8080/",
          "height": 105
        },
        "id": "GtL9PoWlyoM1",
        "outputId": "ca207c44-09ad-4508-d279-78788a58f6b9"
      },
      "outputs": [
        {
          "data": {
            "application/vnd.google.colaboratory.intrinsic+json": {
              "type": "string"
            },
            "text/plain": [
              "'<TrdCaptRpt RptID=\"580198\" TrdID=\"60281004855\" TransTyp=\"2\" RptTyp=\"2\" TrdTyp=\"2\" MtchID=\"60305001787\" PxTyp=\"2\" LastQty=\"900\" LastPx=\"5300.5\" TrdDt=\"2024-01-18\" BizDt=\"2024-01-19\" TxnTm=\"2024-02-04T00:12:55.138-05:00\"><Hdr SID=\"MGEX\" TID=\"KMPL\" PosDup=\"N\" PosRsnd=\"N\" 2024-02-04T00:12:55.160-05:00\"></Hdr><Instrmt Sym=\"BUI\" ID=\"BUI\" Src=\"H\" CFI=\"FCAPSX\" MMY=\"202405\" MatDt=\"2024-05-12\" Mult=\"5000\" Exch=\"MPLM\"></Instrmt><RptSide Side=\"2\" Ccy=\"USD\" InptSrc=\"MA\" InptDev=\"PORTAL\" CustCpcty=\"2\" PosEfct=\"C\" ClOrdID=\"AB09T\" MLegRptTyp=\"1\" AllocInd=\"0\"><Pty ID=\"MGEX\" R=\"21\"></Pty><Pty ID=\"210\" R=\"1\"></Pty><Pty ID=\"210\" R=\"4\"></Pty><Pty ID=\"LPA\" R=\"24\"><Sub ID=\"2\" Typ=\"26\"></Sub></Pty><Pty ID=\"210\" R=\"12\"></Pty><TrdRegTS TS=\"2024-02-04T15:18:30.549-05:00\" Typ=\"1\"></TrdRegTS></RptSide></TrdCaptRpt>'"
            ]
          },
          "execution_count": 122,
          "metadata": {},
          "output_type": "execute_result"
        }
      ],
      "source": [
        "predict(cleaned_inp_seq2)"
      ]
    },
    {
      "cell_type": "code",
      "execution_count": null,
      "metadata": {
        "id": "QgLE5w2jy2ul"
      },
      "outputs": [],
      "source": [
        "trade_msg3 = \"\"\"<TrdCaptRpt RptID=\"25980\" TrdID=\"50381005000\" TransTyp=\"0\" RptTyp=\"2\" TrdTyp=\"2\" MtchID=\"60281001700\" PxTyp=\"2\" LastQty=\"900\" LastPx=\"5300.5\" TrdDt=\"2024-01-18\" BizDt=\"2024-01-19\" TxnTm=\"2024-02-04T15:18:30.549-05:00\"><Hdr SID=\"MGEX\" TID=\"KMPL\" PosDup=\"N\" PosRsnd=\"N\" \"2024-02-04T15:18:30.700-05:00\"></Hdr><Instrmt Sym=\"BUI\" ID=\"BUI\" Src=\"H\" CFI=\"FCAPSX\" MMY=\"202405\" MatDt=\"2024-05-12\" Mult=\"5000\" Exch=\"MPLM\"></Instrmt><RptSide Side=\"2\" Ccy=\"USD\" InptSrc=\"MA\" InptDev=\"PORTAL\" CustCpcty=\"1\" PosEfct=\"C\" ClOrdID=\"AB09T\" MLegRptTyp=\"1\" AllocInd=\"0\"><Pty ID=\"MGEX\" R=\"21\"></Pty><Pty ID=\"210\" R=\"1\"></Pty><Pty ID=\"210\" R=\"4\"></Pty><Pty ID=\"Bassma-400\" R=\"24\"><Sub ID=\"2\" Typ=\"26\"></Sub></Pty><Pty ID=\"210\" R=\"12\"></Pty><TrdRegTS TS=\"2024-02-04T15:18:30.549-05:00\" Typ=\"1\"></TrdRegTS></RptSide></TrdCaptRpt>\"\"\"\n",
        "sgw_op3 = \"\"\"<TrdCaptRpt RptID=\"50381005000\" TrdDt=\"2024-01-18\" BizDt=\"2023-09-19\" TxnTm=\"2024-02-04T15:18:30.549-05:00\" TrdID=\"50381005000\" TransTyp=\"2\" RptTyp=\"0\" LastQty=\"900.0\" LastPx=\"5300.5\"><Hdr Snt=\"2024-02-04T23:18:32.348+01:00\" TID=\"MGEX\" SID=\"KMPL\"/><Instrmt Exch=\"MPLM\" ID=\"BUI\" MMY=\"202405\" CFI=\"FXXXXX\"/><RptSide Side=\"2\" CustCpcty=\"2\"><Pty ID=\"210\" R=\"1\"/><Pty ID=\"Moez-100\" R=\"24\"><Sub ID=\"2\" Typ=\"26\"/></Pty></RptSide></TrdCaptRpt>\"\"\""
      ]
    },
    {
      "cell_type": "code",
      "execution_count": null,
      "metadata": {
        "colab": {
          "base_uri": "https://localhost:8080/",
          "height": 105
        },
        "id": "1BGExNLVzCCU",
        "outputId": "344ff3e0-f931-4176-c670-5ebc5b9f7fba"
      },
      "outputs": [
        {
          "data": {
            "application/vnd.google.colaboratory.intrinsic+json": {
              "type": "string"
            },
            "text/plain": [
              "'<TrdCaptRpt RptID=\"25980\" TrdID=\"50381005000\" TransTyp=\"0\" RptTyp=\"2\" TrdTyp=\"2\" MtchID=\"60281001700\" PxTyp=\"2\" LastQty=\"900\" LastPx=\"5300.5\" TrdDt=\"2024-01-18\" BizDt=\"2024-01-19\" TxnTm=\"2024-02-04T15:18:30.549-05:00\"><Hdr SID=\"MGEX\" TID=\"KMPL\" PosDup=\"N\" PosRsnd=\"N\" \"2024-02-04T15:18:30.700-05:00\"></Hdr><Instrmt Sym=\"BUI\" ID=\"BUI\" Src=\"H\" CFI=\"FCAPSX\" MMY=\"202405\" MatDt=\"2024-05-12\" Mult=\"5000\" Exch=\"MPLM\"></Instrmt><RptSide Side=\"2\" Ccy=\"USD\" InptSrc=\"MA\" InptDev=\"PORTAL\" CustCpcty=\"1\" PosEfct=\"C\" ClOrdID=\"AB09T\" MLegRptTyp=\"1\" AllocInd=\"0\"><Pty ID=\"MGEX\" R=\"21\"></Pty><Pty ID=\"210\" R=\"1\"></Pty><Pty ID=\"210\" R=\"4\"></Pty><Pty ID=\"Bassma-400\" R=\"24\"><Sub ID=\"2\" Typ=\"26\"></Sub></Pty><Pty ID=\"210\" R=\"12\"></Pty><TrdRegTS TS=\"2024-02-04T15:18:30.549-05:00\" Typ=\"1\"></TrdRegTS></RptSide></TrdCaptRpt>'"
            ]
          },
          "execution_count": 103,
          "metadata": {},
          "output_type": "execute_result"
        }
      ],
      "source": [
        "trade_msg3"
      ]
    },
    {
      "cell_type": "code",
      "execution_count": null,
      "metadata": {
        "colab": {
          "base_uri": "https://localhost:8080/",
          "height": 70
        },
        "id": "W9tV63V7zDeF",
        "outputId": "7936c51c-6743-4028-9b6a-ef82c292bba2"
      },
      "outputs": [
        {
          "data": {
            "application/vnd.google.colaboratory.intrinsic+json": {
              "type": "string"
            },
            "text/plain": [
              "'<TrdCaptRpt RptID=\"50381005000\" TrdDt=\"2024-01-18\" BizDt=\"2023-09-19\" TxnTm=\"2024-02-04T15:18:30.549-05:00\" TrdID=\"50381005000\" TransTyp=\"2\" RptTyp=\"0\" LastQty=\"900.0\" LastPx=\"5300.5\"><Hdr Snt=\"2024-02-04T23:18:32.348+01:00\" TID=\"MGEX\" SID=\"KMPL\"/><Instrmt Exch=\"MPLM\" ID=\"BUI\" MMY=\"202405\" CFI=\"FXXXXX\"/><RptSide Side=\"2\" CustCpcty=\"2\"><Pty ID=\"210\" R=\"1\"/><Pty ID=\"Moez-100\" R=\"24\"><Sub ID=\"2\" Typ=\"26\"/></Pty></RptSide></TrdCaptRpt>'"
            ]
          },
          "execution_count": 104,
          "metadata": {},
          "output_type": "execute_result"
        }
      ],
      "source": [
        "sgw_op3"
      ]
    },
    {
      "cell_type": "code",
      "execution_count": null,
      "metadata": {
        "id": "HZPx2_SzzGbM"
      },
      "outputs": [],
      "source": [
        "inp_msg3=trade_msg3+' '+sgw_op3\n",
        "cleaned_inp_seq3=clean_text(inp_msg3)"
      ]
    },
    {
      "cell_type": "code",
      "execution_count": null,
      "metadata": {
        "colab": {
          "base_uri": "https://localhost:8080/",
          "height": 123
        },
        "id": "9FJfBMchzJ-s",
        "outputId": "816ff9ab-2f3f-4be6-ce50-21d651a4cdf2"
      },
      "outputs": [
        {
          "data": {
            "application/vnd.google.colaboratory.intrinsic+json": {
              "type": "string"
            },
            "text/plain": [
              "'<TrdCaptRpt RptID=\"25980\" TrdID=\"50381005000\" TransTyp=\"0\" RptTyp=\"2\" TrdTyp=\"2\" MtchID=\"60281001700\" PxTyp=\"2\" LastQty=\"900\" LastPx=\"5300.5\" TrdDt=\"2024-01-18\" BizDt=\"2024-01-19\" TxnTm=\"2024-02-04T15:18:30.549-05:00\"><Hdr SID=\"MGEX\" TID=\"KMPL\" PosDup=\"N\" PosRsnd=\"N\" \"2024-02-04T15:18:30.700-05:00\"></Hdr><Instrmt Sym=\"BUI\" ID=\"BUI\" Src=\"H\" CFI=\"FCAPSX\" MMY=\"202405\" MatDt=\"2024-05-12\" Mult=\"5000\" Exch=\"MPLM\"></Instrmt><RptSide Side=\"2\" Ccy=\"USD\" InptSrc=\"MA\" InptDev=\"PORTAL\" CustCpcty=\"1\" PosEfct=\"C\" ClOrdID=\"AB09T\" MLegRptTyp=\"1\" AllocInd=\"0\"><Pty ID=\"MGEX\" R=\"21\"></Pty><Pty ID=\"210\" R=\"1\"></Pty><Pty ID=\"210\" R=\"4\"></Pty><Pty ID=\"Bassma-400\" R=\"24\"><Sub ID=\"2\" Typ=\"26\"></Sub></Pty><Pty ID=\"210\" R=\"12\"></Pty><TrdRegTS TS=\"2024-02-04T15:18:30.549-05:00\" Typ=\"1\"></TrdRegTS></RptSide></TrdCaptRpt> <TrdCaptRpt RptID=\"50381005000\" TrdDt=\"2024-01-18\" BizDt=\"2023-09-19\" TxnTm=\"2024-02-04T15:18:30.549-05:00\" TrdID=\"50381005000\" TransTyp=\"2\" RptTyp=\"0\" LastQty=\"900.0\" LastPx=\"5300.5\"><Hdr Snt=\"2024-02-04T23:18:32.348+01:00\" TID=\"MGEX\" SID=\"KMPL\"/><Instrmt Exch=\"MPLM\" ID=\"BUI\" MMY=\"202405\" CFI=\"FXXXXX\"/><RptSide Side=\"2\" CustCpcty=\"2\"><Pty ID=\"210\" R=\"1\"/><Pty ID=\"Moez-100\" R=\"24\"><Sub ID=\"2\" Typ=\"26\"/></Pty></RptSide></TrdCaptRpt>'"
            ]
          },
          "execution_count": 106,
          "metadata": {},
          "output_type": "execute_result"
        }
      ],
      "source": [
        "inp_msg3"
      ]
    },
    {
      "cell_type": "code",
      "execution_count": null,
      "metadata": {
        "colab": {
          "base_uri": "https://localhost:8080/",
          "height": 123
        },
        "id": "t_utoDQozMdd",
        "outputId": "3f8c6136-35ed-4c59-e0e1-4c96428f9ba1"
      },
      "outputs": [
        {
          "data": {
            "application/vnd.google.colaboratory.intrinsic+json": {
              "type": "string"
            },
            "text/plain": [
              "'TrdCaptRpt RptID=25980 TrdID=50381005000 TransTyp=0 RptTyp=2 TrdTyp=2 MtchID=60281001700 PxTyp=2 LastQty=900 LastPx=5300.5 TrdDt=2024-01-18 BizDt=2024-01-19 TxnTm=2024-02-04T15:18:30.549-05:00 Hdr SID=MGEX TID=KMPL PosDup=N PosRsnd=N 2024-02-04T15:18:30.700-05:00 Hdr Instrmt Sym=BUI ID=BUI Src=H CFI=FCAPSX MMY=202405 MatDt=2024-05-12 Mult=5000 Exch=MPLM Instrmt RptSide Side=2 Ccy=USD InptSrc=MA InptDev=PORTAL CustCpcty=1 PosEfct=C ClOrdID=AB09T MLegRptTyp=1 AllocInd=0 Pty ID=MGEX R=21 Pty Pty ID=210 R=1 Pty Pty ID=210 R=4 Pty Pty ID=Bassma-400 R=24 Sub ID=2 Typ=26 Sub Pty Pty ID=210 R=12 Pty TrdRegTS TS=2024-02-04T15:18:30.549-05:00 Typ=1 TrdRegTS RptSide TrdCaptRpt  TrdCaptRpt RptID=50381005000 TrdDt=2024-01-18 BizDt=2023-09-19 TxnTm=2024-02-04T15:18:30.549-05:00 TrdID=50381005000 TransTyp=2 RptTyp=0 LastQty=900.0 LastPx=5300.5 Hdr Snt=2024-02-04T23:18:32.348+01:00 TID=MGEX SID=KMPL Instrmt Exch=MPLM ID=BUI MMY=202405 CFI=FXXXXX RptSide Side=2 CustCpcty=2 Pty ID=210 R=1 Pty ID=Moez-100 R=24 Sub ID=2 Typ=26 Pty RptSide TrdCaptRpt '"
            ]
          },
          "execution_count": 107,
          "metadata": {},
          "output_type": "execute_result"
        }
      ],
      "source": [
        "cleaned_inp_seq3"
      ]
    },
    {
      "cell_type": "code",
      "execution_count": null,
      "metadata": {
        "colab": {
          "base_uri": "https://localhost:8080/",
          "height": 105
        },
        "id": "7s6MbF3XzN9G",
        "outputId": "f98a15ff-832b-4845-bc4f-e5ed8b3d6f11"
      },
      "outputs": [
        {
          "data": {
            "application/vnd.google.colaboratory.intrinsic+json": {
              "type": "string"
            },
            "text/plain": [
              "'<TrdCaptRpt RptID=\"580198\" TrdID=\"50381005000\" TransTyp=\"2\" RptTyp=\"2\" TrdTyp=\"2\" MtchID=\"60281001700\" PxTyp=\"2\" LastQty=\"900\" LastPx=\"5300.5\" TrdDt=\"2024-01-18\" BizDt=\"2024-01-19\" TxnTm=\"2024-02-04T00:12:55.138-05:00\"><Hdr SID=\"MGEX\" TID=\"KMPL\" PosDup=\"N\" PosRsnd=\"N\" 2024-02-04T00:12:55.160-05:00\"></Hdr><Instrmt Sym=\"BUI\" ID=\"BUI\" Src=\"H\" CFI=\"FCAPSX\" MMY=\"202405\" MatDt=\"2024-05-12\" Mult=\"5000\" Exch=\"MPLM\"></Instrmt><RptSide Side=\"2\" Ccy=\"USD\" InptSrc=\"MA\" InptDev=\"PORTAL\" CustCpcty=\"2\" PosEfct=\"C\" ClOrdID=\"AB09T\" MLegRptTyp=\"1\" AllocInd=\"0\"><Pty ID=\"MGEX\" R=\"21\"></Pty><Pty ID=\"210\" R=\"1\"></Pty><Pty ID=\"210\" R=\"4\"></Pty><Pty ID=\"Moez-100\" R=\"24\"><Sub ID=\"2\" Typ=\"26\"></Sub></Pty><Pty ID=\"210\" R=\"12\"></Pty><TrdRegTS TS=\"2024-02-04T15:18:30.549-05:00\" Typ=\"1\"></TrdRegTS></RptSide></TrdCaptRpt>'"
            ]
          },
          "execution_count": 108,
          "metadata": {},
          "output_type": "execute_result"
        }
      ],
      "source": [
        "predict(cleaned_inp_seq3)"
      ]
    },
    {
      "cell_type": "code",
      "execution_count": null,
      "metadata": {
        "id": "_IINa1EW05io"
      },
      "outputs": [],
      "source": [
        "from google.colab import drive"
      ]
    },
    {
      "cell_type": "code",
      "execution_count": null,
      "metadata": {
        "colab": {
          "base_uri": "https://localhost:8080/"
        },
        "id": "A8LlkL5N09lI",
        "outputId": "c1b8a9f5-bd22-4bc0-d759-d9d7db1cba27"
      },
      "outputs": [
        {
          "name": "stdout",
          "output_type": "stream",
          "text": [
            "Mounted at /content/gdrive\n"
          ]
        }
      ],
      "source": [
        "drive.mount(\"/content/gdrive\")"
      ]
    },
    {
      "cell_type": "code",
      "execution_count": null,
      "metadata": {
        "id": "sfohjiUq1InK"
      },
      "outputs": [],
      "source": [
        "model.save_pretrained(\"/content/gdrive/MyDrive/fullservice\")"
      ]
    }
  ],
  "metadata": {
    "accelerator": "GPU",
    "colab": {
      "gpuType": "T4",
      "provenance": []
    },
    "kernelspec": {
      "display_name": "Python 3",
      "name": "python3"
    },
    "language_info": {
      "name": "python"
    },
    "widgets": {
      "application/vnd.jupyter.widget-state+json": {
        "01a9d3706ca042db952e42e9a2000275": {
          "model_module": "@jupyter-widgets/controls",
          "model_module_version": "1.5.0",
          "model_name": "HTMLModel",
          "state": {
            "_dom_classes": [],
            "_model_module": "@jupyter-widgets/controls",
            "_model_module_version": "1.5.0",
            "_model_name": "HTMLModel",
            "_view_count": null,
            "_view_module": "@jupyter-widgets/controls",
            "_view_module_version": "1.5.0",
            "_view_name": "HTMLView",
            "description": "",
            "description_tooltip": null,
            "layout": "IPY_MODEL_1b1a3859f4b94250a8ff2a0ecc953c50",
            "placeholder": "​",
            "style": "IPY_MODEL_9e918353dbd74a67b832339ffa3c02fb",
            "value": "tokenizer.json: 100%"
          }
        },
        "01ca8f144a824b4d920dd17eeaed13b4": {
          "model_module": "@jupyter-widgets/controls",
          "model_module_version": "1.5.0",
          "model_name": "DescriptionStyleModel",
          "state": {
            "_model_module": "@jupyter-widgets/controls",
            "_model_module_version": "1.5.0",
            "_model_name": "DescriptionStyleModel",
            "_view_count": null,
            "_view_module": "@jupyter-widgets/base",
            "_view_module_version": "1.2.0",
            "_view_name": "StyleView",
            "description_width": ""
          }
        },
        "037b374142d5420ab54d0259c762a550": {
          "model_module": "@jupyter-widgets/controls",
          "model_module_version": "1.5.0",
          "model_name": "HTMLModel",
          "state": {
            "_dom_classes": [],
            "_model_module": "@jupyter-widgets/controls",
            "_model_module_version": "1.5.0",
            "_model_name": "HTMLModel",
            "_view_count": null,
            "_view_module": "@jupyter-widgets/controls",
            "_view_module_version": "1.5.0",
            "_view_name": "HTMLView",
            "description": "",
            "description_tooltip": null,
            "layout": "IPY_MODEL_05d68378a0d24ff9b9439ed62eecf947",
            "placeholder": "​",
            "style": "IPY_MODEL_7be69becf1fb4eff82a88c4d4122c92c",
            "value": " 1.04M/1.04M [00:00&lt;00:00, 10.2MB/s]"
          }
        },
        "05d68378a0d24ff9b9439ed62eecf947": {
          "model_module": "@jupyter-widgets/base",
          "model_module_version": "1.2.0",
          "model_name": "LayoutModel",
          "state": {
            "_model_module": "@jupyter-widgets/base",
            "_model_module_version": "1.2.0",
            "_model_name": "LayoutModel",
            "_view_count": null,
            "_view_module": "@jupyter-widgets/base",
            "_view_module_version": "1.2.0",
            "_view_name": "LayoutView",
            "align_content": null,
            "align_items": null,
            "align_self": null,
            "border": null,
            "bottom": null,
            "display": null,
            "flex": null,
            "flex_flow": null,
            "grid_area": null,
            "grid_auto_columns": null,
            "grid_auto_flow": null,
            "grid_auto_rows": null,
            "grid_column": null,
            "grid_gap": null,
            "grid_row": null,
            "grid_template_areas": null,
            "grid_template_columns": null,
            "grid_template_rows": null,
            "height": null,
            "justify_content": null,
            "justify_items": null,
            "left": null,
            "margin": null,
            "max_height": null,
            "max_width": null,
            "min_height": null,
            "min_width": null,
            "object_fit": null,
            "object_position": null,
            "order": null,
            "overflow": null,
            "overflow_x": null,
            "overflow_y": null,
            "padding": null,
            "right": null,
            "top": null,
            "visibility": null,
            "width": null
          }
        },
        "0e8c90ff362f4bf296475b914fa16593": {
          "model_module": "@jupyter-widgets/base",
          "model_module_version": "1.2.0",
          "model_name": "LayoutModel",
          "state": {
            "_model_module": "@jupyter-widgets/base",
            "_model_module_version": "1.2.0",
            "_model_name": "LayoutModel",
            "_view_count": null,
            "_view_module": "@jupyter-widgets/base",
            "_view_module_version": "1.2.0",
            "_view_name": "LayoutView",
            "align_content": null,
            "align_items": null,
            "align_self": null,
            "border": null,
            "bottom": null,
            "display": null,
            "flex": null,
            "flex_flow": null,
            "grid_area": null,
            "grid_auto_columns": null,
            "grid_auto_flow": null,
            "grid_auto_rows": null,
            "grid_column": null,
            "grid_gap": null,
            "grid_row": null,
            "grid_template_areas": null,
            "grid_template_columns": null,
            "grid_template_rows": null,
            "height": null,
            "justify_content": null,
            "justify_items": null,
            "left": null,
            "margin": null,
            "max_height": null,
            "max_width": null,
            "min_height": null,
            "min_width": null,
            "object_fit": null,
            "object_position": null,
            "order": null,
            "overflow": null,
            "overflow_x": null,
            "overflow_y": null,
            "padding": null,
            "right": null,
            "top": null,
            "visibility": null,
            "width": null
          }
        },
        "17225df9cfb445d19db42b2d1502956a": {
          "model_module": "@jupyter-widgets/base",
          "model_module_version": "1.2.0",
          "model_name": "LayoutModel",
          "state": {
            "_model_module": "@jupyter-widgets/base",
            "_model_module_version": "1.2.0",
            "_model_name": "LayoutModel",
            "_view_count": null,
            "_view_module": "@jupyter-widgets/base",
            "_view_module_version": "1.2.0",
            "_view_name": "LayoutView",
            "align_content": null,
            "align_items": null,
            "align_self": null,
            "border": null,
            "bottom": null,
            "display": null,
            "flex": null,
            "flex_flow": null,
            "grid_area": null,
            "grid_auto_columns": null,
            "grid_auto_flow": null,
            "grid_auto_rows": null,
            "grid_column": null,
            "grid_gap": null,
            "grid_row": null,
            "grid_template_areas": null,
            "grid_template_columns": null,
            "grid_template_rows": null,
            "height": null,
            "justify_content": null,
            "justify_items": null,
            "left": null,
            "margin": null,
            "max_height": null,
            "max_width": null,
            "min_height": null,
            "min_width": null,
            "object_fit": null,
            "object_position": null,
            "order": null,
            "overflow": null,
            "overflow_x": null,
            "overflow_y": null,
            "padding": null,
            "right": null,
            "top": null,
            "visibility": null,
            "width": null
          }
        },
        "196b9258ba2a45f7bb05afac5c097a34": {
          "model_module": "@jupyter-widgets/base",
          "model_module_version": "1.2.0",
          "model_name": "LayoutModel",
          "state": {
            "_model_module": "@jupyter-widgets/base",
            "_model_module_version": "1.2.0",
            "_model_name": "LayoutModel",
            "_view_count": null,
            "_view_module": "@jupyter-widgets/base",
            "_view_module_version": "1.2.0",
            "_view_name": "LayoutView",
            "align_content": null,
            "align_items": null,
            "align_self": null,
            "border": null,
            "bottom": null,
            "display": null,
            "flex": null,
            "flex_flow": null,
            "grid_area": null,
            "grid_auto_columns": null,
            "grid_auto_flow": null,
            "grid_auto_rows": null,
            "grid_column": null,
            "grid_gap": null,
            "grid_row": null,
            "grid_template_areas": null,
            "grid_template_columns": null,
            "grid_template_rows": null,
            "height": null,
            "justify_content": null,
            "justify_items": null,
            "left": null,
            "margin": null,
            "max_height": null,
            "max_width": null,
            "min_height": null,
            "min_width": null,
            "object_fit": null,
            "object_position": null,
            "order": null,
            "overflow": null,
            "overflow_x": null,
            "overflow_y": null,
            "padding": null,
            "right": null,
            "top": null,
            "visibility": null,
            "width": null
          }
        },
        "1b1a3859f4b94250a8ff2a0ecc953c50": {
          "model_module": "@jupyter-widgets/base",
          "model_module_version": "1.2.0",
          "model_name": "LayoutModel",
          "state": {
            "_model_module": "@jupyter-widgets/base",
            "_model_module_version": "1.2.0",
            "_model_name": "LayoutModel",
            "_view_count": null,
            "_view_module": "@jupyter-widgets/base",
            "_view_module_version": "1.2.0",
            "_view_name": "LayoutView",
            "align_content": null,
            "align_items": null,
            "align_self": null,
            "border": null,
            "bottom": null,
            "display": null,
            "flex": null,
            "flex_flow": null,
            "grid_area": null,
            "grid_auto_columns": null,
            "grid_auto_flow": null,
            "grid_auto_rows": null,
            "grid_column": null,
            "grid_gap": null,
            "grid_row": null,
            "grid_template_areas": null,
            "grid_template_columns": null,
            "grid_template_rows": null,
            "height": null,
            "justify_content": null,
            "justify_items": null,
            "left": null,
            "margin": null,
            "max_height": null,
            "max_width": null,
            "min_height": null,
            "min_width": null,
            "object_fit": null,
            "object_position": null,
            "order": null,
            "overflow": null,
            "overflow_x": null,
            "overflow_y": null,
            "padding": null,
            "right": null,
            "top": null,
            "visibility": null,
            "width": null
          }
        },
        "1b43fc23def34026a03b382069814478": {
          "model_module": "@jupyter-widgets/base",
          "model_module_version": "1.2.0",
          "model_name": "LayoutModel",
          "state": {
            "_model_module": "@jupyter-widgets/base",
            "_model_module_version": "1.2.0",
            "_model_name": "LayoutModel",
            "_view_count": null,
            "_view_module": "@jupyter-widgets/base",
            "_view_module_version": "1.2.0",
            "_view_name": "LayoutView",
            "align_content": null,
            "align_items": null,
            "align_self": null,
            "border": null,
            "bottom": null,
            "display": null,
            "flex": null,
            "flex_flow": null,
            "grid_area": null,
            "grid_auto_columns": null,
            "grid_auto_flow": null,
            "grid_auto_rows": null,
            "grid_column": null,
            "grid_gap": null,
            "grid_row": null,
            "grid_template_areas": null,
            "grid_template_columns": null,
            "grid_template_rows": null,
            "height": null,
            "justify_content": null,
            "justify_items": null,
            "left": null,
            "margin": null,
            "max_height": null,
            "max_width": null,
            "min_height": null,
            "min_width": null,
            "object_fit": null,
            "object_position": null,
            "order": null,
            "overflow": null,
            "overflow_x": null,
            "overflow_y": null,
            "padding": null,
            "right": null,
            "top": null,
            "visibility": null,
            "width": null
          }
        },
        "1ddb13fdf8144708ab5251e2132c51b7": {
          "model_module": "@jupyter-widgets/base",
          "model_module_version": "1.2.0",
          "model_name": "LayoutModel",
          "state": {
            "_model_module": "@jupyter-widgets/base",
            "_model_module_version": "1.2.0",
            "_model_name": "LayoutModel",
            "_view_count": null,
            "_view_module": "@jupyter-widgets/base",
            "_view_module_version": "1.2.0",
            "_view_name": "LayoutView",
            "align_content": null,
            "align_items": null,
            "align_self": null,
            "border": null,
            "bottom": null,
            "display": null,
            "flex": null,
            "flex_flow": null,
            "grid_area": null,
            "grid_auto_columns": null,
            "grid_auto_flow": null,
            "grid_auto_rows": null,
            "grid_column": null,
            "grid_gap": null,
            "grid_row": null,
            "grid_template_areas": null,
            "grid_template_columns": null,
            "grid_template_rows": null,
            "height": null,
            "justify_content": null,
            "justify_items": null,
            "left": null,
            "margin": null,
            "max_height": null,
            "max_width": null,
            "min_height": null,
            "min_width": null,
            "object_fit": null,
            "object_position": null,
            "order": null,
            "overflow": null,
            "overflow_x": null,
            "overflow_y": null,
            "padding": null,
            "right": null,
            "top": null,
            "visibility": null,
            "width": null
          }
        },
        "1eef0fa937fd41e2be1fd948704f4d02": {
          "model_module": "@jupyter-widgets/controls",
          "model_module_version": "1.5.0",
          "model_name": "FloatProgressModel",
          "state": {
            "_dom_classes": [],
            "_model_module": "@jupyter-widgets/controls",
            "_model_module_version": "1.5.0",
            "_model_name": "FloatProgressModel",
            "_view_count": null,
            "_view_module": "@jupyter-widgets/controls",
            "_view_module_version": "1.5.0",
            "_view_name": "ProgressView",
            "bar_style": "success",
            "description": "",
            "description_tooltip": null,
            "layout": "IPY_MODEL_eeb3f10d9aa34779a8123ccf6fceed0b",
            "max": 456318,
            "min": 0,
            "orientation": "horizontal",
            "style": "IPY_MODEL_21f4bf56bdd24001b5a64a7c2d6ded2b",
            "value": 456318
          }
        },
        "1f0b52fafca14afcac34737612f7696a": {
          "model_module": "@jupyter-widgets/controls",
          "model_module_version": "1.5.0",
          "model_name": "DescriptionStyleModel",
          "state": {
            "_model_module": "@jupyter-widgets/controls",
            "_model_module_version": "1.5.0",
            "_model_name": "DescriptionStyleModel",
            "_view_count": null,
            "_view_module": "@jupyter-widgets/base",
            "_view_module_version": "1.2.0",
            "_view_name": "StyleView",
            "description_width": ""
          }
        },
        "21f4bf56bdd24001b5a64a7c2d6ded2b": {
          "model_module": "@jupyter-widgets/controls",
          "model_module_version": "1.5.0",
          "model_name": "ProgressStyleModel",
          "state": {
            "_model_module": "@jupyter-widgets/controls",
            "_model_module_version": "1.5.0",
            "_model_name": "ProgressStyleModel",
            "_view_count": null,
            "_view_module": "@jupyter-widgets/base",
            "_view_module_version": "1.2.0",
            "_view_name": "StyleView",
            "bar_color": null,
            "description_width": ""
          }
        },
        "28a236c415e4493982dfe5284cc31a00": {
          "model_module": "@jupyter-widgets/base",
          "model_module_version": "1.2.0",
          "model_name": "LayoutModel",
          "state": {
            "_model_module": "@jupyter-widgets/base",
            "_model_module_version": "1.2.0",
            "_model_name": "LayoutModel",
            "_view_count": null,
            "_view_module": "@jupyter-widgets/base",
            "_view_module_version": "1.2.0",
            "_view_name": "LayoutView",
            "align_content": null,
            "align_items": null,
            "align_self": null,
            "border": null,
            "bottom": null,
            "display": null,
            "flex": null,
            "flex_flow": null,
            "grid_area": null,
            "grid_auto_columns": null,
            "grid_auto_flow": null,
            "grid_auto_rows": null,
            "grid_column": null,
            "grid_gap": null,
            "grid_row": null,
            "grid_template_areas": null,
            "grid_template_columns": null,
            "grid_template_rows": null,
            "height": null,
            "justify_content": null,
            "justify_items": null,
            "left": null,
            "margin": null,
            "max_height": null,
            "max_width": null,
            "min_height": null,
            "min_width": null,
            "object_fit": null,
            "object_position": null,
            "order": null,
            "overflow": null,
            "overflow_x": null,
            "overflow_y": null,
            "padding": null,
            "right": null,
            "top": null,
            "visibility": null,
            "width": null
          }
        },
        "28d724d374a245c088afcb366f8f5a99": {
          "model_module": "@jupyter-widgets/controls",
          "model_module_version": "1.5.0",
          "model_name": "HTMLModel",
          "state": {
            "_dom_classes": [],
            "_model_module": "@jupyter-widgets/controls",
            "_model_module_version": "1.5.0",
            "_model_name": "HTMLModel",
            "_view_count": null,
            "_view_module": "@jupyter-widgets/controls",
            "_view_module_version": "1.5.0",
            "_view_name": "HTMLView",
            "description": "",
            "description_tooltip": null,
            "layout": "IPY_MODEL_849cdbe8824442c09f7bca7fe01ba0d7",
            "placeholder": "​",
            "style": "IPY_MODEL_779f36d03faf4d11811a30ec40719da9",
            "value": "tokenizer_config.json: 100%"
          }
        },
        "2c19cd15e33d4ac083dd56c4a9736d07": {
          "model_module": "@jupyter-widgets/controls",
          "model_module_version": "1.5.0",
          "model_name": "ProgressStyleModel",
          "state": {
            "_model_module": "@jupyter-widgets/controls",
            "_model_module_version": "1.5.0",
            "_model_name": "ProgressStyleModel",
            "_view_count": null,
            "_view_module": "@jupyter-widgets/base",
            "_view_module_version": "1.2.0",
            "_view_name": "StyleView",
            "bar_color": null,
            "description_width": ""
          }
        },
        "2dfea76b73654384affd18871dc87fd5": {
          "model_module": "@jupyter-widgets/controls",
          "model_module_version": "1.5.0",
          "model_name": "HTMLModel",
          "state": {
            "_dom_classes": [],
            "_model_module": "@jupyter-widgets/controls",
            "_model_module_version": "1.5.0",
            "_model_name": "HTMLModel",
            "_view_count": null,
            "_view_module": "@jupyter-widgets/controls",
            "_view_module_version": "1.5.0",
            "_view_name": "HTMLView",
            "description": "",
            "description_tooltip": null,
            "layout": "IPY_MODEL_a636199b71be47d2b90402bbb90a6cdf",
            "placeholder": "​",
            "style": "IPY_MODEL_9509e699d31143fb9017a752df207dda",
            "value": " 456k/456k [00:00&lt;00:00, 5.28MB/s]"
          }
        },
        "2edba9e71948447c9106476fed6423df": {
          "model_module": "@jupyter-widgets/controls",
          "model_module_version": "1.5.0",
          "model_name": "HTMLModel",
          "state": {
            "_dom_classes": [],
            "_model_module": "@jupyter-widgets/controls",
            "_model_module_version": "1.5.0",
            "_model_name": "HTMLModel",
            "_view_count": null,
            "_view_module": "@jupyter-widgets/controls",
            "_view_module_version": "1.5.0",
            "_view_name": "HTMLView",
            "description": "",
            "description_tooltip": null,
            "layout": "IPY_MODEL_1b43fc23def34026a03b382069814478",
            "placeholder": "​",
            "style": "IPY_MODEL_8f90171558514470ba1676d8a11af055",
            "value": " 1.36M/1.36M [00:00&lt;00:00, 6.54MB/s]"
          }
        },
        "2f7e26d4f68047c1bae6b231c46c74f4": {
          "model_module": "@jupyter-widgets/controls",
          "model_module_version": "1.5.0",
          "model_name": "HBoxModel",
          "state": {
            "_dom_classes": [],
            "_model_module": "@jupyter-widgets/controls",
            "_model_module_version": "1.5.0",
            "_model_name": "HBoxModel",
            "_view_count": null,
            "_view_module": "@jupyter-widgets/controls",
            "_view_module_version": "1.5.0",
            "_view_name": "HBoxView",
            "box_style": "",
            "children": [
              "IPY_MODEL_d00b04e5dfe74ac28b158531146778d7",
              "IPY_MODEL_e8a54da2d0104563b92a597f0d269302",
              "IPY_MODEL_6e778491fc1945c98fe9986a59c20dd3"
            ],
            "layout": "IPY_MODEL_dd1c05db51c3478a84d5407312ac590e"
          }
        },
        "3143b5463afa45d88d13f1aa63575423": {
          "model_module": "@jupyter-widgets/base",
          "model_module_version": "1.2.0",
          "model_name": "LayoutModel",
          "state": {
            "_model_module": "@jupyter-widgets/base",
            "_model_module_version": "1.2.0",
            "_model_name": "LayoutModel",
            "_view_count": null,
            "_view_module": "@jupyter-widgets/base",
            "_view_module_version": "1.2.0",
            "_view_name": "LayoutView",
            "align_content": null,
            "align_items": null,
            "align_self": null,
            "border": null,
            "bottom": null,
            "display": null,
            "flex": null,
            "flex_flow": null,
            "grid_area": null,
            "grid_auto_columns": null,
            "grid_auto_flow": null,
            "grid_auto_rows": null,
            "grid_column": null,
            "grid_gap": null,
            "grid_row": null,
            "grid_template_areas": null,
            "grid_template_columns": null,
            "grid_template_rows": null,
            "height": null,
            "justify_content": null,
            "justify_items": null,
            "left": null,
            "margin": null,
            "max_height": null,
            "max_width": null,
            "min_height": null,
            "min_width": null,
            "object_fit": null,
            "object_position": null,
            "order": null,
            "overflow": null,
            "overflow_x": null,
            "overflow_y": null,
            "padding": null,
            "right": null,
            "top": null,
            "visibility": null,
            "width": null
          }
        },
        "323a8bdd02384269b47ec1a7dd2c9cf5": {
          "model_module": "@jupyter-widgets/base",
          "model_module_version": "1.2.0",
          "model_name": "LayoutModel",
          "state": {
            "_model_module": "@jupyter-widgets/base",
            "_model_module_version": "1.2.0",
            "_model_name": "LayoutModel",
            "_view_count": null,
            "_view_module": "@jupyter-widgets/base",
            "_view_module_version": "1.2.0",
            "_view_name": "LayoutView",
            "align_content": null,
            "align_items": null,
            "align_self": null,
            "border": null,
            "bottom": null,
            "display": null,
            "flex": null,
            "flex_flow": null,
            "grid_area": null,
            "grid_auto_columns": null,
            "grid_auto_flow": null,
            "grid_auto_rows": null,
            "grid_column": null,
            "grid_gap": null,
            "grid_row": null,
            "grid_template_areas": null,
            "grid_template_columns": null,
            "grid_template_rows": null,
            "height": null,
            "justify_content": null,
            "justify_items": null,
            "left": null,
            "margin": null,
            "max_height": null,
            "max_width": null,
            "min_height": null,
            "min_width": null,
            "object_fit": null,
            "object_position": null,
            "order": null,
            "overflow": null,
            "overflow_x": null,
            "overflow_y": null,
            "padding": null,
            "right": null,
            "top": null,
            "visibility": null,
            "width": null
          }
        },
        "37fa7a3b670747c080964a1730c276fe": {
          "model_module": "@jupyter-widgets/controls",
          "model_module_version": "1.5.0",
          "model_name": "FloatProgressModel",
          "state": {
            "_dom_classes": [],
            "_model_module": "@jupyter-widgets/controls",
            "_model_module_version": "1.5.0",
            "_model_name": "FloatProgressModel",
            "_view_count": null,
            "_view_module": "@jupyter-widgets/controls",
            "_view_module_version": "1.5.0",
            "_view_name": "ProgressView",
            "bar_style": "success",
            "description": "",
            "description_tooltip": null,
            "layout": "IPY_MODEL_1ddb13fdf8144708ab5251e2132c51b7",
            "max": 1042301,
            "min": 0,
            "orientation": "horizontal",
            "style": "IPY_MODEL_2c19cd15e33d4ac083dd56c4a9736d07",
            "value": 1042301
          }
        },
        "38ac26e2a47e4536a84fe9eafa1dca77": {
          "model_module": "@jupyter-widgets/controls",
          "model_module_version": "1.5.0",
          "model_name": "HBoxModel",
          "state": {
            "_dom_classes": [],
            "_model_module": "@jupyter-widgets/controls",
            "_model_module_version": "1.5.0",
            "_model_name": "HBoxModel",
            "_view_count": null,
            "_view_module": "@jupyter-widgets/controls",
            "_view_module_version": "1.5.0",
            "_view_name": "HBoxView",
            "box_style": "",
            "children": [
              "IPY_MODEL_d1bf79bd79e54670a99851701bf2cba0",
              "IPY_MODEL_5f330a26c56e49f68aa42abc859389d7",
              "IPY_MODEL_b716ced275c342c0811aaca388dd0dad"
            ],
            "layout": "IPY_MODEL_cb15c22ed2d947a7a8c421f78c353d02"
          }
        },
        "4899589793ca4dee97f7636dac49e3ba": {
          "model_module": "@jupyter-widgets/base",
          "model_module_version": "1.2.0",
          "model_name": "LayoutModel",
          "state": {
            "_model_module": "@jupyter-widgets/base",
            "_model_module_version": "1.2.0",
            "_model_name": "LayoutModel",
            "_view_count": null,
            "_view_module": "@jupyter-widgets/base",
            "_view_module_version": "1.2.0",
            "_view_name": "LayoutView",
            "align_content": null,
            "align_items": null,
            "align_self": null,
            "border": null,
            "bottom": null,
            "display": null,
            "flex": null,
            "flex_flow": null,
            "grid_area": null,
            "grid_auto_columns": null,
            "grid_auto_flow": null,
            "grid_auto_rows": null,
            "grid_column": null,
            "grid_gap": null,
            "grid_row": null,
            "grid_template_areas": null,
            "grid_template_columns": null,
            "grid_template_rows": null,
            "height": null,
            "justify_content": null,
            "justify_items": null,
            "left": null,
            "margin": null,
            "max_height": null,
            "max_width": null,
            "min_height": null,
            "min_width": null,
            "object_fit": null,
            "object_position": null,
            "order": null,
            "overflow": null,
            "overflow_x": null,
            "overflow_y": null,
            "padding": null,
            "right": null,
            "top": null,
            "visibility": null,
            "width": null
          }
        },
        "4a0f4b98148f47cfb4a621a839a2df32": {
          "model_module": "@jupyter-widgets/controls",
          "model_module_version": "1.5.0",
          "model_name": "HBoxModel",
          "state": {
            "_dom_classes": [],
            "_model_module": "@jupyter-widgets/controls",
            "_model_module_version": "1.5.0",
            "_model_name": "HBoxModel",
            "_view_count": null,
            "_view_module": "@jupyter-widgets/controls",
            "_view_module_version": "1.5.0",
            "_view_name": "HBoxView",
            "box_style": "",
            "children": [
              "IPY_MODEL_28d724d374a245c088afcb366f8f5a99",
              "IPY_MODEL_d0a4f28bd71c4abe819624ca59172201",
              "IPY_MODEL_b0016e8394c249d9b4285345da50fc0f"
            ],
            "layout": "IPY_MODEL_9ca2a19352d84dc7aa7a69b564aceabd"
          }
        },
        "4d476452d1cd49a4924229d2cd1e0623": {
          "model_module": "@jupyter-widgets/controls",
          "model_module_version": "1.5.0",
          "model_name": "HBoxModel",
          "state": {
            "_dom_classes": [],
            "_model_module": "@jupyter-widgets/controls",
            "_model_module_version": "1.5.0",
            "_model_name": "HBoxModel",
            "_view_count": null,
            "_view_module": "@jupyter-widgets/controls",
            "_view_module_version": "1.5.0",
            "_view_name": "HBoxView",
            "box_style": "",
            "children": [
              "IPY_MODEL_d2ee307973314716a27997413fefc132",
              "IPY_MODEL_577aed9d82c54879b0ffaa65606f28d1",
              "IPY_MODEL_524d47767ba545dab35625cd2c9ac167"
            ],
            "layout": "IPY_MODEL_323a8bdd02384269b47ec1a7dd2c9cf5"
          }
        },
        "4f819d61c2bb47d99a76c1f4563b9294": {
          "model_module": "@jupyter-widgets/controls",
          "model_module_version": "1.5.0",
          "model_name": "DescriptionStyleModel",
          "state": {
            "_model_module": "@jupyter-widgets/controls",
            "_model_module_version": "1.5.0",
            "_model_name": "DescriptionStyleModel",
            "_view_count": null,
            "_view_module": "@jupyter-widgets/base",
            "_view_module_version": "1.2.0",
            "_view_name": "StyleView",
            "description_width": ""
          }
        },
        "50d9a2305bb14863aad5d63482aa4076": {
          "model_module": "@jupyter-widgets/controls",
          "model_module_version": "1.5.0",
          "model_name": "DescriptionStyleModel",
          "state": {
            "_model_module": "@jupyter-widgets/controls",
            "_model_module_version": "1.5.0",
            "_model_name": "DescriptionStyleModel",
            "_view_count": null,
            "_view_module": "@jupyter-widgets/base",
            "_view_module_version": "1.2.0",
            "_view_name": "StyleView",
            "description_width": ""
          }
        },
        "524d47767ba545dab35625cd2c9ac167": {
          "model_module": "@jupyter-widgets/controls",
          "model_module_version": "1.5.0",
          "model_name": "HTMLModel",
          "state": {
            "_dom_classes": [],
            "_model_module": "@jupyter-widgets/controls",
            "_model_module_version": "1.5.0",
            "_model_name": "HTMLModel",
            "_view_count": null,
            "_view_module": "@jupyter-widgets/controls",
            "_view_module_version": "1.5.0",
            "_view_name": "HTMLView",
            "description": "",
            "description_tooltip": null,
            "layout": "IPY_MODEL_28a236c415e4493982dfe5284cc31a00",
            "placeholder": "​",
            "style": "IPY_MODEL_c6d20bf09572479ba2214364dd462e0c",
            "value": " 762/762 [00:00&lt;00:00, 9.42kB/s]"
          }
        },
        "577aed9d82c54879b0ffaa65606f28d1": {
          "model_module": "@jupyter-widgets/controls",
          "model_module_version": "1.5.0",
          "model_name": "FloatProgressModel",
          "state": {
            "_dom_classes": [],
            "_model_module": "@jupyter-widgets/controls",
            "_model_module_version": "1.5.0",
            "_model_name": "FloatProgressModel",
            "_view_count": null,
            "_view_module": "@jupyter-widgets/controls",
            "_view_module_version": "1.5.0",
            "_view_name": "ProgressView",
            "bar_style": "success",
            "description": "",
            "description_tooltip": null,
            "layout": "IPY_MODEL_4899589793ca4dee97f7636dac49e3ba",
            "max": 762,
            "min": 0,
            "orientation": "horizontal",
            "style": "IPY_MODEL_5b658c8ad7194086ac71ce6fef62891c",
            "value": 762
          }
        },
        "5b658c8ad7194086ac71ce6fef62891c": {
          "model_module": "@jupyter-widgets/controls",
          "model_module_version": "1.5.0",
          "model_name": "ProgressStyleModel",
          "state": {
            "_model_module": "@jupyter-widgets/controls",
            "_model_module_version": "1.5.0",
            "_model_name": "ProgressStyleModel",
            "_view_count": null,
            "_view_module": "@jupyter-widgets/base",
            "_view_module_version": "1.2.0",
            "_view_name": "StyleView",
            "bar_color": null,
            "description_width": ""
          }
        },
        "5d1bee3702d34e7daa3da59f31675b7a": {
          "model_module": "@jupyter-widgets/controls",
          "model_module_version": "1.5.0",
          "model_name": "ProgressStyleModel",
          "state": {
            "_model_module": "@jupyter-widgets/controls",
            "_model_module_version": "1.5.0",
            "_model_name": "ProgressStyleModel",
            "_view_count": null,
            "_view_module": "@jupyter-widgets/base",
            "_view_module_version": "1.2.0",
            "_view_name": "StyleView",
            "bar_color": null,
            "description_width": ""
          }
        },
        "5f330a26c56e49f68aa42abc859389d7": {
          "model_module": "@jupyter-widgets/controls",
          "model_module_version": "1.5.0",
          "model_name": "FloatProgressModel",
          "state": {
            "_dom_classes": [],
            "_model_module": "@jupyter-widgets/controls",
            "_model_module_version": "1.5.0",
            "_model_name": "FloatProgressModel",
            "_view_count": null,
            "_view_module": "@jupyter-widgets/controls",
            "_view_module_version": "1.5.0",
            "_view_name": "ProgressView",
            "bar_style": "success",
            "description": "",
            "description_tooltip": null,
            "layout": "IPY_MODEL_3143b5463afa45d88d13f1aa63575423",
            "max": 352824413,
            "min": 0,
            "orientation": "horizontal",
            "style": "IPY_MODEL_5d1bee3702d34e7daa3da59f31675b7a",
            "value": 352824413
          }
        },
        "6a63a8d7d7244ec982676bd0a6f28f7b": {
          "model_module": "@jupyter-widgets/controls",
          "model_module_version": "1.5.0",
          "model_name": "HBoxModel",
          "state": {
            "_dom_classes": [],
            "_model_module": "@jupyter-widgets/controls",
            "_model_module_version": "1.5.0",
            "_model_name": "HBoxModel",
            "_view_count": null,
            "_view_module": "@jupyter-widgets/controls",
            "_view_module_version": "1.5.0",
            "_view_name": "HBoxView",
            "box_style": "",
            "children": [
              "IPY_MODEL_01a9d3706ca042db952e42e9a2000275",
              "IPY_MODEL_d0206a89d6b349c1a72f66c3ce9263d6",
              "IPY_MODEL_2edba9e71948447c9106476fed6423df"
            ],
            "layout": "IPY_MODEL_6e6dfc7666ae44ff961baa7e08b3fb5f"
          }
        },
        "6e6dfc7666ae44ff961baa7e08b3fb5f": {
          "model_module": "@jupyter-widgets/base",
          "model_module_version": "1.2.0",
          "model_name": "LayoutModel",
          "state": {
            "_model_module": "@jupyter-widgets/base",
            "_model_module_version": "1.2.0",
            "_model_name": "LayoutModel",
            "_view_count": null,
            "_view_module": "@jupyter-widgets/base",
            "_view_module_version": "1.2.0",
            "_view_name": "LayoutView",
            "align_content": null,
            "align_items": null,
            "align_self": null,
            "border": null,
            "bottom": null,
            "display": null,
            "flex": null,
            "flex_flow": null,
            "grid_area": null,
            "grid_auto_columns": null,
            "grid_auto_flow": null,
            "grid_auto_rows": null,
            "grid_column": null,
            "grid_gap": null,
            "grid_row": null,
            "grid_template_areas": null,
            "grid_template_columns": null,
            "grid_template_rows": null,
            "height": null,
            "justify_content": null,
            "justify_items": null,
            "left": null,
            "margin": null,
            "max_height": null,
            "max_width": null,
            "min_height": null,
            "min_width": null,
            "object_fit": null,
            "object_position": null,
            "order": null,
            "overflow": null,
            "overflow_x": null,
            "overflow_y": null,
            "padding": null,
            "right": null,
            "top": null,
            "visibility": null,
            "width": null
          }
        },
        "6e778491fc1945c98fe9986a59c20dd3": {
          "model_module": "@jupyter-widgets/controls",
          "model_module_version": "1.5.0",
          "model_name": "HTMLModel",
          "state": {
            "_dom_classes": [],
            "_model_module": "@jupyter-widgets/controls",
            "_model_module_version": "1.5.0",
            "_model_name": "HTMLModel",
            "_view_count": null,
            "_view_module": "@jupyter-widgets/controls",
            "_view_module_version": "1.5.0",
            "_view_name": "HTMLView",
            "description": "",
            "description_tooltip": null,
            "layout": "IPY_MODEL_e515e02151214b8a9df29ed6f2ae038c",
            "placeholder": "​",
            "style": "IPY_MODEL_50d9a2305bb14863aad5d63482aa4076",
            "value": " 124/124 [00:00&lt;00:00, 1.61kB/s]"
          }
        },
        "779f36d03faf4d11811a30ec40719da9": {
          "model_module": "@jupyter-widgets/controls",
          "model_module_version": "1.5.0",
          "model_name": "DescriptionStyleModel",
          "state": {
            "_model_module": "@jupyter-widgets/controls",
            "_model_module_version": "1.5.0",
            "_model_name": "DescriptionStyleModel",
            "_view_count": null,
            "_view_module": "@jupyter-widgets/base",
            "_view_module_version": "1.2.0",
            "_view_name": "StyleView",
            "description_width": ""
          }
        },
        "7ba5f5c603ce4275a1ebe319fafe5922": {
          "model_module": "@jupyter-widgets/controls",
          "model_module_version": "1.5.0",
          "model_name": "ProgressStyleModel",
          "state": {
            "_model_module": "@jupyter-widgets/controls",
            "_model_module_version": "1.5.0",
            "_model_name": "ProgressStyleModel",
            "_view_count": null,
            "_view_module": "@jupyter-widgets/base",
            "_view_module_version": "1.2.0",
            "_view_name": "StyleView",
            "bar_color": null,
            "description_width": ""
          }
        },
        "7be69becf1fb4eff82a88c4d4122c92c": {
          "model_module": "@jupyter-widgets/controls",
          "model_module_version": "1.5.0",
          "model_name": "DescriptionStyleModel",
          "state": {
            "_model_module": "@jupyter-widgets/controls",
            "_model_module_version": "1.5.0",
            "_model_name": "DescriptionStyleModel",
            "_view_count": null,
            "_view_module": "@jupyter-widgets/base",
            "_view_module_version": "1.2.0",
            "_view_name": "StyleView",
            "description_width": ""
          }
        },
        "80c91d66d4c04657903f74b1cd7313e1": {
          "model_module": "@jupyter-widgets/base",
          "model_module_version": "1.2.0",
          "model_name": "LayoutModel",
          "state": {
            "_model_module": "@jupyter-widgets/base",
            "_model_module_version": "1.2.0",
            "_model_name": "LayoutModel",
            "_view_count": null,
            "_view_module": "@jupyter-widgets/base",
            "_view_module_version": "1.2.0",
            "_view_name": "LayoutView",
            "align_content": null,
            "align_items": null,
            "align_self": null,
            "border": null,
            "bottom": null,
            "display": null,
            "flex": null,
            "flex_flow": null,
            "grid_area": null,
            "grid_auto_columns": null,
            "grid_auto_flow": null,
            "grid_auto_rows": null,
            "grid_column": null,
            "grid_gap": null,
            "grid_row": null,
            "grid_template_areas": null,
            "grid_template_columns": null,
            "grid_template_rows": null,
            "height": null,
            "justify_content": null,
            "justify_items": null,
            "left": null,
            "margin": null,
            "max_height": null,
            "max_width": null,
            "min_height": null,
            "min_width": null,
            "object_fit": null,
            "object_position": null,
            "order": null,
            "overflow": null,
            "overflow_x": null,
            "overflow_y": null,
            "padding": null,
            "right": null,
            "top": null,
            "visibility": null,
            "width": null
          }
        },
        "83611da899304bf6ad2244db78d8274f": {
          "model_module": "@jupyter-widgets/controls",
          "model_module_version": "1.5.0",
          "model_name": "HTMLModel",
          "state": {
            "_dom_classes": [],
            "_model_module": "@jupyter-widgets/controls",
            "_model_module_version": "1.5.0",
            "_model_name": "HTMLModel",
            "_view_count": null,
            "_view_module": "@jupyter-widgets/controls",
            "_view_module_version": "1.5.0",
            "_view_name": "HTMLView",
            "description": "",
            "description_tooltip": null,
            "layout": "IPY_MODEL_196b9258ba2a45f7bb05afac5c097a34",
            "placeholder": "​",
            "style": "IPY_MODEL_4f819d61c2bb47d99a76c1f4563b9294",
            "value": "vocab.json: 100%"
          }
        },
        "849cdbe8824442c09f7bca7fe01ba0d7": {
          "model_module": "@jupyter-widgets/base",
          "model_module_version": "1.2.0",
          "model_name": "LayoutModel",
          "state": {
            "_model_module": "@jupyter-widgets/base",
            "_model_module_version": "1.2.0",
            "_model_name": "LayoutModel",
            "_view_count": null,
            "_view_module": "@jupyter-widgets/base",
            "_view_module_version": "1.2.0",
            "_view_name": "LayoutView",
            "align_content": null,
            "align_items": null,
            "align_self": null,
            "border": null,
            "bottom": null,
            "display": null,
            "flex": null,
            "flex_flow": null,
            "grid_area": null,
            "grid_auto_columns": null,
            "grid_auto_flow": null,
            "grid_auto_rows": null,
            "grid_column": null,
            "grid_gap": null,
            "grid_row": null,
            "grid_template_areas": null,
            "grid_template_columns": null,
            "grid_template_rows": null,
            "height": null,
            "justify_content": null,
            "justify_items": null,
            "left": null,
            "margin": null,
            "max_height": null,
            "max_width": null,
            "min_height": null,
            "min_width": null,
            "object_fit": null,
            "object_position": null,
            "order": null,
            "overflow": null,
            "overflow_x": null,
            "overflow_y": null,
            "padding": null,
            "right": null,
            "top": null,
            "visibility": null,
            "width": null
          }
        },
        "8b481ff44c7642ab97ba66a8e23633a7": {
          "model_module": "@jupyter-widgets/base",
          "model_module_version": "1.2.0",
          "model_name": "LayoutModel",
          "state": {
            "_model_module": "@jupyter-widgets/base",
            "_model_module_version": "1.2.0",
            "_model_name": "LayoutModel",
            "_view_count": null,
            "_view_module": "@jupyter-widgets/base",
            "_view_module_version": "1.2.0",
            "_view_name": "LayoutView",
            "align_content": null,
            "align_items": null,
            "align_self": null,
            "border": null,
            "bottom": null,
            "display": null,
            "flex": null,
            "flex_flow": null,
            "grid_area": null,
            "grid_auto_columns": null,
            "grid_auto_flow": null,
            "grid_auto_rows": null,
            "grid_column": null,
            "grid_gap": null,
            "grid_row": null,
            "grid_template_areas": null,
            "grid_template_columns": null,
            "grid_template_rows": null,
            "height": null,
            "justify_content": null,
            "justify_items": null,
            "left": null,
            "margin": null,
            "max_height": null,
            "max_width": null,
            "min_height": null,
            "min_width": null,
            "object_fit": null,
            "object_position": null,
            "order": null,
            "overflow": null,
            "overflow_x": null,
            "overflow_y": null,
            "padding": null,
            "right": null,
            "top": null,
            "visibility": null,
            "width": null
          }
        },
        "8bd33c8ac6374fd1bb4c6452f760cb42": {
          "model_module": "@jupyter-widgets/base",
          "model_module_version": "1.2.0",
          "model_name": "LayoutModel",
          "state": {
            "_model_module": "@jupyter-widgets/base",
            "_model_module_version": "1.2.0",
            "_model_name": "LayoutModel",
            "_view_count": null,
            "_view_module": "@jupyter-widgets/base",
            "_view_module_version": "1.2.0",
            "_view_name": "LayoutView",
            "align_content": null,
            "align_items": null,
            "align_self": null,
            "border": null,
            "bottom": null,
            "display": null,
            "flex": null,
            "flex_flow": null,
            "grid_area": null,
            "grid_auto_columns": null,
            "grid_auto_flow": null,
            "grid_auto_rows": null,
            "grid_column": null,
            "grid_gap": null,
            "grid_row": null,
            "grid_template_areas": null,
            "grid_template_columns": null,
            "grid_template_rows": null,
            "height": null,
            "justify_content": null,
            "justify_items": null,
            "left": null,
            "margin": null,
            "max_height": null,
            "max_width": null,
            "min_height": null,
            "min_width": null,
            "object_fit": null,
            "object_position": null,
            "order": null,
            "overflow": null,
            "overflow_x": null,
            "overflow_y": null,
            "padding": null,
            "right": null,
            "top": null,
            "visibility": null,
            "width": null
          }
        },
        "8ee30368d9274274bb21cb211f304a43": {
          "model_module": "@jupyter-widgets/controls",
          "model_module_version": "1.5.0",
          "model_name": "DescriptionStyleModel",
          "state": {
            "_model_module": "@jupyter-widgets/controls",
            "_model_module_version": "1.5.0",
            "_model_name": "DescriptionStyleModel",
            "_view_count": null,
            "_view_module": "@jupyter-widgets/base",
            "_view_module_version": "1.2.0",
            "_view_name": "StyleView",
            "description_width": ""
          }
        },
        "8f90171558514470ba1676d8a11af055": {
          "model_module": "@jupyter-widgets/controls",
          "model_module_version": "1.5.0",
          "model_name": "DescriptionStyleModel",
          "state": {
            "_model_module": "@jupyter-widgets/controls",
            "_model_module_version": "1.5.0",
            "_model_name": "DescriptionStyleModel",
            "_view_count": null,
            "_view_module": "@jupyter-widgets/base",
            "_view_module_version": "1.2.0",
            "_view_name": "StyleView",
            "description_width": ""
          }
        },
        "908bbeff10394f1482b25e475ab2db87": {
          "model_module": "@jupyter-widgets/controls",
          "model_module_version": "1.5.0",
          "model_name": "ProgressStyleModel",
          "state": {
            "_model_module": "@jupyter-widgets/controls",
            "_model_module_version": "1.5.0",
            "_model_name": "ProgressStyleModel",
            "_view_count": null,
            "_view_module": "@jupyter-widgets/base",
            "_view_module_version": "1.2.0",
            "_view_name": "StyleView",
            "bar_color": null,
            "description_width": ""
          }
        },
        "9509e699d31143fb9017a752df207dda": {
          "model_module": "@jupyter-widgets/controls",
          "model_module_version": "1.5.0",
          "model_name": "DescriptionStyleModel",
          "state": {
            "_model_module": "@jupyter-widgets/controls",
            "_model_module_version": "1.5.0",
            "_model_name": "DescriptionStyleModel",
            "_view_count": null,
            "_view_module": "@jupyter-widgets/base",
            "_view_module_version": "1.2.0",
            "_view_name": "StyleView",
            "description_width": ""
          }
        },
        "9ca2a19352d84dc7aa7a69b564aceabd": {
          "model_module": "@jupyter-widgets/base",
          "model_module_version": "1.2.0",
          "model_name": "LayoutModel",
          "state": {
            "_model_module": "@jupyter-widgets/base",
            "_model_module_version": "1.2.0",
            "_model_name": "LayoutModel",
            "_view_count": null,
            "_view_module": "@jupyter-widgets/base",
            "_view_module_version": "1.2.0",
            "_view_name": "LayoutView",
            "align_content": null,
            "align_items": null,
            "align_self": null,
            "border": null,
            "bottom": null,
            "display": null,
            "flex": null,
            "flex_flow": null,
            "grid_area": null,
            "grid_auto_columns": null,
            "grid_auto_flow": null,
            "grid_auto_rows": null,
            "grid_column": null,
            "grid_gap": null,
            "grid_row": null,
            "grid_template_areas": null,
            "grid_template_columns": null,
            "grid_template_rows": null,
            "height": null,
            "justify_content": null,
            "justify_items": null,
            "left": null,
            "margin": null,
            "max_height": null,
            "max_width": null,
            "min_height": null,
            "min_width": null,
            "object_fit": null,
            "object_position": null,
            "order": null,
            "overflow": null,
            "overflow_x": null,
            "overflow_y": null,
            "padding": null,
            "right": null,
            "top": null,
            "visibility": null,
            "width": null
          }
        },
        "9e2563c24e13433d8edf0137368ed7b2": {
          "model_module": "@jupyter-widgets/base",
          "model_module_version": "1.2.0",
          "model_name": "LayoutModel",
          "state": {
            "_model_module": "@jupyter-widgets/base",
            "_model_module_version": "1.2.0",
            "_model_name": "LayoutModel",
            "_view_count": null,
            "_view_module": "@jupyter-widgets/base",
            "_view_module_version": "1.2.0",
            "_view_name": "LayoutView",
            "align_content": null,
            "align_items": null,
            "align_self": null,
            "border": null,
            "bottom": null,
            "display": null,
            "flex": null,
            "flex_flow": null,
            "grid_area": null,
            "grid_auto_columns": null,
            "grid_auto_flow": null,
            "grid_auto_rows": null,
            "grid_column": null,
            "grid_gap": null,
            "grid_row": null,
            "grid_template_areas": null,
            "grid_template_columns": null,
            "grid_template_rows": null,
            "height": null,
            "justify_content": null,
            "justify_items": null,
            "left": null,
            "margin": null,
            "max_height": null,
            "max_width": null,
            "min_height": null,
            "min_width": null,
            "object_fit": null,
            "object_position": null,
            "order": null,
            "overflow": null,
            "overflow_x": null,
            "overflow_y": null,
            "padding": null,
            "right": null,
            "top": null,
            "visibility": null,
            "width": null
          }
        },
        "9e2d861814a74f109f8758a5e02c8b8a": {
          "model_module": "@jupyter-widgets/controls",
          "model_module_version": "1.5.0",
          "model_name": "HBoxModel",
          "state": {
            "_dom_classes": [],
            "_model_module": "@jupyter-widgets/controls",
            "_model_module_version": "1.5.0",
            "_model_name": "HBoxModel",
            "_view_count": null,
            "_view_module": "@jupyter-widgets/controls",
            "_view_module_version": "1.5.0",
            "_view_name": "HBoxView",
            "box_style": "",
            "children": [
              "IPY_MODEL_83611da899304bf6ad2244db78d8274f",
              "IPY_MODEL_37fa7a3b670747c080964a1730c276fe",
              "IPY_MODEL_037b374142d5420ab54d0259c762a550"
            ],
            "layout": "IPY_MODEL_bbab8dd5715845839780c854ecc9a34b"
          }
        },
        "9e918353dbd74a67b832339ffa3c02fb": {
          "model_module": "@jupyter-widgets/controls",
          "model_module_version": "1.5.0",
          "model_name": "DescriptionStyleModel",
          "state": {
            "_model_module": "@jupyter-widgets/controls",
            "_model_module_version": "1.5.0",
            "_model_name": "DescriptionStyleModel",
            "_view_count": null,
            "_view_module": "@jupyter-widgets/base",
            "_view_module_version": "1.2.0",
            "_view_name": "StyleView",
            "description_width": ""
          }
        },
        "a37985891e7946459a5d7023d0d3e265": {
          "model_module": "@jupyter-widgets/base",
          "model_module_version": "1.2.0",
          "model_name": "LayoutModel",
          "state": {
            "_model_module": "@jupyter-widgets/base",
            "_model_module_version": "1.2.0",
            "_model_name": "LayoutModel",
            "_view_count": null,
            "_view_module": "@jupyter-widgets/base",
            "_view_module_version": "1.2.0",
            "_view_name": "LayoutView",
            "align_content": null,
            "align_items": null,
            "align_self": null,
            "border": null,
            "bottom": null,
            "display": null,
            "flex": null,
            "flex_flow": null,
            "grid_area": null,
            "grid_auto_columns": null,
            "grid_auto_flow": null,
            "grid_auto_rows": null,
            "grid_column": null,
            "grid_gap": null,
            "grid_row": null,
            "grid_template_areas": null,
            "grid_template_columns": null,
            "grid_template_rows": null,
            "height": null,
            "justify_content": null,
            "justify_items": null,
            "left": null,
            "margin": null,
            "max_height": null,
            "max_width": null,
            "min_height": null,
            "min_width": null,
            "object_fit": null,
            "object_position": null,
            "order": null,
            "overflow": null,
            "overflow_x": null,
            "overflow_y": null,
            "padding": null,
            "right": null,
            "top": null,
            "visibility": null,
            "width": null
          }
        },
        "a636199b71be47d2b90402bbb90a6cdf": {
          "model_module": "@jupyter-widgets/base",
          "model_module_version": "1.2.0",
          "model_name": "LayoutModel",
          "state": {
            "_model_module": "@jupyter-widgets/base",
            "_model_module_version": "1.2.0",
            "_model_name": "LayoutModel",
            "_view_count": null,
            "_view_module": "@jupyter-widgets/base",
            "_view_module_version": "1.2.0",
            "_view_name": "LayoutView",
            "align_content": null,
            "align_items": null,
            "align_self": null,
            "border": null,
            "bottom": null,
            "display": null,
            "flex": null,
            "flex_flow": null,
            "grid_area": null,
            "grid_auto_columns": null,
            "grid_auto_flow": null,
            "grid_auto_rows": null,
            "grid_column": null,
            "grid_gap": null,
            "grid_row": null,
            "grid_template_areas": null,
            "grid_template_columns": null,
            "grid_template_rows": null,
            "height": null,
            "justify_content": null,
            "justify_items": null,
            "left": null,
            "margin": null,
            "max_height": null,
            "max_width": null,
            "min_height": null,
            "min_width": null,
            "object_fit": null,
            "object_position": null,
            "order": null,
            "overflow": null,
            "overflow_x": null,
            "overflow_y": null,
            "padding": null,
            "right": null,
            "top": null,
            "visibility": null,
            "width": null
          }
        },
        "a8bea6bec9f042a0b053b8a55e36d039": {
          "model_module": "@jupyter-widgets/base",
          "model_module_version": "1.2.0",
          "model_name": "LayoutModel",
          "state": {
            "_model_module": "@jupyter-widgets/base",
            "_model_module_version": "1.2.0",
            "_model_name": "LayoutModel",
            "_view_count": null,
            "_view_module": "@jupyter-widgets/base",
            "_view_module_version": "1.2.0",
            "_view_name": "LayoutView",
            "align_content": null,
            "align_items": null,
            "align_self": null,
            "border": null,
            "bottom": null,
            "display": null,
            "flex": null,
            "flex_flow": null,
            "grid_area": null,
            "grid_auto_columns": null,
            "grid_auto_flow": null,
            "grid_auto_rows": null,
            "grid_column": null,
            "grid_gap": null,
            "grid_row": null,
            "grid_template_areas": null,
            "grid_template_columns": null,
            "grid_template_rows": null,
            "height": null,
            "justify_content": null,
            "justify_items": null,
            "left": null,
            "margin": null,
            "max_height": null,
            "max_width": null,
            "min_height": null,
            "min_width": null,
            "object_fit": null,
            "object_position": null,
            "order": null,
            "overflow": null,
            "overflow_x": null,
            "overflow_y": null,
            "padding": null,
            "right": null,
            "top": null,
            "visibility": null,
            "width": null
          }
        },
        "a8da0b5c0a5041e48488fe8378ee7d04": {
          "model_module": "@jupyter-widgets/base",
          "model_module_version": "1.2.0",
          "model_name": "LayoutModel",
          "state": {
            "_model_module": "@jupyter-widgets/base",
            "_model_module_version": "1.2.0",
            "_model_name": "LayoutModel",
            "_view_count": null,
            "_view_module": "@jupyter-widgets/base",
            "_view_module_version": "1.2.0",
            "_view_name": "LayoutView",
            "align_content": null,
            "align_items": null,
            "align_self": null,
            "border": null,
            "bottom": null,
            "display": null,
            "flex": null,
            "flex_flow": null,
            "grid_area": null,
            "grid_auto_columns": null,
            "grid_auto_flow": null,
            "grid_auto_rows": null,
            "grid_column": null,
            "grid_gap": null,
            "grid_row": null,
            "grid_template_areas": null,
            "grid_template_columns": null,
            "grid_template_rows": null,
            "height": null,
            "justify_content": null,
            "justify_items": null,
            "left": null,
            "margin": null,
            "max_height": null,
            "max_width": null,
            "min_height": null,
            "min_width": null,
            "object_fit": null,
            "object_position": null,
            "order": null,
            "overflow": null,
            "overflow_x": null,
            "overflow_y": null,
            "padding": null,
            "right": null,
            "top": null,
            "visibility": null,
            "width": null
          }
        },
        "a95bbde7d8fa4a7f909f3ab6ed4dea3b": {
          "model_module": "@jupyter-widgets/controls",
          "model_module_version": "1.5.0",
          "model_name": "DescriptionStyleModel",
          "state": {
            "_model_module": "@jupyter-widgets/controls",
            "_model_module_version": "1.5.0",
            "_model_name": "DescriptionStyleModel",
            "_view_count": null,
            "_view_module": "@jupyter-widgets/base",
            "_view_module_version": "1.2.0",
            "_view_name": "StyleView",
            "description_width": ""
          }
        },
        "b0016e8394c249d9b4285345da50fc0f": {
          "model_module": "@jupyter-widgets/controls",
          "model_module_version": "1.5.0",
          "model_name": "HTMLModel",
          "state": {
            "_dom_classes": [],
            "_model_module": "@jupyter-widgets/controls",
            "_model_module_version": "1.5.0",
            "_model_name": "HTMLModel",
            "_view_count": null,
            "_view_module": "@jupyter-widgets/controls",
            "_view_module_version": "1.5.0",
            "_view_name": "HTMLView",
            "description": "",
            "description_tooltip": null,
            "layout": "IPY_MODEL_9e2563c24e13433d8edf0137368ed7b2",
            "placeholder": "​",
            "style": "IPY_MODEL_01ca8f144a824b4d920dd17eeaed13b4",
            "value": " 26.0/26.0 [00:00&lt;00:00, 391B/s]"
          }
        },
        "b716ced275c342c0811aaca388dd0dad": {
          "model_module": "@jupyter-widgets/controls",
          "model_module_version": "1.5.0",
          "model_name": "HTMLModel",
          "state": {
            "_dom_classes": [],
            "_model_module": "@jupyter-widgets/controls",
            "_model_module_version": "1.5.0",
            "_model_name": "HTMLModel",
            "_view_count": null,
            "_view_module": "@jupyter-widgets/controls",
            "_view_module_version": "1.5.0",
            "_view_name": "HTMLView",
            "description": "",
            "description_tooltip": null,
            "layout": "IPY_MODEL_a37985891e7946459a5d7023d0d3e265",
            "placeholder": "​",
            "style": "IPY_MODEL_a95bbde7d8fa4a7f909f3ab6ed4dea3b",
            "value": " 353M/353M [00:04&lt;00:00, 83.8MB/s]"
          }
        },
        "ba6a91be006e43219d42dbcb19e3fa34": {
          "model_module": "@jupyter-widgets/controls",
          "model_module_version": "1.5.0",
          "model_name": "HTMLModel",
          "state": {
            "_dom_classes": [],
            "_model_module": "@jupyter-widgets/controls",
            "_model_module_version": "1.5.0",
            "_model_name": "HTMLModel",
            "_view_count": null,
            "_view_module": "@jupyter-widgets/controls",
            "_view_module_version": "1.5.0",
            "_view_name": "HTMLView",
            "description": "",
            "description_tooltip": null,
            "layout": "IPY_MODEL_a8bea6bec9f042a0b053b8a55e36d039",
            "placeholder": "​",
            "style": "IPY_MODEL_f2c51f8ac41c45928ad90d2bc7ce04de",
            "value": "merges.txt: 100%"
          }
        },
        "bbab8dd5715845839780c854ecc9a34b": {
          "model_module": "@jupyter-widgets/base",
          "model_module_version": "1.2.0",
          "model_name": "LayoutModel",
          "state": {
            "_model_module": "@jupyter-widgets/base",
            "_model_module_version": "1.2.0",
            "_model_name": "LayoutModel",
            "_view_count": null,
            "_view_module": "@jupyter-widgets/base",
            "_view_module_version": "1.2.0",
            "_view_name": "LayoutView",
            "align_content": null,
            "align_items": null,
            "align_self": null,
            "border": null,
            "bottom": null,
            "display": null,
            "flex": null,
            "flex_flow": null,
            "grid_area": null,
            "grid_auto_columns": null,
            "grid_auto_flow": null,
            "grid_auto_rows": null,
            "grid_column": null,
            "grid_gap": null,
            "grid_row": null,
            "grid_template_areas": null,
            "grid_template_columns": null,
            "grid_template_rows": null,
            "height": null,
            "justify_content": null,
            "justify_items": null,
            "left": null,
            "margin": null,
            "max_height": null,
            "max_width": null,
            "min_height": null,
            "min_width": null,
            "object_fit": null,
            "object_position": null,
            "order": null,
            "overflow": null,
            "overflow_x": null,
            "overflow_y": null,
            "padding": null,
            "right": null,
            "top": null,
            "visibility": null,
            "width": null
          }
        },
        "bf91c1c8ae3040309423133637c64287": {
          "model_module": "@jupyter-widgets/controls",
          "model_module_version": "1.5.0",
          "model_name": "ProgressStyleModel",
          "state": {
            "_model_module": "@jupyter-widgets/controls",
            "_model_module_version": "1.5.0",
            "_model_name": "ProgressStyleModel",
            "_view_count": null,
            "_view_module": "@jupyter-widgets/base",
            "_view_module_version": "1.2.0",
            "_view_name": "StyleView",
            "bar_color": null,
            "description_width": ""
          }
        },
        "c6d20bf09572479ba2214364dd462e0c": {
          "model_module": "@jupyter-widgets/controls",
          "model_module_version": "1.5.0",
          "model_name": "DescriptionStyleModel",
          "state": {
            "_model_module": "@jupyter-widgets/controls",
            "_model_module_version": "1.5.0",
            "_model_name": "DescriptionStyleModel",
            "_view_count": null,
            "_view_module": "@jupyter-widgets/base",
            "_view_module_version": "1.2.0",
            "_view_name": "StyleView",
            "description_width": ""
          }
        },
        "c77a01bb521f4d42aff7c50ebf22fa0c": {
          "model_module": "@jupyter-widgets/controls",
          "model_module_version": "1.5.0",
          "model_name": "DescriptionStyleModel",
          "state": {
            "_model_module": "@jupyter-widgets/controls",
            "_model_module_version": "1.5.0",
            "_model_name": "DescriptionStyleModel",
            "_view_count": null,
            "_view_module": "@jupyter-widgets/base",
            "_view_module_version": "1.2.0",
            "_view_name": "StyleView",
            "description_width": ""
          }
        },
        "cb15c22ed2d947a7a8c421f78c353d02": {
          "model_module": "@jupyter-widgets/base",
          "model_module_version": "1.2.0",
          "model_name": "LayoutModel",
          "state": {
            "_model_module": "@jupyter-widgets/base",
            "_model_module_version": "1.2.0",
            "_model_name": "LayoutModel",
            "_view_count": null,
            "_view_module": "@jupyter-widgets/base",
            "_view_module_version": "1.2.0",
            "_view_name": "LayoutView",
            "align_content": null,
            "align_items": null,
            "align_self": null,
            "border": null,
            "bottom": null,
            "display": null,
            "flex": null,
            "flex_flow": null,
            "grid_area": null,
            "grid_auto_columns": null,
            "grid_auto_flow": null,
            "grid_auto_rows": null,
            "grid_column": null,
            "grid_gap": null,
            "grid_row": null,
            "grid_template_areas": null,
            "grid_template_columns": null,
            "grid_template_rows": null,
            "height": null,
            "justify_content": null,
            "justify_items": null,
            "left": null,
            "margin": null,
            "max_height": null,
            "max_width": null,
            "min_height": null,
            "min_width": null,
            "object_fit": null,
            "object_position": null,
            "order": null,
            "overflow": null,
            "overflow_x": null,
            "overflow_y": null,
            "padding": null,
            "right": null,
            "top": null,
            "visibility": null,
            "width": null
          }
        },
        "d00b04e5dfe74ac28b158531146778d7": {
          "model_module": "@jupyter-widgets/controls",
          "model_module_version": "1.5.0",
          "model_name": "HTMLModel",
          "state": {
            "_dom_classes": [],
            "_model_module": "@jupyter-widgets/controls",
            "_model_module_version": "1.5.0",
            "_model_name": "HTMLModel",
            "_view_count": null,
            "_view_module": "@jupyter-widgets/controls",
            "_view_module_version": "1.5.0",
            "_view_name": "HTMLView",
            "description": "",
            "description_tooltip": null,
            "layout": "IPY_MODEL_80c91d66d4c04657903f74b1cd7313e1",
            "placeholder": "​",
            "style": "IPY_MODEL_1f0b52fafca14afcac34737612f7696a",
            "value": "generation_config.json: 100%"
          }
        },
        "d0206a89d6b349c1a72f66c3ce9263d6": {
          "model_module": "@jupyter-widgets/controls",
          "model_module_version": "1.5.0",
          "model_name": "FloatProgressModel",
          "state": {
            "_dom_classes": [],
            "_model_module": "@jupyter-widgets/controls",
            "_model_module_version": "1.5.0",
            "_model_name": "FloatProgressModel",
            "_view_count": null,
            "_view_module": "@jupyter-widgets/controls",
            "_view_module_version": "1.5.0",
            "_view_name": "ProgressView",
            "bar_style": "success",
            "description": "",
            "description_tooltip": null,
            "layout": "IPY_MODEL_8b481ff44c7642ab97ba66a8e23633a7",
            "max": 1355256,
            "min": 0,
            "orientation": "horizontal",
            "style": "IPY_MODEL_7ba5f5c603ce4275a1ebe319fafe5922",
            "value": 1355256
          }
        },
        "d0a4f28bd71c4abe819624ca59172201": {
          "model_module": "@jupyter-widgets/controls",
          "model_module_version": "1.5.0",
          "model_name": "FloatProgressModel",
          "state": {
            "_dom_classes": [],
            "_model_module": "@jupyter-widgets/controls",
            "_model_module_version": "1.5.0",
            "_model_name": "FloatProgressModel",
            "_view_count": null,
            "_view_module": "@jupyter-widgets/controls",
            "_view_module_version": "1.5.0",
            "_view_name": "ProgressView",
            "bar_style": "success",
            "description": "",
            "description_tooltip": null,
            "layout": "IPY_MODEL_a8da0b5c0a5041e48488fe8378ee7d04",
            "max": 26,
            "min": 0,
            "orientation": "horizontal",
            "style": "IPY_MODEL_bf91c1c8ae3040309423133637c64287",
            "value": 26
          }
        },
        "d1bf79bd79e54670a99851701bf2cba0": {
          "model_module": "@jupyter-widgets/controls",
          "model_module_version": "1.5.0",
          "model_name": "HTMLModel",
          "state": {
            "_dom_classes": [],
            "_model_module": "@jupyter-widgets/controls",
            "_model_module_version": "1.5.0",
            "_model_name": "HTMLModel",
            "_view_count": null,
            "_view_module": "@jupyter-widgets/controls",
            "_view_module_version": "1.5.0",
            "_view_name": "HTMLView",
            "description": "",
            "description_tooltip": null,
            "layout": "IPY_MODEL_f4d13d0c939746d1b698ca2623c4d846",
            "placeholder": "​",
            "style": "IPY_MODEL_c77a01bb521f4d42aff7c50ebf22fa0c",
            "value": "model.safetensors: 100%"
          }
        },
        "d2ee307973314716a27997413fefc132": {
          "model_module": "@jupyter-widgets/controls",
          "model_module_version": "1.5.0",
          "model_name": "HTMLModel",
          "state": {
            "_dom_classes": [],
            "_model_module": "@jupyter-widgets/controls",
            "_model_module_version": "1.5.0",
            "_model_name": "HTMLModel",
            "_view_count": null,
            "_view_module": "@jupyter-widgets/controls",
            "_view_module_version": "1.5.0",
            "_view_name": "HTMLView",
            "description": "",
            "description_tooltip": null,
            "layout": "IPY_MODEL_8bd33c8ac6374fd1bb4c6452f760cb42",
            "placeholder": "​",
            "style": "IPY_MODEL_8ee30368d9274274bb21cb211f304a43",
            "value": "config.json: 100%"
          }
        },
        "dd1c05db51c3478a84d5407312ac590e": {
          "model_module": "@jupyter-widgets/base",
          "model_module_version": "1.2.0",
          "model_name": "LayoutModel",
          "state": {
            "_model_module": "@jupyter-widgets/base",
            "_model_module_version": "1.2.0",
            "_model_name": "LayoutModel",
            "_view_count": null,
            "_view_module": "@jupyter-widgets/base",
            "_view_module_version": "1.2.0",
            "_view_name": "LayoutView",
            "align_content": null,
            "align_items": null,
            "align_self": null,
            "border": null,
            "bottom": null,
            "display": null,
            "flex": null,
            "flex_flow": null,
            "grid_area": null,
            "grid_auto_columns": null,
            "grid_auto_flow": null,
            "grid_auto_rows": null,
            "grid_column": null,
            "grid_gap": null,
            "grid_row": null,
            "grid_template_areas": null,
            "grid_template_columns": null,
            "grid_template_rows": null,
            "height": null,
            "justify_content": null,
            "justify_items": null,
            "left": null,
            "margin": null,
            "max_height": null,
            "max_width": null,
            "min_height": null,
            "min_width": null,
            "object_fit": null,
            "object_position": null,
            "order": null,
            "overflow": null,
            "overflow_x": null,
            "overflow_y": null,
            "padding": null,
            "right": null,
            "top": null,
            "visibility": null,
            "width": null
          }
        },
        "e4467203590341acb5c490cc233b17d5": {
          "model_module": "@jupyter-widgets/controls",
          "model_module_version": "1.5.0",
          "model_name": "HBoxModel",
          "state": {
            "_dom_classes": [],
            "_model_module": "@jupyter-widgets/controls",
            "_model_module_version": "1.5.0",
            "_model_name": "HBoxModel",
            "_view_count": null,
            "_view_module": "@jupyter-widgets/controls",
            "_view_module_version": "1.5.0",
            "_view_name": "HBoxView",
            "box_style": "",
            "children": [
              "IPY_MODEL_ba6a91be006e43219d42dbcb19e3fa34",
              "IPY_MODEL_1eef0fa937fd41e2be1fd948704f4d02",
              "IPY_MODEL_2dfea76b73654384affd18871dc87fd5"
            ],
            "layout": "IPY_MODEL_0e8c90ff362f4bf296475b914fa16593"
          }
        },
        "e515e02151214b8a9df29ed6f2ae038c": {
          "model_module": "@jupyter-widgets/base",
          "model_module_version": "1.2.0",
          "model_name": "LayoutModel",
          "state": {
            "_model_module": "@jupyter-widgets/base",
            "_model_module_version": "1.2.0",
            "_model_name": "LayoutModel",
            "_view_count": null,
            "_view_module": "@jupyter-widgets/base",
            "_view_module_version": "1.2.0",
            "_view_name": "LayoutView",
            "align_content": null,
            "align_items": null,
            "align_self": null,
            "border": null,
            "bottom": null,
            "display": null,
            "flex": null,
            "flex_flow": null,
            "grid_area": null,
            "grid_auto_columns": null,
            "grid_auto_flow": null,
            "grid_auto_rows": null,
            "grid_column": null,
            "grid_gap": null,
            "grid_row": null,
            "grid_template_areas": null,
            "grid_template_columns": null,
            "grid_template_rows": null,
            "height": null,
            "justify_content": null,
            "justify_items": null,
            "left": null,
            "margin": null,
            "max_height": null,
            "max_width": null,
            "min_height": null,
            "min_width": null,
            "object_fit": null,
            "object_position": null,
            "order": null,
            "overflow": null,
            "overflow_x": null,
            "overflow_y": null,
            "padding": null,
            "right": null,
            "top": null,
            "visibility": null,
            "width": null
          }
        },
        "e8a54da2d0104563b92a597f0d269302": {
          "model_module": "@jupyter-widgets/controls",
          "model_module_version": "1.5.0",
          "model_name": "FloatProgressModel",
          "state": {
            "_dom_classes": [],
            "_model_module": "@jupyter-widgets/controls",
            "_model_module_version": "1.5.0",
            "_model_name": "FloatProgressModel",
            "_view_count": null,
            "_view_module": "@jupyter-widgets/controls",
            "_view_module_version": "1.5.0",
            "_view_name": "ProgressView",
            "bar_style": "success",
            "description": "",
            "description_tooltip": null,
            "layout": "IPY_MODEL_17225df9cfb445d19db42b2d1502956a",
            "max": 124,
            "min": 0,
            "orientation": "horizontal",
            "style": "IPY_MODEL_908bbeff10394f1482b25e475ab2db87",
            "value": 124
          }
        },
        "eeb3f10d9aa34779a8123ccf6fceed0b": {
          "model_module": "@jupyter-widgets/base",
          "model_module_version": "1.2.0",
          "model_name": "LayoutModel",
          "state": {
            "_model_module": "@jupyter-widgets/base",
            "_model_module_version": "1.2.0",
            "_model_name": "LayoutModel",
            "_view_count": null,
            "_view_module": "@jupyter-widgets/base",
            "_view_module_version": "1.2.0",
            "_view_name": "LayoutView",
            "align_content": null,
            "align_items": null,
            "align_self": null,
            "border": null,
            "bottom": null,
            "display": null,
            "flex": null,
            "flex_flow": null,
            "grid_area": null,
            "grid_auto_columns": null,
            "grid_auto_flow": null,
            "grid_auto_rows": null,
            "grid_column": null,
            "grid_gap": null,
            "grid_row": null,
            "grid_template_areas": null,
            "grid_template_columns": null,
            "grid_template_rows": null,
            "height": null,
            "justify_content": null,
            "justify_items": null,
            "left": null,
            "margin": null,
            "max_height": null,
            "max_width": null,
            "min_height": null,
            "min_width": null,
            "object_fit": null,
            "object_position": null,
            "order": null,
            "overflow": null,
            "overflow_x": null,
            "overflow_y": null,
            "padding": null,
            "right": null,
            "top": null,
            "visibility": null,
            "width": null
          }
        },
        "f2c51f8ac41c45928ad90d2bc7ce04de": {
          "model_module": "@jupyter-widgets/controls",
          "model_module_version": "1.5.0",
          "model_name": "DescriptionStyleModel",
          "state": {
            "_model_module": "@jupyter-widgets/controls",
            "_model_module_version": "1.5.0",
            "_model_name": "DescriptionStyleModel",
            "_view_count": null,
            "_view_module": "@jupyter-widgets/base",
            "_view_module_version": "1.2.0",
            "_view_name": "StyleView",
            "description_width": ""
          }
        },
        "f4d13d0c939746d1b698ca2623c4d846": {
          "model_module": "@jupyter-widgets/base",
          "model_module_version": "1.2.0",
          "model_name": "LayoutModel",
          "state": {
            "_model_module": "@jupyter-widgets/base",
            "_model_module_version": "1.2.0",
            "_model_name": "LayoutModel",
            "_view_count": null,
            "_view_module": "@jupyter-widgets/base",
            "_view_module_version": "1.2.0",
            "_view_name": "LayoutView",
            "align_content": null,
            "align_items": null,
            "align_self": null,
            "border": null,
            "bottom": null,
            "display": null,
            "flex": null,
            "flex_flow": null,
            "grid_area": null,
            "grid_auto_columns": null,
            "grid_auto_flow": null,
            "grid_auto_rows": null,
            "grid_column": null,
            "grid_gap": null,
            "grid_row": null,
            "grid_template_areas": null,
            "grid_template_columns": null,
            "grid_template_rows": null,
            "height": null,
            "justify_content": null,
            "justify_items": null,
            "left": null,
            "margin": null,
            "max_height": null,
            "max_width": null,
            "min_height": null,
            "min_width": null,
            "object_fit": null,
            "object_position": null,
            "order": null,
            "overflow": null,
            "overflow_x": null,
            "overflow_y": null,
            "padding": null,
            "right": null,
            "top": null,
            "visibility": null,
            "width": null
          }
        }
      }
    }
  },
  "nbformat": 4,
  "nbformat_minor": 0
}
